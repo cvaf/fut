{
  "nbformat": 4,
  "nbformat_minor": 0,
  "metadata": {
    "accelerator": "GPU",
    "colab": {
      "name": "sophie.ipynb",
      "provenance": [],
<<<<<<< HEAD
      "collapsed_sections": []
=======
      "collapsed_sections": [],
      "include_colab_link": true
>>>>>>> 9fd24f8dac6e7e0ba8d97b16a44b2a168543a3b1
    },
    "kernelspec": {
      "display_name": "Python 3",
      "language": "python",
      "name": "python3"
    },
    "language_info": {
      "codemirror_mode": {
        "name": "ipython",
        "version": 3
      },
      "file_extension": ".py",
      "mimetype": "text/x-python",
      "name": "python",
      "nbconvert_exporter": "python",
      "pygments_lexer": "ipython3",
      "version": "3.7.3"
    }
  },
  "cells": [
    {
<<<<<<< HEAD
=======
      "cell_type": "markdown",
      "metadata": {
        "id": "view-in-github",
        "colab_type": "text"
      },
      "source": [
        "<a href=\"https://colab.research.google.com/github/cvaf/fut/blob/master/pricey/sophie.ipynb\" target=\"_parent\"><img src=\"https://colab.research.google.com/assets/colab-badge.svg\" alt=\"Open In Colab\"/></a>"
      ]
    },
    {
>>>>>>> 9fd24f8dac6e7e0ba8d97b16a44b2a168543a3b1
      "cell_type": "code",
      "metadata": {
        "colab_type": "code",
        "id": "eOOyuQRrG38n",
        "colab": {}
      },
      "source": [
        "import pandas as pd\n",
        "import numpy as np\n",
        "\n",
        "# other\n",
        "from datetime import datetime, timedelta\n",
        "import warnings\n",
        "warnings.filterwarnings('ignore')\n",
        "pd.set_option('display.max_columns', 100)\n",
        "from time import time\n",
        "\n",
        "# plotting\n",
        "import matplotlib.pyplot as plt\n",
        "import seaborn as sns\n",
        "plt.style.use(['seaborn-muted', 'dark_background'])\n",
        "%matplotlib inline\n",
        "\n",
        "\n",
        "# processing & model selection\n",
        "from sklearn.model_selection import GridSearchCV\n",
        "from sklearn.pipeline import make_pipeline\n",
        "from sklearn.compose import make_column_transformer\n",
        "from sklearn.preprocessing import StandardScaler, OneHotEncoder\n",
        "\n",
        "np.random.seed(410)"
<<<<<<< HEAD
      ],
      "execution_count": 0,
      "outputs": []
    },
    {
      "cell_type": "code",
      "metadata": {
        "colab_type": "code",
        "id": "Ceu6PRuNxzrL",
        "outputId": "a5694c39-c83a-46b7-9ea0-9ae1020f787e",
        "colab": {
          "base_uri": "https://localhost:8080/",
          "height": 51
        }
      },
      "source": [
        "# models\n",
        "try:\n",
        "    %tensorflow_version 2.x\n",
        "except Exception:\n",
        "    pass\n",
        "  \n",
        "import tensorflow as tf\n",
        "print(tf.__version__)\n",
        "from tensorflow.keras.layers import Dense, Flatten, LSTM, Input, Concatenate, Layer, add\n",
        "from tensorflow.keras.models import Sequential, Model\n",
        "from tensorflow.keras.optimizers import Adam\n",
        "\n",
        "tf.random.set_seed(42)"
      ],
      "execution_count": 0,
=======
      ],
      "execution_count": 0,
      "outputs": []
    },
    {
      "cell_type": "code",
      "metadata": {
        "colab_type": "code",
        "id": "Ceu6PRuNxzrL",
        "outputId": "d8639a45-a616-464a-bf60-eb98c00aceec",
        "colab": {
          "base_uri": "https://localhost:8080/",
          "height": 51
        }
      },
      "source": [
        "# models\n",
        "try:\n",
        "    %tensorflow_version 2.x\n",
        "except Exception:\n",
        "    pass\n",
        "  \n",
        "import tensorflow as tf\n",
        "print(tf.__version__)\n",
        "from tensorflow.keras.layers import Dense, Flatten, LSTM, Input, Concatenate, Layer, add\n",
        "from tensorflow.keras.models import Sequential, Model\n",
        "from tensorflow.keras.optimizers import Adam\n",
        "\n",
        "tf.random.set_seed(42)"
      ],
      "execution_count": 2,
>>>>>>> 9fd24f8dac6e7e0ba8d97b16a44b2a168543a3b1
      "outputs": [
        {
          "output_type": "stream",
          "text": [
            "TensorFlow 2.x selected.\n",
            "2.0.0-rc1\n"
          ],
          "name": "stdout"
        }
      ]
    },
    {
      "cell_type": "markdown",
      "metadata": {
        "colab_type": "text",
        "id": "15pLDbzKG38q"
      },
      "source": [
        "# Price Prediction\n",
        "\n",
        "**Table of Contents**:\n",
        "1. Feature Engineering\n",
        "2. Transformation\n",
        "3. Modeling"
      ]
    },
    {
      "cell_type": "code",
      "metadata": {
        "colab_type": "code",
        "id": "wRJZsySsG38s",
        "outputId": "3757f955-597b-4a68-909a-685802ff1246",
        "colab": {}
      },
      "source": [
        "df = pd.read_csv('../data/prices_database.csv', index_col='Unnamed: 0', parse_dates=['added_date', 'date'])\n",
        "df.head(2)"
      ],
      "execution_count": 0,
      "outputs": [
        {
          "output_type": "execute_result",
          "data": {
            "text/html": [
              "<div>\n",
              "<style scoped>\n",
              "    .dataframe tbody tr th:only-of-type {\n",
              "        vertical-align: middle;\n",
              "    }\n",
              "\n",
              "    .dataframe tbody tr th {\n",
              "        vertical-align: top;\n",
              "    }\n",
              "\n",
              "    .dataframe thead th {\n",
              "        text-align: right;\n",
              "    }\n",
              "</style>\n",
              "<table border=\"1\" class=\"dataframe\">\n",
              "  <thead>\n",
              "    <tr style=\"text-align: right;\">\n",
              "      <th></th>\n",
              "      <th>player_name</th>\n",
              "      <th>quality</th>\n",
              "      <th>revision</th>\n",
              "      <th>overall</th>\n",
              "      <th>club</th>\n",
              "      <th>league</th>\n",
              "      <th>nationality</th>\n",
              "      <th>position</th>\n",
              "      <th>age</th>\n",
              "      <th>height</th>\n",
              "      <th>weight</th>\n",
              "      <th>intl_rep</th>\n",
              "      <th>added_date</th>\n",
              "      <th>pace</th>\n",
              "      <th>pace_acceleration</th>\n",
              "      <th>pace_sprint_speed</th>\n",
              "      <th>dribbling</th>\n",
              "      <th>drib_agility</th>\n",
              "      <th>drib_balance</th>\n",
              "      <th>drib_reactions</th>\n",
              "      <th>drib_ball_control</th>\n",
              "      <th>drib_dribbling</th>\n",
              "      <th>drib_composure</th>\n",
              "      <th>shooting</th>\n",
              "      <th>shoot_positioning</th>\n",
              "      <th>shoot_finishing</th>\n",
              "      <th>shoot_shot_power</th>\n",
              "      <th>shoot_long_shots</th>\n",
              "      <th>shoot_volleys</th>\n",
              "      <th>shoot_penalties</th>\n",
              "      <th>passing</th>\n",
              "      <th>pass_vision</th>\n",
              "      <th>pass_crossing</th>\n",
              "      <th>pass_free_kick</th>\n",
              "      <th>pass_short</th>\n",
              "      <th>pass_long</th>\n",
              "      <th>pass_curve</th>\n",
              "      <th>defending</th>\n",
              "      <th>def_interceptions</th>\n",
              "      <th>def_heading</th>\n",
              "      <th>def_marking</th>\n",
              "      <th>def_stand_tackle</th>\n",
              "      <th>def_slid_tackle</th>\n",
              "      <th>physicality</th>\n",
              "      <th>phys_jumping</th>\n",
              "      <th>phys_stamina</th>\n",
              "      <th>phys_strength</th>\n",
              "      <th>phys_aggression</th>\n",
              "      <th>pref_foot</th>\n",
              "      <th>att_workrate</th>\n",
              "      <th>def_workrate</th>\n",
              "      <th>weak_foot</th>\n",
              "      <th>skill_moves</th>\n",
              "      <th>resource_id</th>\n",
              "      <th>num_games</th>\n",
              "      <th>avg_goals</th>\n",
              "      <th>avg_assists</th>\n",
              "      <th>date</th>\n",
              "      <th>price</th>\n",
              "    </tr>\n",
              "  </thead>\n",
              "  <tbody>\n",
              "    <tr>\n",
              "      <th>0</th>\n",
              "      <td>Pelé</td>\n",
              "      <td>Gold - Rare</td>\n",
              "      <td>Icon</td>\n",
              "      <td>98</td>\n",
              "      <td>Icons</td>\n",
              "      <td>Icons</td>\n",
              "      <td>Brazil</td>\n",
              "      <td>CAM</td>\n",
              "      <td>77</td>\n",
              "      <td>173</td>\n",
              "      <td>70</td>\n",
              "      <td>0</td>\n",
              "      <td>2018-09-19</td>\n",
              "      <td>95.0</td>\n",
              "      <td>95</td>\n",
              "      <td>95</td>\n",
              "      <td>96.0</td>\n",
              "      <td>94</td>\n",
              "      <td>93</td>\n",
              "      <td>98</td>\n",
              "      <td>97</td>\n",
              "      <td>96</td>\n",
              "      <td>98</td>\n",
              "      <td>96.0</td>\n",
              "      <td>97</td>\n",
              "      <td>98</td>\n",
              "      <td>94</td>\n",
              "      <td>94</td>\n",
              "      <td>95</td>\n",
              "      <td>93</td>\n",
              "      <td>93.0</td>\n",
              "      <td>97</td>\n",
              "      <td>90</td>\n",
              "      <td>89</td>\n",
              "      <td>96</td>\n",
              "      <td>88</td>\n",
              "      <td>89</td>\n",
              "      <td>60.0</td>\n",
              "      <td>67</td>\n",
              "      <td>94</td>\n",
              "      <td>55</td>\n",
              "      <td>53</td>\n",
              "      <td>49</td>\n",
              "      <td>76.0</td>\n",
              "      <td>88</td>\n",
              "      <td>86</td>\n",
              "      <td>76</td>\n",
              "      <td>59</td>\n",
              "      <td>Right</td>\n",
              "      <td>High</td>\n",
              "      <td>Med</td>\n",
              "      <td>4</td>\n",
              "      <td>5</td>\n",
              "      <td>237067</td>\n",
              "      <td>140,067</td>\n",
              "      <td>0.58</td>\n",
              "      <td>0.38</td>\n",
              "      <td>2018-09-20</td>\n",
              "      <td>0</td>\n",
              "    </tr>\n",
              "    <tr>\n",
              "      <th>1</th>\n",
              "      <td>Pelé</td>\n",
              "      <td>Gold - Rare</td>\n",
              "      <td>Icon</td>\n",
              "      <td>98</td>\n",
              "      <td>Icons</td>\n",
              "      <td>Icons</td>\n",
              "      <td>Brazil</td>\n",
              "      <td>CAM</td>\n",
              "      <td>77</td>\n",
              "      <td>173</td>\n",
              "      <td>70</td>\n",
              "      <td>0</td>\n",
              "      <td>2018-09-19</td>\n",
              "      <td>95.0</td>\n",
              "      <td>95</td>\n",
              "      <td>95</td>\n",
              "      <td>96.0</td>\n",
              "      <td>94</td>\n",
              "      <td>93</td>\n",
              "      <td>98</td>\n",
              "      <td>97</td>\n",
              "      <td>96</td>\n",
              "      <td>98</td>\n",
              "      <td>96.0</td>\n",
              "      <td>97</td>\n",
              "      <td>98</td>\n",
              "      <td>94</td>\n",
              "      <td>94</td>\n",
              "      <td>95</td>\n",
              "      <td>93</td>\n",
              "      <td>93.0</td>\n",
              "      <td>97</td>\n",
              "      <td>90</td>\n",
              "      <td>89</td>\n",
              "      <td>96</td>\n",
              "      <td>88</td>\n",
              "      <td>89</td>\n",
              "      <td>60.0</td>\n",
              "      <td>67</td>\n",
              "      <td>94</td>\n",
              "      <td>55</td>\n",
              "      <td>53</td>\n",
              "      <td>49</td>\n",
              "      <td>76.0</td>\n",
              "      <td>88</td>\n",
              "      <td>86</td>\n",
              "      <td>76</td>\n",
              "      <td>59</td>\n",
              "      <td>Right</td>\n",
              "      <td>High</td>\n",
              "      <td>Med</td>\n",
              "      <td>4</td>\n",
              "      <td>5</td>\n",
              "      <td>237067</td>\n",
              "      <td>140,067</td>\n",
              "      <td>0.58</td>\n",
              "      <td>0.38</td>\n",
              "      <td>2018-09-21</td>\n",
              "      <td>0</td>\n",
              "    </tr>\n",
              "  </tbody>\n",
              "</table>\n",
              "</div>"
            ],
            "text/plain": [
              "  player_name      quality revision  overall   club league nationality  \\\n",
              "0        Pelé  Gold - Rare     Icon       98  Icons  Icons      Brazil   \n",
              "1        Pelé  Gold - Rare     Icon       98  Icons  Icons      Brazil   \n",
              "\n",
              "  position  age  height  weight  intl_rep added_date  pace  pace_acceleration  \\\n",
              "0      CAM   77     173      70         0 2018-09-19  95.0                 95   \n",
              "1      CAM   77     173      70         0 2018-09-19  95.0                 95   \n",
              "\n",
              "   pace_sprint_speed  dribbling  drib_agility  drib_balance  drib_reactions  \\\n",
              "0                 95       96.0            94            93              98   \n",
              "1                 95       96.0            94            93              98   \n",
              "\n",
              "   drib_ball_control  drib_dribbling  drib_composure  shooting  \\\n",
              "0                 97              96              98      96.0   \n",
              "1                 97              96              98      96.0   \n",
              "\n",
              "   shoot_positioning  shoot_finishing  shoot_shot_power  shoot_long_shots  \\\n",
              "0                 97               98                94                94   \n",
              "1                 97               98                94                94   \n",
              "\n",
              "   shoot_volleys  shoot_penalties  passing  pass_vision  pass_crossing  \\\n",
              "0             95               93     93.0           97             90   \n",
              "1             95               93     93.0           97             90   \n",
              "\n",
              "   pass_free_kick  pass_short  pass_long  pass_curve  defending  \\\n",
              "0              89          96         88          89       60.0   \n",
              "1              89          96         88          89       60.0   \n",
              "\n",
              "   def_interceptions  def_heading  def_marking  def_stand_tackle  \\\n",
              "0                 67           94           55                53   \n",
              "1                 67           94           55                53   \n",
              "\n",
              "   def_slid_tackle  physicality  phys_jumping  phys_stamina  phys_strength  \\\n",
              "0               49         76.0            88            86             76   \n",
              "1               49         76.0            88            86             76   \n",
              "\n",
              "   phys_aggression pref_foot att_workrate def_workrate  weak_foot  \\\n",
              "0               59     Right         High          Med          4   \n",
              "1               59     Right         High          Med          4   \n",
              "\n",
              "   skill_moves  resource_id num_games avg_goals avg_assists       date  price  \n",
              "0            5       237067   140,067      0.58        0.38 2018-09-20      0  \n",
              "1            5       237067   140,067      0.58        0.38 2018-09-21      0  "
            ]
          },
          "metadata": {
            "tags": []
          },
          "execution_count": 3
        }
      ]
    },
    {
      "cell_type": "markdown",
      "metadata": {
        "colab_type": "text",
        "id": "-oG-qjBDG38w"
      },
      "source": [
        "# 1. Feature Engineering\n",
        "\n",
        "We need to construct and/or engineer the following features:\n",
        "- days: number of days specific card has been available\n",
        "- weekday: day of the week\n",
        "- gen_pos: general player position - one of: ['defender', 'midfielder', 'forward']\n",
        "- club/league/nationality grouping: group clubs and leagues according to popularity to avoid sparsity. \n",
        "- promo: binary variable indicating whether there was an active promotion.\n",
        "- source: how one can obtain the card: ['base', 'packs', 'loan', 'objective', 'sbc'] - intentional overlap between base and packs\n",
        "- available: binary variable indicating whether the card was obtainable on that day.\n",
        "- days_release: number of days since game release\n",
        "\n",
        "**Days**:"
      ]
    },
    {
      "cell_type": "code",
      "metadata": {
        "colab_type": "code",
        "id": "k5l2saJTG38w",
        "colab": {}
      },
      "source": [
        "df['days'] = (df['date'] - df['added_date']).dt.days"
      ],
      "execution_count": 0,
      "outputs": []
    },
    {
      "cell_type": "markdown",
      "metadata": {
        "colab_type": "text",
        "id": "qgi6_PzUG38y"
      },
      "source": [
        "Quick to note that some players have prices for the day before they were officially released, implying there's a mistake. Further investigation reveals that these should be offset to the next day instead. "
      ]
    },
    {
      "cell_type": "code",
      "metadata": {
        "colab_type": "code",
        "id": "DJ9FChKYG38z",
        "colab": {}
      },
      "source": [
        "offset_resources = df[df.days == -1].resource_id.unique()       # get resource id of users who match this \n",
        "\n",
        "df['date'] = np.where(df.resource_id.isin(offset_resources),    # remap the date variable\n",
        "                      df.date +pd.DateOffset(days=1), df.date)\n",
        "df['days'] = (df.date - df.added_date).dt.days                  # reassign the days variable\n",
        "\n",
        "df = df[df.days >= 0]                                           # remove observations that have days < 0\n",
        "\n",
        "df['days'] = (df.days+1)/365\n",
        "df['days'] = np.log(df.days) - np.log(1-df.days)"
      ],
      "execution_count": 0,
      "outputs": []
    },
    {
      "cell_type": "markdown",
      "metadata": {
        "colab_type": "text",
        "id": "zRHUFOceG381"
      },
      "source": [
        "**Weekday**:"
      ]
    },
    {
      "cell_type": "code",
      "metadata": {
        "colab_type": "code",
        "id": "lo-SPL0KG382",
        "colab": {}
      },
      "source": [
        "df['weekday'] = df.date.dt.weekday                              # get the day of the week"
      ],
      "execution_count": 0,
      "outputs": []
    },
    {
      "cell_type": "markdown",
      "metadata": {
        "colab_type": "text",
        "id": "h_mD_oQfG384"
      },
      "source": [
        "**General Position**:"
      ]
    },
    {
      "cell_type": "code",
      "metadata": {
        "colab_type": "code",
        "id": "XgAGQJYKG385",
        "colab": {}
      },
      "source": [
        "for_pos = ['ST', 'CF', 'CAM', 'LW', 'LF', 'LM', 'RW', 'RF', 'RM']\n",
        "mid_pos = ['CM', 'CDM']\n",
        "def_pos = ['LB', 'LWB', 'CB', 'RB', 'RWB']\n",
        "\n",
        "df['gen_pos'] = np.where(df.position.isin(for_pos), 'forward', np.nan)\n",
        "df['gen_pos'] = np.where(df.position.isin(mid_pos), 'midfielder', df.gen_pos)\n",
        "df['gen_pos'] = np.where(df.position.isin(def_pos), 'defender', df.gen_pos)"
      ],
      "execution_count": 0,
      "outputs": []
    },
    {
      "cell_type": "markdown",
      "metadata": {
        "colab_type": "text",
        "id": "9Dg9hH6zG387"
      },
      "source": [
        "**Club/League/Nation**:\n",
        "\n",
        "Group all leagues outside of top5 - repeat the same with teams.\n",
        "\n",
        "Nations: Mark the 10 most common nations as 1, others 0"
      ]
    },
    {
      "cell_type": "code",
      "metadata": {
        "colab_type": "code",
        "id": "4_RCwGhMG388",
        "colab": {}
      },
      "source": [
        "df = df[df.club != 'Icons']  # drop icons\n",
        "\n",
        "# top 5 leagues\n",
        "t_leagues = ['Premier League', 'Serie A TIM', 'LaLiga Santander', 'Ligue 1 Conforama', 'Bundesliga']\n",
        "df['league'] = np.where(df.league.isin(t_leagues), df.league, 'other')\n",
        "\n",
        "# top clubs\n",
        "t_clubs = ['Manchester United', 'Manchester City', 'Chelsea', 'Liverpool', 'Arsenal', 'Tottenham Hotspur',\n",
        "           'Paris Saint-Germain', 'Juventus', 'Napoli', 'Inter', 'FC Barcelona', 'Real Madrid', 'Atlético Madrid',\n",
        "           'Borussia Dortmund', 'FC Bayern München']\n",
        "df['club'] = np.where(df.club.isin(t_clubs), df.club, 'other')"
      ],
      "execution_count": 0,
      "outputs": []
    },
    {
      "cell_type": "code",
      "metadata": {
        "colab_type": "code",
        "id": "Il1pZWjuG38-",
        "colab": {}
      },
      "source": [
        "# top nations\n",
        "t_nations = ['Spain', 'France', 'Brazil', 'Germany', 'Argentina', 'England',\n",
        "             'Italy', 'Portugal', 'Holland', 'Belgium']\n",
        "df['nationality'] = np.where(df.nationality.isin(t_nations), df.nationality, 'other')"
      ],
      "execution_count": 0,
      "outputs": []
    },
    {
      "cell_type": "markdown",
      "metadata": {
        "colab_type": "text",
        "id": "je_xWLgJG39C"
      },
      "source": [
        "**Promo**:"
      ]
    },
    {
      "cell_type": "code",
      "metadata": {
        "colab_type": "code",
        "id": "WLotvcHCG39D",
        "colab": {}
      },
      "source": [
        "promos = [[datetime(2019, 5, 10), datetime(2019, 6, 21)],       # TOTS\n",
        "          [datetime(2019, 4, 5), datetime(2019, 4, 15)],        # icon release\n",
        "          [datetime(2019, 3, 22), datetime(2019, 3, 30)],       # fut bday\n",
        "          [datetime(2019, 3, 8), datetime(2019, 3, 16)],        # carniball\n",
        "          [datetime(2019, 2, 15), datetime(2019, 2, 24)],       # rating refresh\n",
        "          [datetime(2019, 2, 1), datetime(2019, 2, 8)],         # headliners\n",
        "          [datetime(2019, 1, 18), datetime(2019, 1, 25)],       # ffs\n",
        "          [datetime(2019, 1, 7), datetime(2019, 1, 14)],        # TOTY\n",
        "          [datetime(2018, 12, 14), datetime(2018, 12, 24)],     # futmas\n",
        "          [datetime(2018, 12, 7), datetime(2018, 12, 14)],      # totgs\n",
        "          [datetime(2018, 11, 23), datetime(2018, 11, 26)],     # black friday\n",
        "          [datetime(2018, 11, 9), datetime(2018, 11, 16)],      # rttf\n",
        "          [datetime(2018, 10, 19), datetime(2018, 10, 26)]]     # halloween\n",
        "\n",
        "def promo_assignment(ds):\n",
        "    date = pd.to_datetime(ds)\n",
        "    promo = 0\n",
        "    for p in promos:\n",
        "        if (p[0] <= date) & (p[1] >= date):\n",
        "            promo = 1\n",
        "            break\n",
        "    return promo\n",
        "\n",
        "df['promo'] = df['date'].apply(promo_assignment)                # apply the promo assignment"
      ],
      "execution_count": 0,
      "outputs": []
    },
    {
      "cell_type": "markdown",
      "metadata": {
        "colab_type": "text",
        "id": "WytuXD89G39F"
      },
      "source": [
        "**Card Source**:"
      ]
    },
    {
      "cell_type": "code",
      "metadata": {
        "colab_type": "code",
        "id": "qEsVtIPjG39G",
        "colab": {}
      },
      "source": [
        "df.revision.fillna('MLS POTM', inplace=True)\n",
        "\n",
        "df['source'] = 'packs'\n",
        "\n",
        "# base cards\n",
        "base = ['Normal', 'Winter Refresh']\n",
        "df['source'] = np.where(df.revision.isin(base), 'packs', df.source)\n",
        "\n",
        "# sbc cards\n",
        "sbc = ['SBC', 'POTM']\n",
        "df['source'] = np.where(df.revision.apply(lambda x: any(i.lower() in x.lower() for i in sbc)), 'sbc', df.source)\n",
        "\n",
        "# loan cards\n",
        "df['source'] = np.where(df.revision.str.contains('Loan'), 'loan', df.source) \n",
        "df = df[df.source != 'loan'] # remove loans\n",
        "\n",
        "# objective cards\n",
        "df['source'] = np.where(df.revision.str.contains('Ob'), 'objective', df.source)\n",
        "\n",
        "\n",
        "# overwrite source for cards that were both objectives and in packs (TOTS Rodri)\n",
        "resources = df[df.price>0].resource_id.unique()\n",
        "df['source'] = np.where(df.resource_id.isin(resources), 'packs', df.source)"
      ],
      "execution_count": 0,
      "outputs": []
    },
    {
      "cell_type": "markdown",
      "metadata": {
        "colab_type": "text",
        "id": "Iwkqxzp4G39I"
      },
      "source": [
        "**Availability**:\n",
        "- Pack cards: will be labeled as available for a week after being added to the database. This isn't always accurate but an overall approximation.\n",
        "- SBC: Availability will also be set for a week - again, an approximation. \n",
        "- Objectives: Weekly availability\n",
        "- Winter Upgrades + Base Cards: Available throughout except periods where they have special cards in packs. Winter upgrades replace base cards. "
      ]
    },
    {
      "cell_type": "code",
      "metadata": {
        "colab_type": "code",
        "id": "WoTIyrMQG39J",
        "colab": {}
      },
      "source": [
        "df['available'] = np.nan\n",
        "\n",
        "# special cards in packs, sbcs and objectives\n",
        "is_special = ((df.source == 'packs') | (df.source == 'sbc') | (df.source == 'objective'))\n",
        "is_available = (df.date <= (df.added_date + pd.DateOffset(7)))\n",
        "\n",
        "df['available'] = np.where(is_special & is_available, 1, df.available)\n",
        "\n",
        "# create a cross product to find the availability of base cards from special pack cards\n",
        "base = df[df.source == 'base'][['player_name', 'age', 'height', 'weight', 'intl_rep', 'date', 'added_date', 'available', 'resource_id']]\n",
        "pack = df[df.source == 'packs'][['player_name', 'age', 'height', 'weight', 'intl_rep', 'date', 'added_date', 'available']]\n",
        "overlap = base.merge(pack, on=['player_name', 'age', 'height', 'weight', 'intl_rep', 'date'], how='inner', suffixes=('', '_special'))\n",
        "\n",
        "overlap['available'] = np.where(overlap.available_special == 1, 0, 1)\n",
        "\n",
        "# group by to handle multiple special card instances\n",
        "overlap = overlap.groupby(['player_name', 'age', 'height', 'weight', 'intl_rep', 'date', 'added_date', 'resource_id']).available.min().reset_index()\n",
        "\n",
        "df_ = df.merge(overlap, on=['date', 'resource_id' ,'added_date', 'player_name'], how='left', suffixes=('', '_overlap'))\n",
        "\n",
        "df['available'] = np.where(df.source == 'base', df_.available_overlap, df.available)          # update the availability of base cards that had special cards at some point\n",
        "df['available'] = np.where((df.source == 'base') & (df.available.isnull()), 1, df.available)  # update the availability of the rest of the base cards\n",
        "df.available.fillna(0, inplace=True)                                                          # update the availability of the rest of the cards"
      ],
      "execution_count": 0,
      "outputs": []
    },
    {
      "cell_type": "markdown",
      "metadata": {
        "colab_type": "text",
        "id": "KO80CDJaG39K"
      },
      "source": [
        "**Days Since Release**:"
<<<<<<< HEAD
      ]
    },
    {
      "cell_type": "code",
      "metadata": {
        "colab_type": "code",
        "id": "L-Fiw_GsG39L",
        "colab": {}
      },
      "source": [
        "df['days_release'] = (df.date - df.date.min()).dt.days + 1\n",
        "df['days_release'] = df.days_release / 365\n",
        "df['days_release'] = np.log(df.days_release) - np.log(1-df.days_release)"
      ],
      "execution_count": 0,
      "outputs": []
    },
    {
      "cell_type": "markdown",
      "metadata": {
        "colab_type": "text",
        "id": "uUX_o1f5G39S"
      },
      "source": [
        "**PGP Statistics**:"
      ]
    },
    {
      "cell_type": "code",
      "metadata": {
        "colab_type": "code",
        "id": "wlcP57BTG39T",
        "colab": {}
      },
      "source": [
        "df['avg_goals'] = pd.to_numeric(df.avg_goals.replace('-', 0))\n",
        "df['avg_assists'] = pd.to_numeric(df.avg_assists.replace('-', 0))"
      ],
      "execution_count": 0,
      "outputs": []
    },
    {
      "cell_type": "markdown",
      "metadata": {
        "id": "0pySuTwkIUkC",
        "colab_type": "text"
      },
      "source": [
        "**Relative Price**:"
      ]
    },
    {
      "cell_type": "code",
      "metadata": {
        "id": "l6YOlWZoIUkD",
        "colab_type": "code",
        "colab": {}
      },
      "source": [
        "df.sort_values(by=['resource_id', 'date'], ascending=True, inplace=True)\n",
        "df_ = df.shift(1)\n",
        "df['relative_price'] = np.where(df.resource_id == df_.resource_id, df.price*100/df_.price, 'first')\n",
        "df = df[df.relative_price!='first']"
      ],
      "execution_count": 0,
      "outputs": []
    },
    {
      "cell_type": "markdown",
      "metadata": {
        "colab_type": "text",
        "id": "NQNlWWAaG39Y"
      },
      "source": [
        "**Narrow selection and projection**:\n",
        "\n",
        "We don't need all the remaining columns, so we narrow down our projection before proceeding."
      ]
    },
    {
      "cell_type": "code",
      "metadata": {
        "colab_type": "code",
        "id": "NrAhd5VmG39a",
        "colab": {}
      },
      "source": [
        "drop_cols = ['quality', 'age', 'pace', 'pace_acceleration', 'pace_sprint_speed', 'drib_agility', 'drib_balance',\n",
        "             'drib_reactions', 'drib_ball_control', 'drib_dribbling', 'shoot_positioning', 'shoot_finishing', 'shoot_shot_power',\n",
        "             'shoot_long_shots', 'shoot_volleys', 'shoot_penalties', 'pass_vision', 'pass_crossing', 'pass_free_kick', 'pass_short',\n",
        "             'pass_long', 'pass_curve', 'def_interceptions', 'def_heading', 'def_marking', 'def_stand_tackle', 'def_slid_tackle', \n",
        "             'phys_jumping', 'phys_strength', 'phys_aggression', 'pref_foot', 'num_games', 'added_date', 'position']\n",
        "df.drop(drop_cols, axis=1, inplace=True)"
      ],
      "execution_count": 0,
      "outputs": []
    },
    {
      "cell_type": "markdown",
      "metadata": {
        "colab_type": "text",
        "id": "Zv-7Oa6DG39d"
      },
      "source": [
        "For the purpose of our project, we remove players with 0 target and only keep gold players whose rating is 81 or greater. "
      ]
    },
    {
      "cell_type": "code",
      "metadata": {
        "colab_type": "code",
        "id": "1Rv7Q7SJG39f",
        "outputId": "a29e16b0-dbcf-41f0-fb15-622b228b8aee",
        "colab": {}
      },
      "source": [
        "gold_players = ['Normal', 'Winter Refresh']\n",
        "df = df[(df.price!=0) & (df.overall>80) & (df.revision.isin(gold_players))].reset_index(drop=True)\n",
        "df.drop('revision', axis=1, inplace=True)\n",
        "df.head(2)"
      ],
      "execution_count": 0,
      "outputs": [
        {
          "output_type": "execute_result",
          "data": {
            "text/html": [
              "<div>\n",
              "<style scoped>\n",
              "    .dataframe tbody tr th:only-of-type {\n",
              "        vertical-align: middle;\n",
              "    }\n",
              "\n",
              "    .dataframe tbody tr th {\n",
              "        vertical-align: top;\n",
              "    }\n",
              "\n",
              "    .dataframe thead th {\n",
              "        text-align: right;\n",
              "    }\n",
              "</style>\n",
              "<table border=\"1\" class=\"dataframe\">\n",
              "  <thead>\n",
              "    <tr style=\"text-align: right;\">\n",
              "      <th></th>\n",
              "      <th>player_name</th>\n",
              "      <th>overall</th>\n",
              "      <th>club</th>\n",
              "      <th>league</th>\n",
              "      <th>nationality</th>\n",
              "      <th>height</th>\n",
              "      <th>weight</th>\n",
              "      <th>intl_rep</th>\n",
              "      <th>dribbling</th>\n",
              "      <th>drib_composure</th>\n",
              "      <th>shooting</th>\n",
              "      <th>passing</th>\n",
              "      <th>defending</th>\n",
              "      <th>physicality</th>\n",
              "      <th>phys_stamina</th>\n",
              "      <th>att_workrate</th>\n",
              "      <th>def_workrate</th>\n",
              "      <th>weak_foot</th>\n",
              "      <th>skill_moves</th>\n",
              "      <th>resource_id</th>\n",
              "      <th>avg_goals</th>\n",
              "      <th>avg_assists</th>\n",
              "      <th>date</th>\n",
              "      <th>price</th>\n",
              "      <th>days</th>\n",
              "      <th>weekday</th>\n",
              "      <th>gen_pos</th>\n",
              "      <th>promo</th>\n",
              "      <th>source</th>\n",
              "      <th>available</th>\n",
              "      <th>days_release</th>\n",
              "      <th>relative_price</th>\n",
              "    </tr>\n",
              "  </thead>\n",
              "  <tbody>\n",
              "    <tr>\n",
              "      <th>0</th>\n",
              "      <td>Iniesta</td>\n",
              "      <td>87</td>\n",
              "      <td>other</td>\n",
              "      <td>other</td>\n",
              "      <td>Spain</td>\n",
              "      <td>171</td>\n",
              "      <td>68</td>\n",
              "      <td>4</td>\n",
              "      <td>90.0</td>\n",
              "      <td>89</td>\n",
              "      <td>70.0</td>\n",
              "      <td>87.0</td>\n",
              "      <td>61.0</td>\n",
              "      <td>57.0</td>\n",
              "      <td>55</td>\n",
              "      <td>High</td>\n",
              "      <td>Med</td>\n",
              "      <td>4</td>\n",
              "      <td>4</td>\n",
              "      <td>41</td>\n",
              "      <td>0.14</td>\n",
              "      <td>0.18</td>\n",
              "      <td>2018-09-21</td>\n",
              "      <td>7807</td>\n",
              "      <td>-4.793032</td>\n",
              "      <td>4</td>\n",
              "      <td>midfielder</td>\n",
              "      <td>0</td>\n",
              "      <td>packs</td>\n",
              "      <td>1.0</td>\n",
              "      <td>-5.201256</td>\n",
              "      <td>111.00526091283947</td>\n",
              "    </tr>\n",
              "    <tr>\n",
              "      <th>1</th>\n",
              "      <td>Iniesta</td>\n",
              "      <td>87</td>\n",
              "      <td>other</td>\n",
              "      <td>other</td>\n",
              "      <td>Spain</td>\n",
              "      <td>171</td>\n",
              "      <td>68</td>\n",
              "      <td>4</td>\n",
              "      <td>90.0</td>\n",
              "      <td>89</td>\n",
              "      <td>70.0</td>\n",
              "      <td>87.0</td>\n",
              "      <td>61.0</td>\n",
              "      <td>57.0</td>\n",
              "      <td>55</td>\n",
              "      <td>High</td>\n",
              "      <td>Med</td>\n",
              "      <td>4</td>\n",
              "      <td>4</td>\n",
              "      <td>41</td>\n",
              "      <td>0.14</td>\n",
              "      <td>0.18</td>\n",
              "      <td>2018-09-22</td>\n",
              "      <td>8714</td>\n",
              "      <td>-4.502584</td>\n",
              "      <td>5</td>\n",
              "      <td>midfielder</td>\n",
              "      <td>0</td>\n",
              "      <td>packs</td>\n",
              "      <td>1.0</td>\n",
              "      <td>-4.793032</td>\n",
              "      <td>111.61777891635711</td>\n",
              "    </tr>\n",
              "  </tbody>\n",
              "</table>\n",
              "</div>"
            ],
            "text/plain": [
              "  player_name  overall   club league nationality  height  weight  intl_rep  \\\n",
              "0     Iniesta       87  other  other       Spain     171      68         4   \n",
              "1     Iniesta       87  other  other       Spain     171      68         4   \n",
              "\n",
              "   dribbling  drib_composure  shooting  passing  defending  physicality  \\\n",
              "0       90.0              89      70.0     87.0       61.0         57.0   \n",
              "1       90.0              89      70.0     87.0       61.0         57.0   \n",
              "\n",
              "   phys_stamina att_workrate def_workrate  weak_foot  skill_moves  \\\n",
              "0            55         High          Med          4            4   \n",
              "1            55         High          Med          4            4   \n",
              "\n",
              "   resource_id  avg_goals  avg_assists       date  price      days  weekday  \\\n",
              "0           41       0.14         0.18 2018-09-21   7807 -4.793032        4   \n",
              "1           41       0.14         0.18 2018-09-22   8714 -4.502584        5   \n",
              "\n",
              "      gen_pos  promo source  available  days_release      relative_price  \n",
              "0  midfielder      0  packs        1.0     -5.201256  111.00526091283947  \n",
              "1  midfielder      0  packs        1.0     -4.793032  111.61777891635711  "
            ]
          },
          "metadata": {
            "tags": []
          },
          "execution_count": 17
        }
      ]
    },
    {
      "cell_type": "code",
      "metadata": {
        "id": "dvOGDCM-IUkS",
        "colab_type": "code",
        "outputId": "5a4db19f-99ee-4a55-e92d-530796779580",
        "colab": {}
      },
      "source": [
        "fig, ax = plt.subplots(1,1, figsize=(10,10))\n",
        "sns.distplot(df.price.values, ax=ax)\n",
        "ax.set_title('Price Distribution')\n",
        "plt.tight_layout(); plt.show()"
      ],
      "execution_count": 0,
      "outputs": [
        {
          "output_type": "display_data",
          "data": {
            "image/png": "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\n",
            "text/plain": [
              "<Figure size 720x720 with 1 Axes>"
            ]
          },
          "metadata": {
            "tags": [],
            "needs_background": "dark"
          }
        }
      ]
    },
    {
      "cell_type": "code",
      "metadata": {
        "id": "21sDm8AmIUkV",
        "colab_type": "code",
        "colab": {}
      },
      "source": [
        "# eliminating \"expensive\" players -- outliers basically\n",
        "expensive_resources = df[df.price>300000].resource_id.unique()\n",
        "df=df[~df.resource_id.isin(expensive_resources)]"
      ],
      "execution_count": 0,
      "outputs": []
    },
    {
      "cell_type": "code",
      "metadata": {
        "colab_type": "code",
        "id": "ezgPpmfdxXab",
        "colab": {}
      },
      "source": [
        "df.to_pickle('../data/sophie_dataset.pkl')"
      ],
      "execution_count": 0,
      "outputs": []
    },
    {
      "cell_type": "markdown",
      "metadata": {
        "colab_type": "text",
        "id": "e-KtQ86CG39y"
      },
      "source": [
        "# 2. Processing\n",
        "\n",
        "Due to the complex nature of our dataset, where some of its attributes are temporal and some are not, our model will consist of two separate inputs to account for this. "
      ]
    },
    {
      "cell_type": "code",
      "metadata": {
        "colab_type": "code",
        "id": "2RjaNNKcG39z",
        "colab": {}
      },
      "source": [
        "# df = pd.read_pickle('../data/sophie_dataset.pkl')"
      ],
      "execution_count": 0,
      "outputs": []
    },
    {
      "cell_type": "code",
      "metadata": {
        "colab_type": "code",
        "id": "3s52PyN2IJqQ",
        "outputId": "4bc02865-f557-45d5-9020-0d9a621183fb",
        "colab": {
          "base_uri": "https://localhost:8080/",
          "height": 122
        }
      },
      "source": [
        "from google.colab import drive\n",
        "drive.mount('/content/drive', force_remount=True)"
      ],
      "execution_count": 0,
      "outputs": [
        {
          "output_type": "stream",
          "text": [
            "Go to this URL in a browser: https://accounts.google.com/o/oauth2/auth?client_id=947318989803-6bn6qk8qdgf4n4g3pfee6491hc0brc4i.apps.googleusercontent.com&redirect_uri=urn%3Aietf%3Awg%3Aoauth%3A2.0%3Aoob&scope=email%20https%3A%2F%2Fwww.googleapis.com%2Fauth%2Fdocs.test%20https%3A%2F%2Fwww.googleapis.com%2Fauth%2Fdrive%20https%3A%2F%2Fwww.googleapis.com%2Fauth%2Fdrive.photos.readonly%20https%3A%2F%2Fwww.googleapis.com%2Fauth%2Fpeopleapi.readonly&response_type=code\n",
            "\n",
            "Enter your authorization code:\n",
            "··········\n",
            "Mounted at /content/drive\n"
          ],
          "name": "stdout"
        }
      ]
    },
    {
      "cell_type": "code",
      "metadata": {
        "colab_type": "code",
        "id": "wjCfk32WIpFM",
        "colab": {}
      },
      "source": [
        "df = pd.read_pickle('drive/My Drive/Python/Fut/sophie_dataset.pkl')"
      ],
      "execution_count": 0,
      "outputs": []
    },
    {
      "cell_type": "code",
      "metadata": {
        "colab_type": "code",
        "id": "SgLE_8j2xXan",
        "outputId": "3da678cc-7702-434f-d4a6-95384d799a6b",
        "colab": {
          "base_uri": "https://localhost:8080/",
          "height": 51
        }
      },
      "source": [
        "test_split = datetime(2019, 3, 1)\n",
        "df_train = df[df.date<test_split]\n",
        "df_test = df[df.date>=test_split]\n",
        "\n",
        "print('{} datapoints in Training Set\\n{} datapoints in Test Set'.format(df_train.shape[0], df_test.shape[0]))"
      ],
      "execution_count": 0,
      "outputs": [
        {
          "output_type": "stream",
          "text": [
            "89460 datapoints in Training Set\n",
            "61838 datapoints in Test Set\n"
          ],
          "name": "stdout"
        }
      ]
    },
    {
      "cell_type": "code",
      "metadata": {
        "colab_type": "code",
        "id": "gUQhwrcJxXaq",
        "colab": {}
      },
      "source": [
        "drop_cols = ['player_name', 'resource_id', 'date']\n",
        "temp_cols = ['promo', 'weekday', 'available', 'relative_price', 'price']\n",
        "attr_cols = [c for c in df.columns if c not in (drop_cols + temp_cols)]\n",
        "target = 'price'"
      ],
      "execution_count": 0,
      "outputs": []
    },
    {
      "cell_type": "markdown",
      "metadata": {
        "colab_type": "text",
        "id": "SQ9eeZA1xXar"
      },
      "source": [
        "### Temporal Transformation"
      ]
    },
    {
      "cell_type": "code",
      "metadata": {
        "colab_type": "code",
        "id": "UwQ7036VxXas",
        "colab": {}
      },
      "source": [
        "df_train_temp = df_train.groupby(['resource_id', 'date'])[temp_cols].first().reset_index(1)\n",
        "df_test_temp = df_test.groupby(['resource_id', 'date'])[temp_cols].first().reset_index(1)"
      ],
      "execution_count": 0,
      "outputs": []
    },
    {
      "cell_type": "code",
      "metadata": {
        "colab_type": "code",
        "id": "CABkcHmXxXat",
        "outputId": "651422e8-7bd4-4773-d07c-503b741a56e6",
        "colab": {
          "base_uri": "https://localhost:8080/",
          "height": 173
        }
      },
      "source": [
        "df_train_temp.head(3)"
      ],
      "execution_count": 0,
      "outputs": [
        {
          "output_type": "execute_result",
          "data": {
            "text/html": [
              "<div>\n",
              "<style scoped>\n",
              "    .dataframe tbody tr th:only-of-type {\n",
              "        vertical-align: middle;\n",
              "    }\n",
              "\n",
              "    .dataframe tbody tr th {\n",
              "        vertical-align: top;\n",
              "    }\n",
              "\n",
              "    .dataframe thead th {\n",
              "        text-align: right;\n",
              "    }\n",
              "</style>\n",
              "<table border=\"1\" class=\"dataframe\">\n",
              "  <thead>\n",
              "    <tr style=\"text-align: right;\">\n",
              "      <th></th>\n",
              "      <th>date</th>\n",
              "      <th>promo</th>\n",
              "      <th>weekday</th>\n",
              "      <th>available</th>\n",
              "      <th>relative_price</th>\n",
              "      <th>price</th>\n",
              "    </tr>\n",
              "    <tr>\n",
              "      <th>resource_id</th>\n",
              "      <th></th>\n",
              "      <th></th>\n",
              "      <th></th>\n",
              "      <th></th>\n",
              "      <th></th>\n",
              "      <th></th>\n",
              "    </tr>\n",
              "  </thead>\n",
              "  <tbody>\n",
              "    <tr>\n",
              "      <th>41</th>\n",
              "      <td>2018-09-21</td>\n",
              "      <td>0</td>\n",
              "      <td>4</td>\n",
              "      <td>1.0</td>\n",
              "      <td>111.00526091283947</td>\n",
              "      <td>7807</td>\n",
              "    </tr>\n",
              "    <tr>\n",
              "      <th>41</th>\n",
              "      <td>2018-09-22</td>\n",
              "      <td>0</td>\n",
              "      <td>5</td>\n",
              "      <td>1.0</td>\n",
              "      <td>111.61777891635711</td>\n",
              "      <td>8714</td>\n",
              "    </tr>\n",
              "    <tr>\n",
              "      <th>41</th>\n",
              "      <td>2018-09-23</td>\n",
              "      <td>0</td>\n",
              "      <td>6</td>\n",
              "      <td>1.0</td>\n",
              "      <td>105.73789304567363</td>\n",
              "      <td>9214</td>\n",
              "    </tr>\n",
              "  </tbody>\n",
              "</table>\n",
              "</div>"
            ],
            "text/plain": [
              "                  date  promo  weekday  available      relative_price  price\n",
              "resource_id                                                                 \n",
              "41          2018-09-21      0        4        1.0  111.00526091283947   7807\n",
              "41          2018-09-22      0        5        1.0  111.61777891635711   8714\n",
              "41          2018-09-23      0        6        1.0  105.73789304567363   9214"
            ]
          },
          "metadata": {
            "tags": []
          },
          "execution_count": 17
        }
=======
>>>>>>> 9fd24f8dac6e7e0ba8d97b16a44b2a168543a3b1
      ]
    },
    {
      "cell_type": "code",
      "metadata": {
        "colab_type": "code",
<<<<<<< HEAD
=======
        "id": "L-Fiw_GsG39L",
        "colab": {}
      },
      "source": [
        "df['days_release'] = (df.date - df.date.min()).dt.days + 1\n",
        "df['days_release'] = df.days_release / 365\n",
        "df['days_release'] = np.log(df.days_release) - np.log(1-df.days_release)"
      ],
      "execution_count": 0,
      "outputs": []
    },
    {
      "cell_type": "markdown",
      "metadata": {
        "colab_type": "text",
        "id": "uUX_o1f5G39S"
      },
      "source": [
        "**PGP Statistics**:"
      ]
    },
    {
      "cell_type": "code",
      "metadata": {
        "colab_type": "code",
        "id": "wlcP57BTG39T",
        "colab": {}
      },
      "source": [
        "df['avg_goals'] = pd.to_numeric(df.avg_goals.replace('-', 0))\n",
        "df['avg_assists'] = pd.to_numeric(df.avg_assists.replace('-', 0))"
      ],
      "execution_count": 0,
      "outputs": []
    },
    {
      "cell_type": "markdown",
      "metadata": {
        "id": "TOUYF8J2YyuD",
        "colab_type": "text"
      },
      "source": [
        "**Relative Price**:"
      ]
    },
    {
      "cell_type": "code",
      "metadata": {
        "id": "nIVsS0EZYyuE",
        "colab_type": "code",
        "colab": {}
      },
      "source": [
        "df.sort_values(by=['resource_id', 'date'], ascending=True, inplace=True)\n",
        "df_ = df.shift(1)\n",
        "df['relative_price'] = np.where(df.resource_id == df_.resource_id, df.price*100/df_.price, 'first')\n",
        "df = df[df.relative_price!='first']"
      ],
      "execution_count": 0,
      "outputs": []
    },
    {
      "cell_type": "markdown",
      "metadata": {
        "colab_type": "text",
        "id": "NQNlWWAaG39Y"
      },
      "source": [
        "**Narrow selection and projection**:\n",
        "\n",
        "We don't need all the remaining columns, so we narrow down our projection before proceeding."
      ]
    },
    {
      "cell_type": "code",
      "metadata": {
        "colab_type": "code",
        "id": "NrAhd5VmG39a",
        "colab": {}
      },
      "source": [
        "drop_cols = ['quality', 'age', 'pace', 'pace_acceleration', 'pace_sprint_speed', 'drib_agility', 'drib_balance',\n",
        "             'drib_reactions', 'drib_ball_control', 'drib_dribbling', 'shoot_positioning', 'shoot_finishing', 'shoot_shot_power',\n",
        "             'shoot_long_shots', 'shoot_volleys', 'shoot_penalties', 'pass_vision', 'pass_crossing', 'pass_free_kick', 'pass_short',\n",
        "             'pass_long', 'pass_curve', 'def_interceptions', 'def_heading', 'def_marking', 'def_stand_tackle', 'def_slid_tackle', \n",
        "             'phys_jumping', 'phys_strength', 'phys_aggression', 'pref_foot', 'num_games', 'added_date', 'position']\n",
        "df.drop(drop_cols, axis=1, inplace=True)"
      ],
      "execution_count": 0,
      "outputs": []
    },
    {
      "cell_type": "markdown",
      "metadata": {
        "colab_type": "text",
        "id": "Zv-7Oa6DG39d"
      },
      "source": [
        "For the purpose of our project, we remove players with 0 target and only keep those with a rating of 81 or greater. "
      ]
    },
    {
      "cell_type": "code",
      "metadata": {
        "colab_type": "code",
        "id": "1Rv7Q7SJG39f",
        "outputId": "a29e16b0-dbcf-41f0-fb15-622b228b8aee",
        "colab": {}
      },
      "source": [
        "df = df[(df.price!=0) & (df.overall>80)].reset_index(drop=True)\n",
        "df.head(2)"
      ],
      "execution_count": 0,
      "outputs": [
        {
          "output_type": "execute_result",
          "data": {
            "text/html": [
              "<div>\n",
              "<style scoped>\n",
              "    .dataframe tbody tr th:only-of-type {\n",
              "        vertical-align: middle;\n",
              "    }\n",
              "\n",
              "    .dataframe tbody tr th {\n",
              "        vertical-align: top;\n",
              "    }\n",
              "\n",
              "    .dataframe thead th {\n",
              "        text-align: right;\n",
              "    }\n",
              "</style>\n",
              "<table border=\"1\" class=\"dataframe\">\n",
              "  <thead>\n",
              "    <tr style=\"text-align: right;\">\n",
              "      <th></th>\n",
              "      <th>player_name</th>\n",
              "      <th>overall</th>\n",
              "      <th>club</th>\n",
              "      <th>league</th>\n",
              "      <th>nationality</th>\n",
              "      <th>height</th>\n",
              "      <th>weight</th>\n",
              "      <th>intl_rep</th>\n",
              "      <th>dribbling</th>\n",
              "      <th>drib_composure</th>\n",
              "      <th>shooting</th>\n",
              "      <th>passing</th>\n",
              "      <th>defending</th>\n",
              "      <th>physicality</th>\n",
              "      <th>phys_stamina</th>\n",
              "      <th>att_workrate</th>\n",
              "      <th>def_workrate</th>\n",
              "      <th>weak_foot</th>\n",
              "      <th>skill_moves</th>\n",
              "      <th>resource_id</th>\n",
              "      <th>avg_goals</th>\n",
              "      <th>avg_assists</th>\n",
              "      <th>date</th>\n",
              "      <th>price</th>\n",
              "      <th>days</th>\n",
              "      <th>weekday</th>\n",
              "      <th>gen_pos</th>\n",
              "      <th>promo</th>\n",
              "      <th>source</th>\n",
              "      <th>available</th>\n",
              "      <th>days_release</th>\n",
              "      <th>relative_price</th>\n",
              "    </tr>\n",
              "  </thead>\n",
              "  <tbody>\n",
              "    <tr>\n",
              "      <th>0</th>\n",
              "      <td>Iniesta</td>\n",
              "      <td>87</td>\n",
              "      <td>other</td>\n",
              "      <td>other</td>\n",
              "      <td>Spain</td>\n",
              "      <td>171</td>\n",
              "      <td>68</td>\n",
              "      <td>4</td>\n",
              "      <td>90.0</td>\n",
              "      <td>89</td>\n",
              "      <td>70.0</td>\n",
              "      <td>87.0</td>\n",
              "      <td>61.0</td>\n",
              "      <td>57.0</td>\n",
              "      <td>55</td>\n",
              "      <td>High</td>\n",
              "      <td>Med</td>\n",
              "      <td>4</td>\n",
              "      <td>4</td>\n",
              "      <td>41</td>\n",
              "      <td>0.14</td>\n",
              "      <td>0.18</td>\n",
              "      <td>2018-09-21</td>\n",
              "      <td>7807</td>\n",
              "      <td>-4.793032</td>\n",
              "      <td>4</td>\n",
              "      <td>midfielder</td>\n",
              "      <td>0</td>\n",
              "      <td>packs</td>\n",
              "      <td>1.0</td>\n",
              "      <td>-5.201256</td>\n",
              "      <td>111.00526091283947</td>\n",
              "    </tr>\n",
              "    <tr>\n",
              "      <th>1</th>\n",
              "      <td>Iniesta</td>\n",
              "      <td>87</td>\n",
              "      <td>other</td>\n",
              "      <td>other</td>\n",
              "      <td>Spain</td>\n",
              "      <td>171</td>\n",
              "      <td>68</td>\n",
              "      <td>4</td>\n",
              "      <td>90.0</td>\n",
              "      <td>89</td>\n",
              "      <td>70.0</td>\n",
              "      <td>87.0</td>\n",
              "      <td>61.0</td>\n",
              "      <td>57.0</td>\n",
              "      <td>55</td>\n",
              "      <td>High</td>\n",
              "      <td>Med</td>\n",
              "      <td>4</td>\n",
              "      <td>4</td>\n",
              "      <td>41</td>\n",
              "      <td>0.14</td>\n",
              "      <td>0.18</td>\n",
              "      <td>2018-09-22</td>\n",
              "      <td>8714</td>\n",
              "      <td>-4.502584</td>\n",
              "      <td>5</td>\n",
              "      <td>midfielder</td>\n",
              "      <td>0</td>\n",
              "      <td>packs</td>\n",
              "      <td>1.0</td>\n",
              "      <td>-4.793032</td>\n",
              "      <td>111.61777891635711</td>\n",
              "    </tr>\n",
              "  </tbody>\n",
              "</table>\n",
              "</div>"
            ],
            "text/plain": [
              "  player_name  overall   club league nationality  height  weight  intl_rep  \\\n",
              "0     Iniesta       87  other  other       Spain     171      68         4   \n",
              "1     Iniesta       87  other  other       Spain     171      68         4   \n",
              "\n",
              "   dribbling  drib_composure  shooting  passing  defending  physicality  \\\n",
              "0       90.0              89      70.0     87.0       61.0         57.0   \n",
              "1       90.0              89      70.0     87.0       61.0         57.0   \n",
              "\n",
              "   phys_stamina att_workrate def_workrate  weak_foot  skill_moves  \\\n",
              "0            55         High          Med          4            4   \n",
              "1            55         High          Med          4            4   \n",
              "\n",
              "   resource_id  avg_goals  avg_assists       date  price      days  weekday  \\\n",
              "0           41       0.14         0.18 2018-09-21   7807 -4.793032        4   \n",
              "1           41       0.14         0.18 2018-09-22   8714 -4.502584        5   \n",
              "\n",
              "      gen_pos  promo source  available  days_release      relative_price  \n",
              "0  midfielder      0  packs        1.0     -5.201256  111.00526091283947  \n",
              "1  midfielder      0  packs        1.0     -4.793032  111.61777891635711  "
            ]
          },
          "metadata": {
            "tags": []
          },
          "execution_count": 18
        }
      ]
    },
    {
      "cell_type": "code",
      "metadata": {
        "id": "NXegEP-pYyuX",
        "colab_type": "code",
        "outputId": "50ccc2b6-0d16-4904-f3f1-e7f03def84cd",
        "colab": {}
      },
      "source": [
        "fig, ax = plt.subplots(1,1, figsize=(10,10))\n",
        "sns.distplot(df.price.values, ax=ax)\n",
        "ax.set_title('Price Distribution')\n",
        "plt.tight_layout(); plt.show()"
      ],
      "execution_count": 0,
      "outputs": [
        {
          "output_type": "display_data",
          "data": {
            "image/png": "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\n",
            "text/plain": [
              "<Figure size 720x720 with 1 Axes>"
            ]
          },
          "metadata": {
            "tags": [],
            "needs_background": "dark"
          }
        }
      ]
    },
    {
      "cell_type": "code",
      "metadata": {
        "id": "GpmvoO2iYyub",
        "colab_type": "code",
        "colab": {}
      },
      "source": [
        "# eliminating \"expensive\" players -- outliers basically\n",
        "expensive_resources = df[df.price>300000].resource_id.unique()\n",
        "df=df[~df.resource_id.isin(expensive_resources)]"
      ],
      "execution_count": 0,
      "outputs": []
    },
    {
      "cell_type": "code",
      "metadata": {
        "colab_type": "code",
        "id": "ezgPpmfdxXab",
        "colab": {}
      },
      "source": [
        "df.to_pickle('../data/sophie_dataset.pkl')"
      ],
      "execution_count": 0,
      "outputs": []
    },
    {
      "cell_type": "markdown",
      "metadata": {
        "colab_type": "text",
        "id": "e-KtQ86CG39y"
      },
      "source": [
        "# 2. Processing\n",
        "\n",
        "Due to the complex nature of our dataset, where some of its attributes are temporal and some are not, our model will consist of two separate inputs to account for this. "
      ]
    },
    {
      "cell_type": "code",
      "metadata": {
        "colab_type": "code",
        "id": "2RjaNNKcG39z",
        "colab": {}
      },
      "source": [
        "df = pd.read_pickle('../data/sophie_dataset.pkl')"
      ],
      "execution_count": 0,
      "outputs": []
    },
    {
      "cell_type": "code",
      "metadata": {
        "colab_type": "code",
        "id": "3s52PyN2IJqQ",
        "outputId": "468d527f-1c31-46fa-8caa-a6f0dfe958cc",
        "colab": {
          "base_uri": "https://localhost:8080/",
          "height": 122
        }
      },
      "source": [
        "from google.colab import drive\n",
        "drive.mount('/content/drive', force_remount=True)"
      ],
      "execution_count": 3,
      "outputs": [
        {
          "output_type": "stream",
          "text": [
            "Go to this URL in a browser: https://accounts.google.com/o/oauth2/auth?client_id=947318989803-6bn6qk8qdgf4n4g3pfee6491hc0brc4i.apps.googleusercontent.com&redirect_uri=urn%3Aietf%3Awg%3Aoauth%3A2.0%3Aoob&scope=email%20https%3A%2F%2Fwww.googleapis.com%2Fauth%2Fdocs.test%20https%3A%2F%2Fwww.googleapis.com%2Fauth%2Fdrive%20https%3A%2F%2Fwww.googleapis.com%2Fauth%2Fdrive.photos.readonly%20https%3A%2F%2Fwww.googleapis.com%2Fauth%2Fpeopleapi.readonly&response_type=code\n",
            "\n",
            "Enter your authorization code:\n",
            "··········\n",
            "Mounted at /content/drive\n"
          ],
          "name": "stdout"
        }
      ]
    },
    {
      "cell_type": "code",
      "metadata": {
        "colab_type": "code",
        "id": "wjCfk32WIpFM",
        "colab": {}
      },
      "source": [
        "df = pd.read_pickle('drive/My Drive/Python/Fut/sophie_dataset.pkl')"
      ],
      "execution_count": 0,
      "outputs": []
    },
    {
      "cell_type": "code",
      "metadata": {
        "id": "SeUM2eAeEPzq",
        "colab_type": "code",
        "colab": {
          "base_uri": "https://localhost:8080/",
          "height": 165
        },
        "outputId": "3ccdc7e9-88c6-4aa2-daa0-20fcd1b4bccf"
      },
      "source": [
        "df.head(2)"
      ],
      "execution_count": 5,
      "outputs": [
        {
          "output_type": "execute_result",
          "data": {
            "text/html": [
              "<div>\n",
              "<style scoped>\n",
              "    .dataframe tbody tr th:only-of-type {\n",
              "        vertical-align: middle;\n",
              "    }\n",
              "\n",
              "    .dataframe tbody tr th {\n",
              "        vertical-align: top;\n",
              "    }\n",
              "\n",
              "    .dataframe thead th {\n",
              "        text-align: right;\n",
              "    }\n",
              "</style>\n",
              "<table border=\"1\" class=\"dataframe\">\n",
              "  <thead>\n",
              "    <tr style=\"text-align: right;\">\n",
              "      <th></th>\n",
              "      <th>player_name</th>\n",
              "      <th>overall</th>\n",
              "      <th>club</th>\n",
              "      <th>league</th>\n",
              "      <th>nationality</th>\n",
              "      <th>height</th>\n",
              "      <th>weight</th>\n",
              "      <th>intl_rep</th>\n",
              "      <th>dribbling</th>\n",
              "      <th>drib_composure</th>\n",
              "      <th>shooting</th>\n",
              "      <th>passing</th>\n",
              "      <th>defending</th>\n",
              "      <th>physicality</th>\n",
              "      <th>phys_stamina</th>\n",
              "      <th>att_workrate</th>\n",
              "      <th>def_workrate</th>\n",
              "      <th>weak_foot</th>\n",
              "      <th>skill_moves</th>\n",
              "      <th>resource_id</th>\n",
              "      <th>avg_goals</th>\n",
              "      <th>avg_assists</th>\n",
              "      <th>date</th>\n",
              "      <th>price</th>\n",
              "      <th>days</th>\n",
              "      <th>weekday</th>\n",
              "      <th>gen_pos</th>\n",
              "      <th>promo</th>\n",
              "      <th>source</th>\n",
              "      <th>available</th>\n",
              "      <th>days_release</th>\n",
              "      <th>relative_price</th>\n",
              "    </tr>\n",
              "  </thead>\n",
              "  <tbody>\n",
              "    <tr>\n",
              "      <th>0</th>\n",
              "      <td>Iniesta</td>\n",
              "      <td>87</td>\n",
              "      <td>other</td>\n",
              "      <td>other</td>\n",
              "      <td>Spain</td>\n",
              "      <td>171</td>\n",
              "      <td>68</td>\n",
              "      <td>4</td>\n",
              "      <td>90.0</td>\n",
              "      <td>89</td>\n",
              "      <td>70.0</td>\n",
              "      <td>87.0</td>\n",
              "      <td>61.0</td>\n",
              "      <td>57.0</td>\n",
              "      <td>55</td>\n",
              "      <td>High</td>\n",
              "      <td>Med</td>\n",
              "      <td>4</td>\n",
              "      <td>4</td>\n",
              "      <td>41</td>\n",
              "      <td>0.14</td>\n",
              "      <td>0.18</td>\n",
              "      <td>2018-09-21</td>\n",
              "      <td>7807</td>\n",
              "      <td>-4.793032</td>\n",
              "      <td>4</td>\n",
              "      <td>midfielder</td>\n",
              "      <td>0</td>\n",
              "      <td>packs</td>\n",
              "      <td>1.0</td>\n",
              "      <td>-5.201256</td>\n",
              "      <td>111.00526091283947</td>\n",
              "    </tr>\n",
              "    <tr>\n",
              "      <th>1</th>\n",
              "      <td>Iniesta</td>\n",
              "      <td>87</td>\n",
              "      <td>other</td>\n",
              "      <td>other</td>\n",
              "      <td>Spain</td>\n",
              "      <td>171</td>\n",
              "      <td>68</td>\n",
              "      <td>4</td>\n",
              "      <td>90.0</td>\n",
              "      <td>89</td>\n",
              "      <td>70.0</td>\n",
              "      <td>87.0</td>\n",
              "      <td>61.0</td>\n",
              "      <td>57.0</td>\n",
              "      <td>55</td>\n",
              "      <td>High</td>\n",
              "      <td>Med</td>\n",
              "      <td>4</td>\n",
              "      <td>4</td>\n",
              "      <td>41</td>\n",
              "      <td>0.14</td>\n",
              "      <td>0.18</td>\n",
              "      <td>2018-09-22</td>\n",
              "      <td>8714</td>\n",
              "      <td>-4.502584</td>\n",
              "      <td>5</td>\n",
              "      <td>midfielder</td>\n",
              "      <td>0</td>\n",
              "      <td>packs</td>\n",
              "      <td>1.0</td>\n",
              "      <td>-4.793032</td>\n",
              "      <td>111.61777891635711</td>\n",
              "    </tr>\n",
              "  </tbody>\n",
              "</table>\n",
              "</div>"
            ],
            "text/plain": [
              "  player_name  overall   club league nationality  height  weight  intl_rep  \\\n",
              "0     Iniesta       87  other  other       Spain     171      68         4   \n",
              "1     Iniesta       87  other  other       Spain     171      68         4   \n",
              "\n",
              "   dribbling  drib_composure  shooting  passing  defending  physicality  \\\n",
              "0       90.0              89      70.0     87.0       61.0         57.0   \n",
              "1       90.0              89      70.0     87.0       61.0         57.0   \n",
              "\n",
              "   phys_stamina att_workrate def_workrate  weak_foot  skill_moves  \\\n",
              "0            55         High          Med          4            4   \n",
              "1            55         High          Med          4            4   \n",
              "\n",
              "   resource_id  avg_goals  avg_assists       date  price      days  weekday  \\\n",
              "0           41       0.14         0.18 2018-09-21   7807 -4.793032        4   \n",
              "1           41       0.14         0.18 2018-09-22   8714 -4.502584        5   \n",
              "\n",
              "      gen_pos  promo source  available  days_release      relative_price  \n",
              "0  midfielder      0  packs        1.0     -5.201256  111.00526091283947  \n",
              "1  midfielder      0  packs        1.0     -4.793032  111.61777891635711  "
            ]
          },
          "metadata": {
            "tags": []
          },
          "execution_count": 5
        }
      ]
    },
    {
      "cell_type": "code",
      "metadata": {
        "colab_type": "code",
        "id": "SgLE_8j2xXan",
        "outputId": "f2077fbf-be36-4281-9abf-dc4d716252de",
        "colab": {
          "base_uri": "https://localhost:8080/",
          "height": 51
        }
      },
      "source": [
        "test_split = datetime(2019, 3, 1)\n",
        "df_train = df[df.date<test_split]\n",
        "df_test = df[df.date>=test_split]\n",
        "\n",
        "print('{} datapoints in Training Set\\n{} datapoints in Test Set'.format(df_train.shape[0], df_test.shape[0]))"
      ],
      "execution_count": 0,
      "outputs": [
        {
          "output_type": "stream",
          "text": [
            "124632 datapoints in Training Set\n",
            "119208 datapoints in Test Set\n"
          ],
          "name": "stdout"
        }
      ]
    },
    {
      "cell_type": "code",
      "metadata": {
        "colab_type": "code",
        "id": "gUQhwrcJxXaq",
        "colab": {}
      },
      "source": [
        "drop_cols = ['player_name', 'resource_id', 'date']\n",
        "temp_cols = ['promo', 'weekday', 'available', 'relative_price', 'price']\n",
        "attr_cols = [c for c in df.columns if c not in (drop_cols + temp_cols)]\n",
        "target = 'price'"
      ],
      "execution_count": 0,
      "outputs": []
    },
    {
      "cell_type": "markdown",
      "metadata": {
        "colab_type": "text",
        "id": "SQ9eeZA1xXar"
      },
      "source": [
        "### Temporal Transformation"
      ]
    },
    {
      "cell_type": "code",
      "metadata": {
        "colab_type": "code",
        "id": "UwQ7036VxXas",
        "colab": {}
      },
      "source": [
        "df_train_temp = df_train.groupby(['resource_id', 'date'])[temp_cols].first().reset_index(1)\n",
        "df_test_temp = df_test.groupby(['resource_id', 'date'])[temp_cols].first().reset_index(1)"
      ],
      "execution_count": 0,
      "outputs": []
    },
    {
      "cell_type": "code",
      "metadata": {
        "colab_type": "code",
        "id": "CABkcHmXxXat",
        "outputId": "f7d1e899-8cc2-499d-c118-a376c615945d",
        "colab": {
          "base_uri": "https://localhost:8080/",
          "height": 173
        }
      },
      "source": [
        "df_train_temp.head(3)"
      ],
      "execution_count": 0,
      "outputs": [
        {
          "output_type": "execute_result",
          "data": {
            "text/html": [
              "<div>\n",
              "<style scoped>\n",
              "    .dataframe tbody tr th:only-of-type {\n",
              "        vertical-align: middle;\n",
              "    }\n",
              "\n",
              "    .dataframe tbody tr th {\n",
              "        vertical-align: top;\n",
              "    }\n",
              "\n",
              "    .dataframe thead th {\n",
              "        text-align: right;\n",
              "    }\n",
              "</style>\n",
              "<table border=\"1\" class=\"dataframe\">\n",
              "  <thead>\n",
              "    <tr style=\"text-align: right;\">\n",
              "      <th></th>\n",
              "      <th>date</th>\n",
              "      <th>promo</th>\n",
              "      <th>available</th>\n",
              "      <th>relative_price</th>\n",
              "      <th>price</th>\n",
              "    </tr>\n",
              "    <tr>\n",
              "      <th>resource_id</th>\n",
              "      <th></th>\n",
              "      <th></th>\n",
              "      <th></th>\n",
              "      <th></th>\n",
              "      <th></th>\n",
              "    </tr>\n",
              "  </thead>\n",
              "  <tbody>\n",
              "    <tr>\n",
              "      <th>41</th>\n",
              "      <td>2018-09-21</td>\n",
              "      <td>0</td>\n",
              "      <td>1.0</td>\n",
              "      <td>111.00526091283947</td>\n",
              "      <td>7807</td>\n",
              "    </tr>\n",
              "    <tr>\n",
              "      <th>41</th>\n",
              "      <td>2018-09-22</td>\n",
              "      <td>0</td>\n",
              "      <td>1.0</td>\n",
              "      <td>111.61777891635711</td>\n",
              "      <td>8714</td>\n",
              "    </tr>\n",
              "    <tr>\n",
              "      <th>41</th>\n",
              "      <td>2018-09-23</td>\n",
              "      <td>0</td>\n",
              "      <td>1.0</td>\n",
              "      <td>105.73789304567363</td>\n",
              "      <td>9214</td>\n",
              "    </tr>\n",
              "  </tbody>\n",
              "</table>\n",
              "</div>"
            ],
            "text/plain": [
              "                  date  promo  available      relative_price  price\n",
              "resource_id                                                        \n",
              "41          2018-09-21      0        1.0  111.00526091283947   7807\n",
              "41          2018-09-22      0        1.0  111.61777891635711   8714\n",
              "41          2018-09-23      0        1.0  105.73789304567363   9214"
            ]
          },
          "metadata": {
            "tags": []
          },
          "execution_count": 8
        }
      ]
    },
    {
      "cell_type": "code",
      "metadata": {
        "colab_type": "code",
>>>>>>> 9fd24f8dac6e7e0ba8d97b16a44b2a168543a3b1
        "id": "F8wNy6NAxXav",
        "colab": {}
      },
      "source": [
        "assert df_train_temp.shape[1] == df_test_temp.shape[1]"
      ],
      "execution_count": 0,
      "outputs": []
    },
    {
      "cell_type": "markdown",
      "metadata": {
        "colab_type": "text",
        "id": "akndXpR8xXax"
      },
      "source": [
        "### Attributes Transformation"
      ]
    },
    {
      "cell_type": "code",
      "metadata": {
        "colab_type": "code",
        "id": "ilaoOsSCxXax",
        "colab": {}
      },
      "source": [
        "df_train_attr = df_train.groupby('resource_id')[attr_cols].first()\n",
        "df_test_attr = df_test.groupby('resource_id')[attr_cols].first()"
      ],
      "execution_count": 0,
      "outputs": []
    },
    {
      "cell_type": "code",
      "metadata": {
        "colab_type": "code",
        "id": "o5Gnzq7ZxXa4",
        "colab": {}
      },
      "source": [
        "attr_cat = ['club', 'league', 'nationality', 'att_workrate', 'def_workrate', 'gen_pos', 'source']\n",
        "attr_num = [v for v in df_train_attr.columns if v not in attr_cat]\n",
        "num_mask = df_train_attr.columns.isin(attr_num)\n",
        "\n",
<<<<<<< HEAD
        "# ct = make_column_transformer((StandardScaler(), num_mask), (OneHotEncoder(), ~num_mask))\n",
        "ct = make_column_transformer(('passthrough', num_mask), (OneHotEncoder(), ~num_mask))\n",
=======
        "ct = make_column_transformer((StandardScaler(), num_mask), (OneHotEncoder(), ~num_mask))\n",
>>>>>>> 9fd24f8dac6e7e0ba8d97b16a44b2a168543a3b1
        "attr_ct = ct.fit(df_train_attr)\n",
        "\n",
        "def attr_transform(df):\n",
        "    resources = df.index.values\n",
        "    cols = attr_num + attr_ct.named_transformers_['onehotencoder'].get_feature_names().tolist()\n",
        "    data = attr_ct.transform(df)\n",
        "    \n",
        "    return pd.DataFrame(data=data, columns=cols, index=resources)\n",
        "\n",
        "df_train_attr = attr_transform(df_train_attr)\n",
        "df_test_attr = attr_transform(df_test_attr)"
      ],
      "execution_count": 0,
      "outputs": []
    },
    {
      "cell_type": "code",
      "metadata": {
        "colab_type": "code",
        "id": "Ezz5JdpfxXa6",
<<<<<<< HEAD
        "outputId": "ee3405df-3bae-44a1-f82c-cb0f9f32547b",
=======
        "outputId": "cf1fefb2-ed2d-4bd9-df95-17972feed7b3",
>>>>>>> 9fd24f8dac6e7e0ba8d97b16a44b2a168543a3b1
        "colab": {
          "base_uri": "https://localhost:8080/",
          "height": 196
        }
      },
      "source": [
        "df_train_attr.head(3)"
      ],
      "execution_count": 0,
      "outputs": [
        {
          "output_type": "execute_result",
          "data": {
            "text/html": [
              "<div>\n",
              "<style scoped>\n",
              "    .dataframe tbody tr th:only-of-type {\n",
              "        vertical-align: middle;\n",
              "    }\n",
              "\n",
              "    .dataframe tbody tr th {\n",
              "        vertical-align: top;\n",
              "    }\n",
              "\n",
              "    .dataframe thead th {\n",
              "        text-align: right;\n",
              "    }\n",
              "</style>\n",
              "<table border=\"1\" class=\"dataframe\">\n",
              "  <thead>\n",
              "    <tr style=\"text-align: right;\">\n",
              "      <th></th>\n",
              "      <th>overall</th>\n",
              "      <th>height</th>\n",
              "      <th>weight</th>\n",
              "      <th>intl_rep</th>\n",
              "      <th>dribbling</th>\n",
              "      <th>drib_composure</th>\n",
              "      <th>shooting</th>\n",
              "      <th>passing</th>\n",
              "      <th>defending</th>\n",
              "      <th>physicality</th>\n",
              "      <th>phys_stamina</th>\n",
              "      <th>weak_foot</th>\n",
              "      <th>skill_moves</th>\n",
              "      <th>avg_goals</th>\n",
              "      <th>avg_assists</th>\n",
              "      <th>days</th>\n",
<<<<<<< HEAD
=======
              "      <th>weekday</th>\n",
>>>>>>> 9fd24f8dac6e7e0ba8d97b16a44b2a168543a3b1
              "      <th>days_release</th>\n",
              "      <th>x0_Arsenal</th>\n",
              "      <th>x0_Atlético Madrid</th>\n",
              "      <th>x0_Borussia Dortmund</th>\n",
              "      <th>x0_Chelsea</th>\n",
              "      <th>x0_FC Barcelona</th>\n",
              "      <th>x0_FC Bayern München</th>\n",
              "      <th>x0_Inter</th>\n",
              "      <th>x0_Juventus</th>\n",
              "      <th>x0_Liverpool</th>\n",
              "      <th>x0_Manchester City</th>\n",
              "      <th>x0_Manchester United</th>\n",
              "      <th>x0_Napoli</th>\n",
              "      <th>x0_Paris Saint-Germain</th>\n",
              "      <th>x0_Real Madrid</th>\n",
              "      <th>x0_Tottenham Hotspur</th>\n",
              "      <th>x0_other</th>\n",
              "      <th>x1_Bundesliga</th>\n",
              "      <th>x1_LaLiga Santander</th>\n",
              "      <th>x1_Ligue 1 Conforama</th>\n",
              "      <th>x1_Premier League</th>\n",
              "      <th>x1_Serie A TIM</th>\n",
              "      <th>x1_other</th>\n",
              "      <th>x2_Argentina</th>\n",
              "      <th>x2_Belgium</th>\n",
              "      <th>x2_Brazil</th>\n",
              "      <th>x2_England</th>\n",
              "      <th>x2_France</th>\n",
              "      <th>x2_Germany</th>\n",
              "      <th>x2_Holland</th>\n",
              "      <th>x2_Italy</th>\n",
              "      <th>x2_Portugal</th>\n",
              "      <th>x2_Spain</th>\n",
              "      <th>x2_other</th>\n",
              "      <th>x3_High</th>\n",
              "      <th>x3_Low</th>\n",
              "      <th>x3_Med</th>\n",
              "      <th>x4_High</th>\n",
              "      <th>x4_Low</th>\n",
              "      <th>x4_Med</th>\n",
              "      <th>x5_defender</th>\n",
              "      <th>x5_forward</th>\n",
              "      <th>x5_midfielder</th>\n",
              "      <th>x6_packs</th>\n",
              "    </tr>\n",
              "  </thead>\n",
              "  <tbody>\n",
              "    <tr>\n",
              "      <th>41</th>\n",
<<<<<<< HEAD
              "      <td>87.0</td>\n",
              "      <td>171.0</td>\n",
              "      <td>68.0</td>\n",
              "      <td>4.0</td>\n",
              "      <td>90.0</td>\n",
              "      <td>89.0</td>\n",
              "      <td>70.0</td>\n",
              "      <td>87.0</td>\n",
              "      <td>61.0</td>\n",
              "      <td>57.0</td>\n",
              "      <td>55.0</td>\n",
              "      <td>4.0</td>\n",
              "      <td>4.0</td>\n",
              "      <td>0.14</td>\n",
              "      <td>0.18</td>\n",
              "      <td>-4.793032</td>\n",
              "      <td>-5.201256</td>\n",
=======
              "      <td>1.491659</td>\n",
              "      <td>-1.551348</td>\n",
              "      <td>-1.118467</td>\n",
              "      <td>1.871713</td>\n",
              "      <td>1.361879</td>\n",
              "      <td>1.731676</td>\n",
              "      <td>-0.042582</td>\n",
              "      <td>1.391017</td>\n",
              "      <td>-0.053661</td>\n",
              "      <td>-2.003031</td>\n",
              "      <td>-2.613395</td>\n",
              "      <td>0.881270</td>\n",
              "      <td>0.828449</td>\n",
              "      <td>-0.357245</td>\n",
              "      <td>0.089985</td>\n",
              "      <td>-0.180399</td>\n",
              "      <td>0.669069</td>\n",
              "      <td>-1.199013</td>\n",
>>>>>>> 9fd24f8dac6e7e0ba8d97b16a44b2a168543a3b1
              "      <td>0.0</td>\n",
              "      <td>0.0</td>\n",
              "      <td>0.0</td>\n",
              "      <td>0.0</td>\n",
              "      <td>0.0</td>\n",
              "      <td>0.0</td>\n",
              "      <td>0.0</td>\n",
              "      <td>0.0</td>\n",
              "      <td>0.0</td>\n",
              "      <td>0.0</td>\n",
              "      <td>0.0</td>\n",
              "      <td>0.0</td>\n",
              "      <td>0.0</td>\n",
              "      <td>0.0</td>\n",
              "      <td>0.0</td>\n",
              "      <td>1.0</td>\n",
              "      <td>0.0</td>\n",
              "      <td>0.0</td>\n",
              "      <td>0.0</td>\n",
              "      <td>0.0</td>\n",
              "      <td>0.0</td>\n",
              "      <td>1.0</td>\n",
              "      <td>0.0</td>\n",
              "      <td>0.0</td>\n",
              "      <td>0.0</td>\n",
              "      <td>0.0</td>\n",
              "      <td>0.0</td>\n",
              "      <td>0.0</td>\n",
              "      <td>0.0</td>\n",
              "      <td>0.0</td>\n",
              "      <td>0.0</td>\n",
              "      <td>1.0</td>\n",
              "      <td>0.0</td>\n",
              "      <td>1.0</td>\n",
              "      <td>0.0</td>\n",
              "      <td>0.0</td>\n",
              "      <td>0.0</td>\n",
              "      <td>0.0</td>\n",
              "      <td>1.0</td>\n",
              "      <td>0.0</td>\n",
              "      <td>0.0</td>\n",
              "      <td>1.0</td>\n",
              "      <td>1.0</td>\n",
              "    </tr>\n",
              "    <tr>\n",
              "      <th>9014</th>\n",
<<<<<<< HEAD
              "      <td>85.0</td>\n",
              "      <td>180.0</td>\n",
              "      <td>80.0</td>\n",
              "      <td>4.0</td>\n",
              "      <td>88.0</td>\n",
              "      <td>85.0</td>\n",
              "      <td>85.0</td>\n",
              "      <td>81.0</td>\n",
              "      <td>32.0</td>\n",
              "      <td>62.0</td>\n",
              "      <td>64.0</td>\n",
              "      <td>2.0</td>\n",
              "      <td>4.0</td>\n",
              "      <td>0.25</td>\n",
              "      <td>0.20</td>\n",
              "      <td>-4.793032</td>\n",
              "      <td>-5.201256</td>\n",
=======
              "      <td>0.626099</td>\n",
              "      <td>-0.223597</td>\n",
              "      <td>0.516591</td>\n",
              "      <td>1.871713</td>\n",
              "      <td>1.121456</td>\n",
              "      <td>1.004309</td>\n",
              "      <td>1.013559</td>\n",
              "      <td>0.712097</td>\n",
              "      <td>-1.510741</td>\n",
              "      <td>-1.414826</td>\n",
              "      <td>-1.587893</td>\n",
              "      <td>-1.834939</td>\n",
              "      <td>0.828449</td>\n",
              "      <td>0.173808</td>\n",
              "      <td>0.271626</td>\n",
              "      <td>-0.180399</td>\n",
              "      <td>0.669069</td>\n",
              "      <td>-1.199013</td>\n",
>>>>>>> 9fd24f8dac6e7e0ba8d97b16a44b2a168543a3b1
              "      <td>0.0</td>\n",
              "      <td>0.0</td>\n",
              "      <td>0.0</td>\n",
              "      <td>0.0</td>\n",
              "      <td>0.0</td>\n",
              "      <td>1.0</td>\n",
              "      <td>0.0</td>\n",
              "      <td>0.0</td>\n",
              "      <td>0.0</td>\n",
              "      <td>0.0</td>\n",
              "      <td>0.0</td>\n",
              "      <td>0.0</td>\n",
              "      <td>0.0</td>\n",
              "      <td>0.0</td>\n",
              "      <td>0.0</td>\n",
              "      <td>0.0</td>\n",
              "      <td>1.0</td>\n",
              "      <td>0.0</td>\n",
              "      <td>0.0</td>\n",
              "      <td>0.0</td>\n",
              "      <td>0.0</td>\n",
              "      <td>0.0</td>\n",
              "      <td>0.0</td>\n",
              "      <td>0.0</td>\n",
              "      <td>0.0</td>\n",
              "      <td>0.0</td>\n",
              "      <td>0.0</td>\n",
              "      <td>0.0</td>\n",
              "      <td>1.0</td>\n",
              "      <td>0.0</td>\n",
              "      <td>0.0</td>\n",
              "      <td>0.0</td>\n",
              "      <td>0.0</td>\n",
              "      <td>1.0</td>\n",
              "      <td>0.0</td>\n",
              "      <td>0.0</td>\n",
              "      <td>0.0</td>\n",
              "      <td>1.0</td>\n",
              "      <td>0.0</td>\n",
              "      <td>0.0</td>\n",
              "      <td>1.0</td>\n",
              "      <td>0.0</td>\n",
              "      <td>1.0</td>\n",
              "    </tr>\n",
              "    <tr>\n",
              "      <th>20775</th>\n",
<<<<<<< HEAD
              "      <td>84.0</td>\n",
              "      <td>175.0</td>\n",
              "      <td>67.0</td>\n",
              "      <td>3.0</td>\n",
              "      <td>88.0</td>\n",
              "      <td>80.0</td>\n",
              "      <td>74.0</td>\n",
              "      <td>82.0</td>\n",
              "      <td>24.0</td>\n",
              "      <td>62.0</td>\n",
              "      <td>65.0</td>\n",
              "      <td>4.0</td>\n",
              "      <td>5.0</td>\n",
              "      <td>0.20</td>\n",
              "      <td>0.21</td>\n",
              "      <td>-4.793032</td>\n",
              "      <td>-5.201256</td>\n",
=======
              "      <td>0.193319</td>\n",
              "      <td>-0.961236</td>\n",
              "      <td>-1.254722</td>\n",
              "      <td>0.706711</td>\n",
              "      <td>1.121456</td>\n",
              "      <td>0.095099</td>\n",
              "      <td>0.239056</td>\n",
              "      <td>0.825250</td>\n",
              "      <td>-1.912695</td>\n",
              "      <td>-1.414826</td>\n",
              "      <td>-1.473949</td>\n",
              "      <td>0.881270</td>\n",
              "      <td>2.002084</td>\n",
              "      <td>-0.067580</td>\n",
              "      <td>0.362446</td>\n",
              "      <td>-0.180399</td>\n",
              "      <td>0.669069</td>\n",
              "      <td>-1.199013</td>\n",
>>>>>>> 9fd24f8dac6e7e0ba8d97b16a44b2a168543a3b1
              "      <td>0.0</td>\n",
              "      <td>0.0</td>\n",
              "      <td>0.0</td>\n",
              "      <td>0.0</td>\n",
              "      <td>0.0</td>\n",
              "      <td>0.0</td>\n",
              "      <td>0.0</td>\n",
              "      <td>0.0</td>\n",
              "      <td>0.0</td>\n",
              "      <td>0.0</td>\n",
              "      <td>0.0</td>\n",
              "      <td>0.0</td>\n",
              "      <td>0.0</td>\n",
              "      <td>0.0</td>\n",
              "      <td>0.0</td>\n",
              "      <td>1.0</td>\n",
              "      <td>0.0</td>\n",
              "      <td>0.0</td>\n",
              "      <td>0.0</td>\n",
              "      <td>0.0</td>\n",
              "      <td>0.0</td>\n",
              "      <td>1.0</td>\n",
              "      <td>0.0</td>\n",
              "      <td>0.0</td>\n",
              "      <td>0.0</td>\n",
              "      <td>0.0</td>\n",
              "      <td>0.0</td>\n",
              "      <td>0.0</td>\n",
              "      <td>0.0</td>\n",
              "      <td>0.0</td>\n",
              "      <td>1.0</td>\n",
              "      <td>0.0</td>\n",
              "      <td>0.0</td>\n",
              "      <td>1.0</td>\n",
              "      <td>0.0</td>\n",
              "      <td>0.0</td>\n",
              "      <td>0.0</td>\n",
              "      <td>1.0</td>\n",
              "      <td>0.0</td>\n",
              "      <td>0.0</td>\n",
              "      <td>1.0</td>\n",
              "      <td>0.0</td>\n",
              "      <td>1.0</td>\n",
              "    </tr>\n",
              "  </tbody>\n",
              "</table>\n",
              "</div>"
            ],
            "text/plain": [
<<<<<<< HEAD
              "       overall  height  weight  intl_rep  dribbling  drib_composure  shooting  \\\n",
              "41        87.0   171.0    68.0       4.0       90.0            89.0      70.0   \n",
              "9014      85.0   180.0    80.0       4.0       88.0            85.0      85.0   \n",
              "20775     84.0   175.0    67.0       3.0       88.0            80.0      74.0   \n",
              "\n",
              "       passing  defending  physicality  phys_stamina  weak_foot  skill_moves  \\\n",
              "41        87.0       61.0         57.0          55.0        4.0          4.0   \n",
              "9014      81.0       32.0         62.0          64.0        2.0          4.0   \n",
              "20775     82.0       24.0         62.0          65.0        4.0          5.0   \n",
              "\n",
              "       avg_goals  avg_assists      days  days_release  x0_Arsenal  \\\n",
              "41          0.14         0.18 -4.793032     -5.201256         0.0   \n",
              "9014        0.25         0.20 -4.793032     -5.201256         0.0   \n",
              "20775       0.20         0.21 -4.793032     -5.201256         0.0   \n",
              "\n",
              "       x0_Atlético Madrid  x0_Borussia Dortmund  x0_Chelsea  x0_FC Barcelona  \\\n",
              "41                    0.0                   0.0         0.0              0.0   \n",
              "9014                  0.0                   0.0         0.0              0.0   \n",
              "20775                 0.0                   0.0         0.0              0.0   \n",
              "\n",
              "       x0_FC Bayern München  x0_Inter  x0_Juventus  x0_Liverpool  \\\n",
              "41                      0.0       0.0          0.0           0.0   \n",
              "9014                    1.0       0.0          0.0           0.0   \n",
              "20775                   0.0       0.0          0.0           0.0   \n",
              "\n",
              "       x0_Manchester City  x0_Manchester United  x0_Napoli  \\\n",
              "41                    0.0                   0.0        0.0   \n",
              "9014                  0.0                   0.0        0.0   \n",
              "20775                 0.0                   0.0        0.0   \n",
=======
              "        overall    height    weight  intl_rep  dribbling  drib_composure  \\\n",
              "41     1.491659 -1.551348 -1.118467  1.871713   1.361879        1.731676   \n",
              "9014   0.626099 -0.223597  0.516591  1.871713   1.121456        1.004309   \n",
              "20775  0.193319 -0.961236 -1.254722  0.706711   1.121456        0.095099   \n",
              "\n",
              "       shooting   passing  defending  physicality  phys_stamina  weak_foot  \\\n",
              "41    -0.042582  1.391017  -0.053661    -2.003031     -2.613395   0.881270   \n",
              "9014   1.013559  0.712097  -1.510741    -1.414826     -1.587893  -1.834939   \n",
              "20775  0.239056  0.825250  -1.912695    -1.414826     -1.473949   0.881270   \n",
              "\n",
              "       skill_moves  avg_goals  avg_assists      days   weekday  days_release  \\\n",
              "41        0.828449  -0.357245     0.089985 -0.180399  0.669069     -1.199013   \n",
              "9014      0.828449   0.173808     0.271626 -0.180399  0.669069     -1.199013   \n",
              "20775     2.002084  -0.067580     0.362446 -0.180399  0.669069     -1.199013   \n",
              "\n",
              "       x0_Arsenal  x0_Atlético Madrid  x0_Borussia Dortmund  x0_Chelsea  \\\n",
              "41            0.0                 0.0                   0.0         0.0   \n",
              "9014          0.0                 0.0                   0.0         0.0   \n",
              "20775         0.0                 0.0                   0.0         0.0   \n",
              "\n",
              "       x0_FC Barcelona  x0_FC Bayern München  x0_Inter  x0_Juventus  \\\n",
              "41                 0.0                   0.0       0.0          0.0   \n",
              "9014               0.0                   1.0       0.0          0.0   \n",
              "20775              0.0                   0.0       0.0          0.0   \n",
              "\n",
              "       x0_Liverpool  x0_Manchester City  x0_Manchester United  x0_Napoli  \\\n",
              "41              0.0                 0.0                   0.0        0.0   \n",
              "9014            0.0                 0.0                   0.0        0.0   \n",
              "20775           0.0                 0.0                   0.0        0.0   \n",
>>>>>>> 9fd24f8dac6e7e0ba8d97b16a44b2a168543a3b1
              "\n",
              "       x0_Paris Saint-Germain  x0_Real Madrid  x0_Tottenham Hotspur  x0_other  \\\n",
              "41                        0.0             0.0                   0.0       1.0   \n",
              "9014                      0.0             0.0                   0.0       0.0   \n",
              "20775                     0.0             0.0                   0.0       1.0   \n",
              "\n",
              "       x1_Bundesliga  x1_LaLiga Santander  x1_Ligue 1 Conforama  \\\n",
              "41               0.0                  0.0                   0.0   \n",
              "9014             1.0                  0.0                   0.0   \n",
              "20775            0.0                  0.0                   0.0   \n",
              "\n",
              "       x1_Premier League  x1_Serie A TIM  x1_other  x2_Argentina  x2_Belgium  \\\n",
              "41                   0.0             0.0       1.0           0.0         0.0   \n",
              "9014                 0.0             0.0       0.0           0.0         0.0   \n",
              "20775                0.0             0.0       1.0           0.0         0.0   \n",
              "\n",
              "       x2_Brazil  x2_England  x2_France  x2_Germany  x2_Holland  x2_Italy  \\\n",
              "41           0.0         0.0        0.0         0.0         0.0       0.0   \n",
              "9014         0.0         0.0        0.0         0.0         1.0       0.0   \n",
              "20775        0.0         0.0        0.0         0.0         0.0       0.0   \n",
              "\n",
              "       x2_Portugal  x2_Spain  x2_other  x3_High  x3_Low  x3_Med  x4_High  \\\n",
              "41             0.0       1.0       0.0      1.0     0.0     0.0      0.0   \n",
              "9014           0.0       0.0       0.0      1.0     0.0     0.0      0.0   \n",
              "20775          1.0       0.0       0.0      1.0     0.0     0.0      0.0   \n",
              "\n",
              "       x4_Low  x4_Med  x5_defender  x5_forward  x5_midfielder  x6_packs  \n",
              "41        0.0     1.0          0.0         0.0            1.0       1.0  \n",
              "9014      1.0     0.0          0.0         1.0            0.0       1.0  \n",
              "20775     1.0     0.0          0.0         1.0            0.0       1.0  "
            ]
          },
          "metadata": {
            "tags": []
          },
<<<<<<< HEAD
          "execution_count": 21
=======
          "execution_count": 12
>>>>>>> 9fd24f8dac6e7e0ba8d97b16a44b2a168543a3b1
        }
      ]
    },
    {
      "cell_type": "code",
      "metadata": {
        "colab_type": "code",
        "id": "pvmCVBQwxXa9",
        "colab": {}
      },
      "source": [
        "assert df_test_attr.shape[1] == df_train_attr.shape[1]"
      ],
      "execution_count": 0,
      "outputs": []
    },
    {
      "cell_type": "markdown",
      "metadata": {
        "colab_type": "text",
        "id": "f3S3qR_mxXbA"
      },
      "source": [
        "### Input Processing"
      ]
    },
    {
      "cell_type": "code",
      "metadata": {
        "colab_type": "code",
        "id": "FFMB7GM6xXbA",
        "colab": {}
      },
      "source": [
        "def data_process(df_temp, df_attr, num_obs, num_steps):\n",
        "    \"\"\"\n",
        "    Constructs the temporal and attribute datasets for our model\n",
        "    Arguments:\n",
        "        - df_temp: our temporal dataframe\n",
        "        - df_attr: our attributes dataframe\n",
        "        - num_obs: number of observations to be used in model\n",
        "        - num_steps: number of steps to predict\n",
        "    Returns:\n",
        "        - temp_data: temporal dataset\n",
        "        - attr_data: attribute dataset\n",
        "        - targ_data: target dataset\n",
        "        - reso_data: corresponding resource\n",
        "    \"\"\"\n",
        "    \n",
        "    resources = df_temp.index.unique().values\n",
        "    \n",
        "    reso_data = []\n",
        "    targ_data = []\n",
        "    temp_data = []\n",
        "    attr_data = []\n",
        "    \n",
        "    for r in resources:\n",
        "        \n",
        "        attributes = df_attr[df_attr.index==r].values[0]\n",
        "        temporal_d = df_temp[df_temp.index==r].values\n",
        "        \n",
        "        total_obs = temporal_d.shape[0]\n",
        "        window_size = num_obs + num_steps\n",
        "        \n",
        "        if window_size > total_obs:\n",
        "            continue\n",
        "        \n",
        "        for i in range(total_obs - window_size):\n",
        "            \n",
<<<<<<< HEAD
        "            attr = np.append(attributes, temporal_d[i+num_obs-1][-1])\n",
=======
>>>>>>> 9fd24f8dac6e7e0ba8d97b16a44b2a168543a3b1
        "            temp = temporal_d[i:i+num_obs][:, 1:]\n",
        "            targ = temporal_d[i+num_obs:i+num_obs+num_steps][:, -1]\n",
        "            targ_data.append(targ)\n",
        "            temp_data.append(temp)\n",
<<<<<<< HEAD
        "            attr_data.append(attr)\n",
=======
        "            attr_data.append(attributes)\n",
>>>>>>> 9fd24f8dac6e7e0ba8d97b16a44b2a168543a3b1
        "            reso_data.append(r)\n",
        "          \n",
        "    return attr_data, temp_data, targ_data, reso_data"
      ],
      "execution_count": 0,
      "outputs": []
    },
    {
      "cell_type": "code",
      "metadata": {
        "colab_type": "code",
        "id": "f2NVyHdrxXbC",
        "colab": {}
      },
      "source": [
<<<<<<< HEAD
        "train_attr, train_temp, train_targ, train_res = data_process(df_train_temp, df_train_attr, 4, 4)\n",
        "test_attr, test_temp, test_targ, test_res  = data_process(df_test_temp, df_test_attr, 4, 4)"
=======
        "train_attr, train_temp, train_targ, train_res = data_process(df_train_temp, df_train_attr, 21, 4)\n",
        "test_attr, test_temp, test_targ, test_res  = data_process(df_test_temp, df_test_attr, 21, 4)"
>>>>>>> 9fd24f8dac6e7e0ba8d97b16a44b2a168543a3b1
      ],
      "execution_count": 0,
      "outputs": []
    },
    {
      "cell_type": "code",
      "metadata": {
        "colab_type": "code",
        "id": "YIOMpT4OxXbE",
        "colab": {}
      },
      "source": [
        "train_attr = np.asarray(train_attr)\n",
        "train_temp = np.asarray(train_temp)\n",
        "train_targ = np.asarray(train_targ)\n",
        "train_res = np.asarray(train_res)\n",
        "\n",
        "test_attr = np.asarray(test_attr)\n",
        "test_temp = np.asarray(test_temp)\n",
        "test_targ = np.asarray(test_targ)\n",
        "test_res = np.asarray(test_res)"
      ],
      "execution_count": 0,
      "outputs": []
    },
    {
      "cell_type": "code",
      "metadata": {
        "colab_type": "code",
        "id": "IGOWgOdBxXbI",
        "colab": {}
      },
      "source": [
        "assert train_res.shape[0] == train_temp.shape[0]\n",
        "assert train_temp.shape[0] == train_targ.shape[0]\n",
        "assert train_targ.shape[0] == train_attr.shape[0]"
      ],
      "execution_count": 0,
      "outputs": []
    },
    {
      "cell_type": "markdown",
      "metadata": {
        "colab_type": "text",
        "id": "279ZyqvbxXbJ"
      },
      "source": [
        "# Modeling\n",
        "The temporal data will be fed into an LSTM layer, the attributes will be fed into a Dense layer; their outputs will be concatenated and fed into more layers. "
      ]
    },
    {
      "cell_type": "code",
      "metadata": {
        "colab_type": "code",
        "id": "wTs4ANHkxXbL",
        "colab": {}
      },
      "source": [
        "train_temp = train_temp.astype(np.float64)\n",
        "test_temp = test_temp.astype(np.float64)\n",
        "\n",
        "train_targ = train_targ.astype(np.int64)\n",
        "test_targ = test_targ.astype(np.int64)"
      ],
      "execution_count": 0,
      "outputs": []
    },
    {
      "cell_type": "code",
      "metadata": {
        "colab_type": "code",
<<<<<<< HEAD
        "id": "-Wyvy_ou3d39",
        "outputId": "e2faf91d-bf6f-49bb-ad1f-32d2b892798d",
=======
        "outputId": "77c26950-65de-4ce0-da3e-00c9cad789d1",
        "id": "w8Ic1szVaLvt",
>>>>>>> 9fd24f8dac6e7e0ba8d97b16a44b2a168543a3b1
        "colab": {
          "base_uri": "https://localhost:8080/",
          "height": 34
        }
      },
      "source": [
        "train_temp[0].shape"
      ],
      "execution_count": 0,
      "outputs": [
        {
          "output_type": "execute_result",
          "data": {
            "text/plain": [
<<<<<<< HEAD
              "(4, 5)"
=======
              "(21, 4)"
>>>>>>> 9fd24f8dac6e7e0ba8d97b16a44b2a168543a3b1
            ]
          },
          "metadata": {
            "tags": []
          },
<<<<<<< HEAD
          "execution_count": 43
=======
          "execution_count": 19
>>>>>>> 9fd24f8dac6e7e0ba8d97b16a44b2a168543a3b1
        }
      ]
    },
    {
      "cell_type": "code",
      "metadata": {
        "colab_type": "code",
        "id": "ZiFaeGda3klm",
<<<<<<< HEAD
        "outputId": "25e17157-b08a-484d-fd8c-c022af673a1b",
=======
        "outputId": "94fe813b-0574-4ba5-a3ff-016c15ef9235",
>>>>>>> 9fd24f8dac6e7e0ba8d97b16a44b2a168543a3b1
        "colab": {
          "base_uri": "https://localhost:8080/",
          "height": 34
        }
      },
      "source": [
        "train_attr[0].shape"
      ],
      "execution_count": 0,
      "outputs": [
        {
          "output_type": "execute_result",
          "data": {
            "text/plain": [
              "(61,)"
            ]
          },
          "metadata": {
            "tags": []
          },
<<<<<<< HEAD
          "execution_count": 44
=======
          "execution_count": 20
>>>>>>> 9fd24f8dac6e7e0ba8d97b16a44b2a168543a3b1
        }
      ]
    },
    {
      "cell_type": "code",
      "metadata": {
        "colab_type": "code",
        "id": "WOTXIXukxXbM",
<<<<<<< HEAD
        "colab": {}
=======
        "outputId": "97c1121b-0c99-4127-b7cb-9c6dc1f9ac83",
        "colab": {
          "base_uri": "https://localhost:8080/",
          "height": 34
        }
>>>>>>> 9fd24f8dac6e7e0ba8d97b16a44b2a168543a3b1
      },
      "source": [
        "tf.random.set_seed(42)\n",
        "\n",
        "input_attr = Input(shape=train_attr[0].shape)\n",
        "input_temp = Input(shape=train_temp[0].shape)\n",
        "\n",
        "# temporal path\n",
<<<<<<< HEAD
        "X_temp1 = LSTM(16)(input_temp)\n",
=======
        "X_temp1 = LSTM(4)(input_temp)\n",
        "print(X_temp1.shape)\n",
>>>>>>> 9fd24f8dac6e7e0ba8d97b16a44b2a168543a3b1
        "\n",
        "# attribute path\n",
        "X_attr1 = Dense(64, activation='relu')(input_attr)\n",
        "\n",
        "# merged path\n",
        "X_3 = Concatenate(axis=1)([X_attr1, X_temp1])\n",
        "X_4 = Dense(64, activation='relu')(X_3)\n",
        "X_5 = Dense(64, activation='relu')(X_4)\n",
<<<<<<< HEAD
        "output = Dense(train_targ[0].shape[0])(X_5)\n",
=======
        "X_6 = add([X_4, X_5])\n",
        "X_7 = Dense(64, activation='relu')(X_6)\n",
        "output = Dense(train_targ[0].shape[0])(X_7)\n",
>>>>>>> 9fd24f8dac6e7e0ba8d97b16a44b2a168543a3b1
        "\n",
        "model = Model([input_attr, input_temp], output)\n",
        "optimizer = Adam(learning_rate=0.01)\n",
        "model.compile(optimizer=optimizer, loss='mse')"
      ],
      "execution_count": 0,
<<<<<<< HEAD
      "outputs": []
=======
      "outputs": [
        {
          "output_type": "stream",
          "text": [
            "(None, 4)\n"
          ],
          "name": "stdout"
        }
      ]
>>>>>>> 9fd24f8dac6e7e0ba8d97b16a44b2a168543a3b1
    },
    {
      "cell_type": "code",
      "metadata": {
        "colab_type": "code",
        "id": "FIq4qRHfxXbO",
<<<<<<< HEAD
        "outputId": "de1751f5-0016-4efe-f040-9672c1c091fe",
=======
        "outputId": "c0beaf5b-be11-4a47-fc06-1b12601743b1",
>>>>>>> 9fd24f8dac6e7e0ba8d97b16a44b2a168543a3b1
        "colab": {
          "base_uri": "https://localhost:8080/",
          "height": 428
        }
      },
      "source": [
        "history = model.fit([train_attr, train_temp], train_targ, epochs=10)"
      ],
      "execution_count": 0,
      "outputs": [
        {
          "output_type": "stream",
          "text": [
<<<<<<< HEAD
            "Train on 84389 samples\n",
            "Epoch 1/10\n",
            "WARNING:tensorflow:Entity <function Function._initialize_uninitialized_variables.<locals>.initialize_variables at 0x7fb01c15fa60> could not be transformed and will be executed as-is. Please report this to the AutoGraph team. When filing the bug, set the verbosity to 10 (on Linux, `export AUTOGRAPH_VERBOSITY=10`) and attach the full output. Cause: module 'gast' has no attribute 'Num'\n",
            "WARNING: Entity <function Function._initialize_uninitialized_variables.<locals>.initialize_variables at 0x7fb01c15fa60> could not be transformed and will be executed as-is. Please report this to the AutoGraph team. When filing the bug, set the verbosity to 10 (on Linux, `export AUTOGRAPH_VERBOSITY=10`) and attach the full output. Cause: module 'gast' has no attribute 'Num'\n",
            "84389/84389 [==============================] - 17s 206us/sample - loss: 1591455256.0820\n",
            "Epoch 2/10\n",
            "84389/84389 [==============================] - 15s 180us/sample - loss: 1338249045.4041\n",
            "Epoch 3/10\n",
            "84389/84389 [==============================] - 15s 179us/sample - loss: 1202161986.0147\n",
            "Epoch 4/10\n",
            "84389/84389 [==============================] - 15s 177us/sample - loss: 1199930560.8714\n",
            "Epoch 5/10\n",
            "84389/84389 [==============================] - 15s 179us/sample - loss: 1199898231.4357\n",
            "Epoch 6/10\n",
            "84389/84389 [==============================] - 15s 177us/sample - loss: 1199924168.0443\n",
            "Epoch 7/10\n",
            "84389/84389 [==============================] - 15s 178us/sample - loss: 1199952763.6673\n",
            "Epoch 8/10\n",
            "84389/84389 [==============================] - 15s 180us/sample - loss: 1199948460.7789\n",
            "Epoch 9/10\n",
            "84389/84389 [==============================] - 16s 185us/sample - loss: 1199926300.6354\n",
            "Epoch 10/10\n",
            "84389/84389 [==============================] - 15s 180us/sample - loss: 1199925350.0068\n"
=======
            "Train on 99587 samples\n",
            "Epoch 1/10\n",
            "WARNING:tensorflow:Entity <function Function._initialize_uninitialized_variables.<locals>.initialize_variables at 0x7f3e1a150b70> could not be transformed and will be executed as-is. Please report this to the AutoGraph team. When filing the bug, set the verbosity to 10 (on Linux, `export AUTOGRAPH_VERBOSITY=10`) and attach the full output. Cause: module 'gast' has no attribute 'Num'\n",
            "WARNING: Entity <function Function._initialize_uninitialized_variables.<locals>.initialize_variables at 0x7f3e1a150b70> could not be transformed and will be executed as-is. Please report this to the AutoGraph team. When filing the bug, set the verbosity to 10 (on Linux, `export AUTOGRAPH_VERBOSITY=10`) and attach the full output. Cause: module 'gast' has no attribute 'Num'\n",
            "99587/99587 [==============================] - 17s 172us/sample - loss: 1885941651.7411\n",
            "Epoch 2/10\n",
            "99587/99587 [==============================] - 16s 157us/sample - loss: 1854346491.9796\n",
            "Epoch 3/10\n",
            "99587/99587 [==============================] - 16s 163us/sample - loss: 1854727439.7990\n",
            "Epoch 4/10\n",
            "99587/99587 [==============================] - 16s 157us/sample - loss: 1854407672.7768\n",
            "Epoch 5/10\n",
            "99587/99587 [==============================] - 16s 157us/sample - loss: 1854032067.0414\n",
            "Epoch 6/10\n",
            "99587/99587 [==============================] - 16s 159us/sample - loss: 1854139875.7769\n",
            "Epoch 7/10\n",
            "99587/99587 [==============================] - 16s 157us/sample - loss: 1854375707.7781\n",
            "Epoch 8/10\n",
            "99587/99587 [==============================] - 15s 155us/sample - loss: 1854042911.1119\n",
            "Epoch 9/10\n",
            "99587/99587 [==============================] - 16s 156us/sample - loss: 1854260589.3617\n",
            "Epoch 10/10\n",
            "99587/99587 [==============================] - 16s 156us/sample - loss: 1854027564.9267\n"
>>>>>>> 9fd24f8dac6e7e0ba8d97b16a44b2a168543a3b1
          ],
          "name": "stdout"
        }
      ]
    },
    {
      "cell_type": "code",
      "metadata": {
<<<<<<< HEAD
        "id": "rhSd4laQIUlo",
        "colab_type": "code",
        "outputId": "0af1d17b-0e7b-46cf-d938-583a0d002bd5",
=======
        "id": "GkPnu5ZrYyvb",
        "colab_type": "code",
        "outputId": "31c5e3b0-bd0b-468f-97e8-a903ee84acbd",
>>>>>>> 9fd24f8dac6e7e0ba8d97b16a44b2a168543a3b1
        "colab": {
          "base_uri": "https://localhost:8080/",
          "height": 293
        }
      },
      "source": [
<<<<<<< HEAD
        " plt.plot(history.history['loss'])"
=======
        "plt.plot(history.history['loss'])"
>>>>>>> 9fd24f8dac6e7e0ba8d97b16a44b2a168543a3b1
      ],
      "execution_count": 0,
      "outputs": [
        {
          "output_type": "execute_result",
          "data": {
            "text/plain": [
<<<<<<< HEAD
              "[<matplotlib.lines.Line2D at 0x7fee38294320>]"
=======
              "[<matplotlib.lines.Line2D at 0x7f3e692c0198>]"
>>>>>>> 9fd24f8dac6e7e0ba8d97b16a44b2a168543a3b1
            ]
          },
          "metadata": {
            "tags": []
          },
<<<<<<< HEAD
          "execution_count": 23
=======
          "execution_count": 25
>>>>>>> 9fd24f8dac6e7e0ba8d97b16a44b2a168543a3b1
        },
        {
          "output_type": "display_data",
          "data": {
<<<<<<< HEAD
            "image/png": "iVBORw0KGgoAAAANSUhEUgAAAX4AAAEDCAYAAAAyZm/jAAAABHNCSVQICAgIfAhkiAAAAAlwSFlz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\nMlzTNw/5tQAAAABJRU5ErkJggg==\n",
=======
            "image/png": "iVBORw0KGgoAAAANSUhEUgAAAYQAAAEDCAYAAAA1CHOzAAAABHNCSVQICAgIfAhkiAAAAAlwSFlz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\ngoiIWAoEEREBFAgiImL9f0YwaH2KJYWDAAAAAElFTkSuQmCC\n",
>>>>>>> 9fd24f8dac6e7e0ba8d97b16a44b2a168543a3b1
            "text/plain": [
              "<Figure size 432x288 with 1 Axes>"
            ]
          },
          "metadata": {
            "tags": []
          }
        }
      ]
    },
    {
      "cell_type": "code",
      "metadata": {
<<<<<<< HEAD
        "id": "KF5VLeTHIUls",
=======
        "id": "zMR4_R7RYyvf",
>>>>>>> 9fd24f8dac6e7e0ba8d97b16a44b2a168543a3b1
        "colab_type": "code",
        "colab": {}
      },
      "source": [
<<<<<<< HEAD
        "# 2192947943.7490\n",
        "# 1853913358.3275  16/64/32\n",
        "# 2152751356.1010  16/64/32,32  2nd best performing\n",
        "# 2114983308.4163  16/64/64,32  1st best performing  [34894.355, 34766.902, 34306.04 ]\n",
        "# 1968274881.4705  32/64/64,32  ?                    [100917.52 , 101695.38 ,  99629.086]\n",
        "# 2318939674.5350  16/64/64,32,16                    [213799.33, 213468.64, 211543.4 ]\n",
        "\n",
        "# 2115874563.3787  3/64/64,32     0.05               [150093.81, 151375.16, 148452.22]\n",
        "# 2062023516.1448  16/64/64,32    0.05                [56086.76 , 55897.707, 54982.184]\n",
        "\n",
        "# ---------------------------------------------------------------------------------------\n",
        "# 195360478.7640   16/64/64,32    0.05              [584.5263, 564.9278, 544.7306]\n",
        "# 198287368.8941   16/64/64,64    0.05              [24600.693, 23996.002, 23725.465]\n",
        "\n",
        "# ---------------------------------------------------------------------------------------\n",
        "# 1853135986.2530  16/64/64.64.64 0.05              [29683.35 , 29607.271, 29482.93 , 29400.469]\n",
        "# 1857605748.1090  16/64/64,64,64 0.05              [29305.691, 29403.244, 29292.22 , 29185.709]\n",
        "# 1853954377.9496  16/64/64,64,64 0.1 w/ res        [30384.637, 30371.879, 30234.713, 30125.102]\n",
        "\n",
        "# ---------------------------------------------------------------------------------------\n",
        "# 946584198.3878   4/64/64,64,64  0.01 w/ res       [17863.877, 17665.56 , 17457.479, 17439.852]   -- stuck\n",
        "# 946021455.3919   4/16/64,64     0.01              [18693.652, 18485.672, 18326.525, 18254.52 ]   -- also stuck"
=======
        "2192947943.7490\n",
        "1853913358.3275  16/64/32\n",
        "2152751356.1010  16/64/32,32  2nd best performing\n",
        "2114983308.4163  16/64/64,32  1st best performing  [34894.355, 34766.902, 34306.04 ]\n",
        "1968274881.4705  32/64/64,32  ?                    [100917.52 , 101695.38 ,  99629.086]\n",
        "2318939674.5350  16/64/64,32,16                    [213799.33, 213468.64, 211543.4 ]\n",
        "\n",
        "2115874563.3787  3/64/64,32     0.05               [150093.81, 151375.16, 148452.22]\n",
        "2062023516.1448  16/64/64,32    0.05                [56086.76 , 55897.707, 54982.184]\n",
        "\n",
        "---------------------------------------------------------------------------------------\n",
        "195360478.7640   16/64/64,32    0.05              [584.5263, 564.9278, 544.7306]\n",
        "198287368.8941   16/64/64,64    0.05              [24600.693, 23996.002, 23725.465]\n",
        "\n",
        "---------------------------------------------------------------------------------------\n",
        "1853135986.2530  16/64/64.64.64 0.05              [29683.35 , 29607.271, 29482.93 , 29400.469]\n",
        "1857605748.1090  16/64/64,64,64 0.05              [29305.691, 29403.244, 29292.22 , 29185.709]\n",
        "1853954377.9496  16/64/64,64,64 0.1 w/ res        [30384.637, 30371.879, 30234.713, 30125.102]"
>>>>>>> 9fd24f8dac6e7e0ba8d97b16a44b2a168543a3b1
      ],
      "execution_count": 0,
      "outputs": []
    },
    {
      "cell_type": "code",
      "metadata": {
        "colab_type": "code",
        "id": "YP0giFIjzR15",
        "colab": {}
      },
      "source": [
        "test_preds = model.predict([test_attr, test_temp])"
      ],
      "execution_count": 0,
      "outputs": []
    },
    {
      "cell_type": "code",
      "metadata": {
        "colab_type": "code",
        "id": "3F7aGjQ484rp",
<<<<<<< HEAD
        "outputId": "15bc3fe1-4353-4031-e556-67a6051f8338",
=======
        "outputId": "89046c95-9415-472c-df8f-f87416c53b73",
>>>>>>> 9fd24f8dac6e7e0ba8d97b16a44b2a168543a3b1
        "colab": {
          "base_uri": "https://localhost:8080/",
          "height": 34
        }
      },
      "source": [
        "test_targ[0]"
      ],
      "execution_count": 0,
      "outputs": [
        {
          "output_type": "execute_result",
          "data": {
            "text/plain": [
<<<<<<< HEAD
              "array([21884, 21375, 22853, 21617])"
=======
              "array([25614, 27028, 27839, 29744])"
>>>>>>> 9fd24f8dac6e7e0ba8d97b16a44b2a168543a3b1
            ]
          },
          "metadata": {
            "tags": []
          },
<<<<<<< HEAD
          "execution_count": 48
=======
          "execution_count": 27
>>>>>>> 9fd24f8dac6e7e0ba8d97b16a44b2a168543a3b1
        }
      ]
    },
    {
      "cell_type": "code",
      "metadata": {
        "colab_type": "code",
        "id": "VlFSftV48z7v",
<<<<<<< HEAD
        "outputId": "50b5ed32-da17-41c6-a71a-92a8571d2f91",
=======
        "outputId": "e10ca180-640d-4550-a208-dbb35a8c03b5",
>>>>>>> 9fd24f8dac6e7e0ba8d97b16a44b2a168543a3b1
        "colab": {
          "base_uri": "https://localhost:8080/",
          "height": 34
        }
      },
      "source": [
        "test_preds[0]"
      ],
      "execution_count": 0,
      "outputs": [
        {
          "output_type": "execute_result",
          "data": {
            "text/plain": [
<<<<<<< HEAD
              "array([20640.06 , 20535.377, 20447.545, 20330.34 ], dtype=float32)"
=======
              "array([30377.81 , 30370.516, 30232.824, 30121.395], dtype=float32)"
>>>>>>> 9fd24f8dac6e7e0ba8d97b16a44b2a168543a3b1
            ]
          },
          "metadata": {
            "tags": []
          },
<<<<<<< HEAD
          "execution_count": 49
=======
          "execution_count": 32
>>>>>>> 9fd24f8dac6e7e0ba8d97b16a44b2a168543a3b1
        }
      ]
    },
    {
      "cell_type": "markdown",
      "metadata": {
        "colab_type": "text",
        "id": "_xU4yivY45Et"
      },
      "source": [
        "# Model Evaluation\n",
        "\n",
        "Other than the loss metric used above, we can also plot some of the predictions as to get an idea of the model's performance."
      ]
    },
    {
      "cell_type": "code",
      "metadata": {
        "colab_type": "code",
<<<<<<< HEAD
        "id": "QV4RtMqv8NtR",
        "outputId": "50226dc1-91b4-477a-aadc-68da20f93743",
        "colab": {
          "base_uri": "https://localhost:8080/",
          "height": 34
        }
      },
      "source": [
        "df_test[df_test.resource_id==41].player_name.values[0]"
      ],
      "execution_count": 0,
      "outputs": [
        {
          "output_type": "execute_result",
          "data": {
            "text/plain": [
              "'Iniesta'"
            ]
          },
          "metadata": {
            "tags": []
          },
          "execution_count": 34
        }
      ]
    },
    {
      "cell_type": "code",
      "metadata": {
        "colab_type": "code",
=======
>>>>>>> 9fd24f8dac6e7e0ba8d97b16a44b2a168543a3b1
        "id": "tWJnnxpg6y0Q",
        "colab": {}
      },
      "source": [
        "def plot_predictions(i):\n",
        "    \"\"\"\n",
        "    plot the predictions for index i in the test set\n",
        "    \"\"\"\n",
        "    resource_id = test_res[i]\n",
        "    player_name = df_test[df_test.resource_id==resource_id].player_name.values[0]\n",
        "    prev_prices = test_temp[i][:, -1]\n",
        "    actual_prices = test_targ[i]\n",
        "    prices = np.concatenate([prev_prices, actual_prices])\n",
        "    num_x = len(prices)\n",
        "    prices_x = np.arange(num_x)\n",
        "\n",
        "    pred_prices = test_preds[i]\n",
        "    num_targ_x = len(pred_prices)\n",
        "    pred_prices_x = np.arange(num_x-num_targ_x, num_x)\n",
        "\n",
        "    fig, ax = plt.subplots(1,1, figsize=(10,10))\n",
        "    ax.plot(prices_x, prices, label='Actual Price')\n",
        "    ax.plot(pred_prices_x, pred_prices, label='Prediction')\n",
        "    ax.set_title(player_name)\n",
<<<<<<< HEAD
        "    ax.legend()"
      ],
      "execution_count": 0,
      "outputs": []
    },
    {
      "cell_type": "code",
      "metadata": {
        "id": "PUVcfTGUIUl8",
        "colab_type": "code",
        "outputId": "617853eb-8932-4688-96b5-02b920c7fa0f",
        "colab": {
          "base_uri": "https://localhost:8080/",
          "height": 607
        }
      },
      "source": [
        "plot_predictions(4500)"
      ],
      "execution_count": 0,
      "outputs": [
        {
          "output_type": "display_data",
          "data": {
            "image/png": "iVBORw0KGgoAAAANSUhEUgAAAmYAAAJOCAYAAAAd08vRAAAABHNCSVQICAgIfAhkiAAAAAlwSFlz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\n",
            "text/plain": [
              "<Figure size 720x720 with 1 Axes>"
            ]
          },
          "metadata": {
            "tags": []
          }
        }
      ]
    },
    {
      "cell_type": "code",
      "metadata": {
        "id": "S5ukVTRANBm-",
        "colab_type": "code",
        "colab": {}
      },
      "source": [
        "def plot_predictions_resource(i):\n",
        "    \"\"\"\n",
        "    plot the predictions for resource i in the test set\n",
        "    \"\"\"\n",
        "    # get the player's name\n",
        "    player_name = df_test[df_test.resource_id==i].player_name.values[0]\n",
        "    is_resource = test_res == i\n",
        "\n",
        "    i_preds = test_preds[is_resource]\n",
        "    i_target = test_targ[is_resource]\n",
        "\n",
        "    num_steps = test_targ[0].shape[0]\n",
        "    extract = [i*num_steps for i in range(100) if i*num_steps < i_target.shape[0]]\n",
        "    i_preds = np.concatenate(i_preds[extract])\n",
        "    i_target = np.concatenate(i_target[extract])\n",
        "    x = np.arange(len(i_preds))\n",
        "\n",
        "    fig, ax = plt.subplots(1,1, figsize=(10,10))\n",
        "    ax.plot(x, i_target, label='Actual Price')\n",
        "    ax.plot(x, i_preds, label='Prediction')\n",
        "    ax.set_title(player_name)\n",
        "    ax.legend()"
=======
        "    ax.legend()\n"
>>>>>>> 9fd24f8dac6e7e0ba8d97b16a44b2a168543a3b1
      ],
      "execution_count": 0,
      "outputs": []
    },
    {
      "cell_type": "code",
      "metadata": {
<<<<<<< HEAD
        "id": "DnXsJtruO0_Q",
        "colab_type": "code",
        "outputId": "bb61f81e-5e59-4d1d-c457-5cbb4bafa780",
=======
        "id": "SPdYu9oMYyvt",
        "colab_type": "code",
        "outputId": "617d4b49-5214-402c-8deb-06814f6300df",
>>>>>>> 9fd24f8dac6e7e0ba8d97b16a44b2a168543a3b1
        "colab": {
          "base_uri": "https://localhost:8080/",
          "height": 607
        }
      },
      "source": [
<<<<<<< HEAD
        "plot_predictions_resource(41)"
=======
        "plot_predictions(80000)"
>>>>>>> 9fd24f8dac6e7e0ba8d97b16a44b2a168543a3b1
      ],
      "execution_count": 0,
      "outputs": [
        {
          "output_type": "display_data",
          "data": {
<<<<<<< HEAD
            "image/png": "iVBORw0KGgoAAAANSUhEUgAAAmYAAAJOCAYAAAAd08vRAAAABHNCSVQICAgIfAhkiAAAAAlwSFlz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\nSUVORK5CYII=\n",
=======
            "image/png": "iVBORw0KGgoAAAANSUhEUgAAAmYAAAJOCAYAAAAd08vRAAAABHNCSVQICAgIfAhkiAAAAAlwSFlz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\nAAAAAElFTkSuQmCC\n",
>>>>>>> 9fd24f8dac6e7e0ba8d97b16a44b2a168543a3b1
            "text/plain": [
              "<Figure size 720x720 with 1 Axes>"
            ]
          },
          "metadata": {
            "tags": []
          }
        }
      ]
    },
    {
      "cell_type": "code",
      "metadata": {
<<<<<<< HEAD
        "id": "-OsnWRd88dF1",
=======
        "id": "6kZZMcL-dN4v",
>>>>>>> 9fd24f8dac6e7e0ba8d97b16a44b2a168543a3b1
        "colab_type": "code",
        "colab": {}
      },
      "source": [
        ""
      ],
      "execution_count": 0,
      "outputs": []
    }
  ]
}