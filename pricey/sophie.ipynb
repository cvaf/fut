{
  "nbformat": 4,
  "nbformat_minor": 0,
  "metadata": {
    "accelerator": "GPU",
    "colab": {
      "name": "sophie.ipynb",
      "provenance": [],
      "collapsed_sections": []
    },
    "kernelspec": {
      "name": "python3",
      "display_name": "Python 3"
    },
    "language_info": {
      "codemirror_mode": {
        "name": "ipython",
        "version": 3
      },
      "file_extension": ".py",
      "mimetype": "text/x-python",
      "name": "python",
      "nbconvert_exporter": "python",
      "pygments_lexer": "ipython3",
      "version": "3.7.3"
    }
  },
  "cells": [
    {
      "cell_type": "markdown",
      "metadata": {
        "id": "M8ElhiSLkGkO",
        "colab_type": "text"
      },
      "source": [
        "# Sophie"
      ]
    },
    {
      "cell_type": "code",
      "metadata": {
        "colab_type": "code",
        "id": "eOOyuQRrG38n",
        "outputId": "38e5f032-9775-40f5-925f-f263394aab52",
        "colab": {
          "base_uri": "https://localhost:8080/",
          "height": 52
        }
      },
      "source": [
        "import pandas as pd\n",
        "import numpy as np\n",
        "\n",
        "# other\n",
        "from datetime import datetime, timedelta\n",
        "import warnings\n",
        "warnings.filterwarnings('ignore')\n",
        "pd.set_option('display.max_columns', 100)\n",
        "from time import time\n",
        "from google.colab import drive\n",
        "import os\n",
        "\n",
        "# plotting\n",
        "import matplotlib.pyplot as plt\n",
        "import seaborn as sns\n",
        "plt.style.use(['seaborn-muted', 'dark_background'])\n",
        "%matplotlib inline\n",
        "\n",
        "# processing & model selection\n",
        "from sklearn.pipeline import make_pipeline\n",
        "from sklearn.compose import make_column_transformer\n",
        "from sklearn.preprocessing import MinMaxScaler, OneHotEncoder\n",
        "\n",
        "# models\n",
        "try:\n",
        "    %tensorflow_version 2.x\n",
        "except Exception:\n",
        "    pass\n",
        "  \n",
        "import tensorflow as tf\n",
        "print(tf.__version__)\n",
        "from tensorflow.keras.layers import Dense, Flatten, Input, Concatenate, GRU\n",
        "from tensorflow.keras.callbacks import EarlyStopping, ModelCheckpoint\n",
        "from tensorflow.keras.optimizers import Adam\n",
        "from tensorflow.keras import Model\n",
        "\n",
        "tf.random.set_seed(410)\n",
        "np.random.seed(410)"
      ],
      "execution_count": 1,
      "outputs": [
        {
          "output_type": "stream",
          "text": [
            "TensorFlow 2.x selected.\n",
            "2.1.0-rc1\n"
          ],
          "name": "stdout"
        }
      ]
    },
    {
      "cell_type": "markdown",
      "metadata": {
        "colab_type": "text",
        "id": "e-KtQ86CG39y"
      },
      "source": [
        "# 1. Preprocessing\n",
        "\n",
        "Due to the complex nature of our dataset, where some of its attributes are temporal and some are not, our model will consist of two separate inputs to account for this. "
      ]
    },
    {
      "cell_type": "code",
      "metadata": {
        "colab_type": "code",
        "id": "3s52PyN2IJqQ",
        "outputId": "46084886-f0b0-483e-86c5-077e5e4e6b15",
        "colab": {
          "base_uri": "https://localhost:8080/",
          "height": 124
        }
      },
      "source": [
        "drive.mount('/content/drive', force_remount=True)"
      ],
      "execution_count": 2,
      "outputs": [
        {
          "output_type": "stream",
          "text": [
            "Go to this URL in a browser: https://accounts.google.com/o/oauth2/auth?client_id=947318989803-6bn6qk8qdgf4n4g3pfee6491hc0brc4i.apps.googleusercontent.com&redirect_uri=urn%3aietf%3awg%3aoauth%3a2.0%3aoob&response_type=code&scope=email%20https%3a%2f%2fwww.googleapis.com%2fauth%2fdocs.test%20https%3a%2f%2fwww.googleapis.com%2fauth%2fdrive%20https%3a%2f%2fwww.googleapis.com%2fauth%2fdrive.photos.readonly%20https%3a%2f%2fwww.googleapis.com%2fauth%2fpeopleapi.readonly\n",
            "\n",
            "Enter your authorization code:\n",
            "··········\n",
            "Mounted at /content/drive\n"
          ],
          "name": "stdout"
        }
      ]
    },
    {
      "cell_type": "code",
      "metadata": {
        "colab_type": "code",
        "id": "wjCfk32WIpFM",
        "outputId": "5ac431a0-1e7a-443a-e9d8-40f05a51dab0",
        "colab": {
          "base_uri": "https://localhost:8080/",
          "height": 167
        }
      },
      "source": [
        "df = pd.read_pickle('drive/My Drive/Python/Fut/sofa_dataset.pkl')\n",
        "df.head(2)"
      ],
      "execution_count": 3,
      "outputs": [
        {
          "output_type": "execute_result",
          "data": {
            "text/html": [
              "<div>\n",
              "<style scoped>\n",
              "    .dataframe tbody tr th:only-of-type {\n",
              "        vertical-align: middle;\n",
              "    }\n",
              "\n",
              "    .dataframe tbody tr th {\n",
              "        vertical-align: top;\n",
              "    }\n",
              "\n",
              "    .dataframe thead th {\n",
              "        text-align: right;\n",
              "    }\n",
              "</style>\n",
              "<table border=\"1\" class=\"dataframe\">\n",
              "  <thead>\n",
              "    <tr style=\"text-align: right;\">\n",
              "      <th></th>\n",
              "      <th>player_name</th>\n",
              "      <th>overall</th>\n",
              "      <th>club</th>\n",
              "      <th>league</th>\n",
              "      <th>nationality</th>\n",
              "      <th>position</th>\n",
              "      <th>height</th>\n",
              "      <th>weight</th>\n",
              "      <th>intl_rep</th>\n",
              "      <th>pace</th>\n",
              "      <th>pace_acceleration</th>\n",
              "      <th>pace_sprint_speed</th>\n",
              "      <th>dribbling</th>\n",
              "      <th>drib_agility</th>\n",
              "      <th>drib_balance</th>\n",
              "      <th>drib_reactions</th>\n",
              "      <th>drib_ball_control</th>\n",
              "      <th>drib_dribbling</th>\n",
              "      <th>drib_composure</th>\n",
              "      <th>shooting</th>\n",
              "      <th>shoot_positioning</th>\n",
              "      <th>shoot_finishing</th>\n",
              "      <th>shoot_shot_power</th>\n",
              "      <th>shoot_long_shots</th>\n",
              "      <th>shoot_volleys</th>\n",
              "      <th>shoot_penalties</th>\n",
              "      <th>passing</th>\n",
              "      <th>pass_vision</th>\n",
              "      <th>pass_crossing</th>\n",
              "      <th>pass_free_kick</th>\n",
              "      <th>pass_short</th>\n",
              "      <th>pass_long</th>\n",
              "      <th>pass_curve</th>\n",
              "      <th>defending</th>\n",
              "      <th>def_interceptions</th>\n",
              "      <th>def_heading</th>\n",
              "      <th>def_marking</th>\n",
              "      <th>def_stand_tackle</th>\n",
              "      <th>def_slid_tackle</th>\n",
              "      <th>physicality</th>\n",
              "      <th>phys_jumping</th>\n",
              "      <th>phys_stamina</th>\n",
              "      <th>phys_strength</th>\n",
              "      <th>phys_aggression</th>\n",
              "      <th>pref_foot</th>\n",
              "      <th>att_workrate</th>\n",
              "      <th>def_workrate</th>\n",
              "      <th>weak_foot</th>\n",
              "      <th>skill_moves</th>\n",
              "      <th>resource_id</th>\n",
              "      <th>date</th>\n",
              "      <th>price</th>\n",
              "      <th>game</th>\n",
              "      <th>days</th>\n",
              "      <th>weekday</th>\n",
              "      <th>promo</th>\n",
              "      <th>source</th>\n",
              "      <th>days_release</th>\n",
              "      <th>relative_price</th>\n",
              "    </tr>\n",
              "  </thead>\n",
              "  <tbody>\n",
              "    <tr>\n",
              "      <th>0</th>\n",
              "      <td>Iniesta</td>\n",
              "      <td>87</td>\n",
              "      <td>other</td>\n",
              "      <td>other</td>\n",
              "      <td>top</td>\n",
              "      <td>CM</td>\n",
              "      <td>171</td>\n",
              "      <td>68</td>\n",
              "      <td>4</td>\n",
              "      <td>69.0</td>\n",
              "      <td>70</td>\n",
              "      <td>68</td>\n",
              "      <td>90.0</td>\n",
              "      <td>79</td>\n",
              "      <td>84</td>\n",
              "      <td>88</td>\n",
              "      <td>94</td>\n",
              "      <td>90</td>\n",
              "      <td>89</td>\n",
              "      <td>70.0</td>\n",
              "      <td>84</td>\n",
              "      <td>70</td>\n",
              "      <td>65</td>\n",
              "      <td>71</td>\n",
              "      <td>74</td>\n",
              "      <td>71</td>\n",
              "      <td>87.0</td>\n",
              "      <td>94</td>\n",
              "      <td>77</td>\n",
              "      <td>70</td>\n",
              "      <td>92</td>\n",
              "      <td>86</td>\n",
              "      <td>80</td>\n",
              "      <td>61.0</td>\n",
              "      <td>66</td>\n",
              "      <td>54</td>\n",
              "      <td>67</td>\n",
              "      <td>57</td>\n",
              "      <td>56</td>\n",
              "      <td>57.0</td>\n",
              "      <td>47</td>\n",
              "      <td>55</td>\n",
              "      <td>58</td>\n",
              "      <td>58</td>\n",
              "      <td>Right</td>\n",
              "      <td>High</td>\n",
              "      <td>Med</td>\n",
              "      <td>4</td>\n",
              "      <td>4</td>\n",
              "      <td>41</td>\n",
              "      <td>2018-09-21</td>\n",
              "      <td>7807</td>\n",
              "      <td>FIFA 19</td>\n",
              "      <td>2</td>\n",
              "      <td>4</td>\n",
              "      <td>0</td>\n",
              "      <td>packs</td>\n",
              "      <td>0.002740</td>\n",
              "      <td>111.00526091283947</td>\n",
              "    </tr>\n",
              "    <tr>\n",
              "      <th>1</th>\n",
              "      <td>Iniesta</td>\n",
              "      <td>87</td>\n",
              "      <td>other</td>\n",
              "      <td>other</td>\n",
              "      <td>top</td>\n",
              "      <td>CM</td>\n",
              "      <td>171</td>\n",
              "      <td>68</td>\n",
              "      <td>4</td>\n",
              "      <td>69.0</td>\n",
              "      <td>70</td>\n",
              "      <td>68</td>\n",
              "      <td>90.0</td>\n",
              "      <td>79</td>\n",
              "      <td>84</td>\n",
              "      <td>88</td>\n",
              "      <td>94</td>\n",
              "      <td>90</td>\n",
              "      <td>89</td>\n",
              "      <td>70.0</td>\n",
              "      <td>84</td>\n",
              "      <td>70</td>\n",
              "      <td>65</td>\n",
              "      <td>71</td>\n",
              "      <td>74</td>\n",
              "      <td>71</td>\n",
              "      <td>87.0</td>\n",
              "      <td>94</td>\n",
              "      <td>77</td>\n",
              "      <td>70</td>\n",
              "      <td>92</td>\n",
              "      <td>86</td>\n",
              "      <td>80</td>\n",
              "      <td>61.0</td>\n",
              "      <td>66</td>\n",
              "      <td>54</td>\n",
              "      <td>67</td>\n",
              "      <td>57</td>\n",
              "      <td>56</td>\n",
              "      <td>57.0</td>\n",
              "      <td>47</td>\n",
              "      <td>55</td>\n",
              "      <td>58</td>\n",
              "      <td>58</td>\n",
              "      <td>Right</td>\n",
              "      <td>High</td>\n",
              "      <td>Med</td>\n",
              "      <td>4</td>\n",
              "      <td>4</td>\n",
              "      <td>41</td>\n",
              "      <td>2018-09-22</td>\n",
              "      <td>8714</td>\n",
              "      <td>FIFA 19</td>\n",
              "      <td>3</td>\n",
              "      <td>5</td>\n",
              "      <td>0</td>\n",
              "      <td>packs</td>\n",
              "      <td>0.005479</td>\n",
              "      <td>111.61777891635711</td>\n",
              "    </tr>\n",
              "  </tbody>\n",
              "</table>\n",
              "</div>"
            ],
            "text/plain": [
              "  player_name  overall   club league nationality position  height  weight  \\\n",
              "0     Iniesta       87  other  other         top       CM     171      68   \n",
              "1     Iniesta       87  other  other         top       CM     171      68   \n",
              "\n",
              "   intl_rep  pace  pace_acceleration  pace_sprint_speed  dribbling  \\\n",
              "0         4  69.0                 70                 68       90.0   \n",
              "1         4  69.0                 70                 68       90.0   \n",
              "\n",
              "   drib_agility  drib_balance  drib_reactions  drib_ball_control  \\\n",
              "0            79            84              88                 94   \n",
              "1            79            84              88                 94   \n",
              "\n",
              "   drib_dribbling  drib_composure  shooting  shoot_positioning  \\\n",
              "0              90              89      70.0                 84   \n",
              "1              90              89      70.0                 84   \n",
              "\n",
              "   shoot_finishing  shoot_shot_power  shoot_long_shots  shoot_volleys  \\\n",
              "0               70                65                71             74   \n",
              "1               70                65                71             74   \n",
              "\n",
              "   shoot_penalties  passing  pass_vision  pass_crossing  pass_free_kick  \\\n",
              "0               71     87.0           94             77              70   \n",
              "1               71     87.0           94             77              70   \n",
              "\n",
              "   pass_short  pass_long  pass_curve  defending  def_interceptions  \\\n",
              "0          92         86          80       61.0                 66   \n",
              "1          92         86          80       61.0                 66   \n",
              "\n",
              "   def_heading  def_marking  def_stand_tackle  def_slid_tackle  physicality  \\\n",
              "0           54           67                57               56         57.0   \n",
              "1           54           67                57               56         57.0   \n",
              "\n",
              "   phys_jumping  phys_stamina  phys_strength  phys_aggression pref_foot  \\\n",
              "0            47            55             58               58     Right   \n",
              "1            47            55             58               58     Right   \n",
              "\n",
              "  att_workrate def_workrate  weak_foot  skill_moves  resource_id       date  \\\n",
              "0         High          Med          4            4           41 2018-09-21   \n",
              "1         High          Med          4            4           41 2018-09-22   \n",
              "\n",
              "   price     game  days  weekday  promo source  days_release  \\\n",
              "0   7807  FIFA 19     2        4      0  packs      0.002740   \n",
              "1   8714  FIFA 19     3        5      0  packs      0.005479   \n",
              "\n",
              "       relative_price  \n",
              "0  111.00526091283947  \n",
              "1  111.61777891635711  "
            ]
          },
          "metadata": {
            "tags": []
          },
          "execution_count": 3
        }
      ]
    },
    {
      "cell_type": "code",
      "metadata": {
        "colab_type": "code",
        "id": "SgLE_8j2xXan",
        "outputId": "0f0e96aa-2a43-4110-f7a9-b2040372cda3",
        "colab": {
          "base_uri": "https://localhost:8080/",
          "height": 69
        }
      },
      "source": [
        "df_train = df[df.game=='FIFA 19']\n",
        "date_split = datetime(2019, 3, 15)\n",
        "\n",
        "df_val = df_train[df_train.date >= date_split]\n",
        "\n",
        "df_train = df_train[df_train.date < date_split]\n",
        "\n",
        "df_test = df[df.game=='FIFA 20']\n",
        "\n",
        "print(\"\"\"{} datapoints in Training Set\n",
        "{} datapoints in Validation Set\n",
        "{} datapoints in Test Set\"\"\"\\\n",
        ".format(df_train.shape[0], df_val.shape[0], df_test.shape[0]))"
      ],
      "execution_count": 4,
      "outputs": [
        {
          "output_type": "stream",
          "text": [
            "72325 datapoints in Training Set\n",
            "61781 datapoints in Validation Set\n",
            "17092 datapoints in Test Set\n"
          ],
          "name": "stdout"
        }
      ]
    },
    {
      "cell_type": "code",
      "metadata": {
        "colab_type": "code",
        "id": "gUQhwrcJxXaq",
        "colab": {}
      },
      "source": [
        "drop_cols = ['player_name', 'resource_id', 'date', 'game', 'relative_price']\n",
        "temp_cols = ['promo', 'weekday', 'days', 'days_release', 'price']\n",
        "attr_cols = [c for c in df.columns if c not in (drop_cols + temp_cols)]\n",
        "target = 'price'"
      ],
      "execution_count": 0,
      "outputs": []
    },
    {
      "cell_type": "markdown",
      "metadata": {
        "colab_type": "text",
        "id": "SQ9eeZA1xXar"
      },
      "source": [
        "### Temporal Transformation"
      ]
    },
    {
      "cell_type": "code",
      "metadata": {
        "colab_type": "code",
        "id": "UwQ7036VxXas",
        "colab": {}
      },
      "source": [
        "df_train_temp = df_train.groupby(['resource_id', 'date'])[temp_cols].first().reset_index(1)\n",
        "df_val_temp = df_val.groupby(['resource_id', 'date'])[temp_cols].first().reset_index(1)\n",
        "df_test_temp = df_test.groupby(['resource_id', 'date'])[temp_cols].first().reset_index(1)"
      ],
      "execution_count": 0,
      "outputs": []
    },
    {
      "cell_type": "code",
      "metadata": {
        "id": "ukYvJMeKnAB8",
        "colab_type": "code",
        "outputId": "27c291c8-a71a-4cb2-dfa3-7aae7fcd1117",
        "colab": {
          "base_uri": "https://localhost:8080/",
          "height": 143
        }
      },
      "source": [
        "df_train_temp.head(2)"
      ],
      "execution_count": 7,
      "outputs": [
        {
          "output_type": "execute_result",
          "data": {
            "text/html": [
              "<div>\n",
              "<style scoped>\n",
              "    .dataframe tbody tr th:only-of-type {\n",
              "        vertical-align: middle;\n",
              "    }\n",
              "\n",
              "    .dataframe tbody tr th {\n",
              "        vertical-align: top;\n",
              "    }\n",
              "\n",
              "    .dataframe thead th {\n",
              "        text-align: right;\n",
              "    }\n",
              "</style>\n",
              "<table border=\"1\" class=\"dataframe\">\n",
              "  <thead>\n",
              "    <tr style=\"text-align: right;\">\n",
              "      <th></th>\n",
              "      <th>date</th>\n",
              "      <th>promo</th>\n",
              "      <th>weekday</th>\n",
              "      <th>days</th>\n",
              "      <th>days_release</th>\n",
              "      <th>price</th>\n",
              "    </tr>\n",
              "    <tr>\n",
              "      <th>resource_id</th>\n",
              "      <th></th>\n",
              "      <th></th>\n",
              "      <th></th>\n",
              "      <th></th>\n",
              "      <th></th>\n",
              "      <th></th>\n",
              "    </tr>\n",
              "  </thead>\n",
              "  <tbody>\n",
              "    <tr>\n",
              "      <th>41</th>\n",
              "      <td>2018-09-21</td>\n",
              "      <td>0</td>\n",
              "      <td>4</td>\n",
              "      <td>2</td>\n",
              "      <td>0.002740</td>\n",
              "      <td>7807</td>\n",
              "    </tr>\n",
              "    <tr>\n",
              "      <th>41</th>\n",
              "      <td>2018-09-22</td>\n",
              "      <td>0</td>\n",
              "      <td>5</td>\n",
              "      <td>3</td>\n",
              "      <td>0.005479</td>\n",
              "      <td>8714</td>\n",
              "    </tr>\n",
              "  </tbody>\n",
              "</table>\n",
              "</div>"
            ],
            "text/plain": [
              "                  date  promo  weekday  days  days_release  price\n",
              "resource_id                                                      \n",
              "41          2018-09-21      0        4     2      0.002740   7807\n",
              "41          2018-09-22      0        5     3      0.005479   8714"
            ]
          },
          "metadata": {
            "tags": []
          },
          "execution_count": 7
        }
      ]
    },
    {
      "cell_type": "code",
      "metadata": {
        "id": "URYr9X59kzXn",
        "colab_type": "code",
        "colab": {}
      },
      "source": [
        "# temporal variable scaling\n",
        "temp_num = ['weekday', 'days']\n",
        "temp_scaler = MinMaxScaler().fit(df_train_temp[temp_num].values)\n",
        "\n",
        "df_train_temp[temp_num] = temp_scaler.transform(df_train_temp[temp_num].values)\n",
        "df_val_temp[temp_num] = temp_scaler.transform(df_val_temp[temp_num].values)\n",
        "df_test_temp[temp_num] = temp_scaler.transform(df_test_temp[temp_num].values)\n",
        "\n",
        "# price scaling\n",
        "price_scaler = MinMaxScaler().fit(df_train_temp.price.values.reshape(-1,1))\n",
        "df_train_temp['price'] = price_scaler.transform(df_train_temp.price.values.reshape(-1,1))\n",
        "df_val_temp['price'] = price_scaler.transform(df_val_temp.price.values.reshape(-1,1))\n",
        "df_test_temp['price'] = price_scaler.transform(df_test_temp.price.values.reshape(-1,1))"
      ],
      "execution_count": 0,
      "outputs": []
    },
    {
      "cell_type": "code",
      "metadata": {
        "colab_type": "code",
        "id": "CABkcHmXxXat",
        "outputId": "f1090809-805b-45e1-bbad-d6f159a332f0",
        "colab": {
          "base_uri": "https://localhost:8080/",
          "height": 175
        }
      },
      "source": [
        "df_train_temp.head(3)"
      ],
      "execution_count": 9,
      "outputs": [
        {
          "output_type": "execute_result",
          "data": {
            "text/html": [
              "<div>\n",
              "<style scoped>\n",
              "    .dataframe tbody tr th:only-of-type {\n",
              "        vertical-align: middle;\n",
              "    }\n",
              "\n",
              "    .dataframe tbody tr th {\n",
              "        vertical-align: top;\n",
              "    }\n",
              "\n",
              "    .dataframe thead th {\n",
              "        text-align: right;\n",
              "    }\n",
              "</style>\n",
              "<table border=\"1\" class=\"dataframe\">\n",
              "  <thead>\n",
              "    <tr style=\"text-align: right;\">\n",
              "      <th></th>\n",
              "      <th>date</th>\n",
              "      <th>promo</th>\n",
              "      <th>weekday</th>\n",
              "      <th>days</th>\n",
              "      <th>days_release</th>\n",
              "      <th>price</th>\n",
              "    </tr>\n",
              "    <tr>\n",
              "      <th>resource_id</th>\n",
              "      <th></th>\n",
              "      <th></th>\n",
              "      <th></th>\n",
              "      <th></th>\n",
              "      <th></th>\n",
              "      <th></th>\n",
              "    </tr>\n",
              "  </thead>\n",
              "  <tbody>\n",
              "    <tr>\n",
              "      <th>41</th>\n",
              "      <td>2018-09-21</td>\n",
              "      <td>0</td>\n",
              "      <td>0.666667</td>\n",
              "      <td>0.011364</td>\n",
              "      <td>0.002740</td>\n",
              "      <td>0.007332</td>\n",
              "    </tr>\n",
              "    <tr>\n",
              "      <th>41</th>\n",
              "      <td>2018-09-22</td>\n",
              "      <td>0</td>\n",
              "      <td>0.833333</td>\n",
              "      <td>0.017045</td>\n",
              "      <td>0.005479</td>\n",
              "      <td>0.008251</td>\n",
              "    </tr>\n",
              "    <tr>\n",
              "      <th>41</th>\n",
              "      <td>2018-09-23</td>\n",
              "      <td>0</td>\n",
              "      <td>1.000000</td>\n",
              "      <td>0.022727</td>\n",
              "      <td>0.008219</td>\n",
              "      <td>0.008757</td>\n",
              "    </tr>\n",
              "  </tbody>\n",
              "</table>\n",
              "</div>"
            ],
            "text/plain": [
              "                  date  promo   weekday      days  days_release     price\n",
              "resource_id                                                              \n",
              "41          2018-09-21      0  0.666667  0.011364      0.002740  0.007332\n",
              "41          2018-09-22      0  0.833333  0.017045      0.005479  0.008251\n",
              "41          2018-09-23      0  1.000000  0.022727      0.008219  0.008757"
            ]
          },
          "metadata": {
            "tags": []
          },
          "execution_count": 9
        }
      ]
    },
    {
      "cell_type": "code",
      "metadata": {
        "colab_type": "code",
        "id": "F8wNy6NAxXav",
        "colab": {}
      },
      "source": [
        "assert df_train_temp.shape[1] == df_test_temp.shape[1] == df_val_temp.shape[1]"
      ],
      "execution_count": 0,
      "outputs": []
    },
    {
      "cell_type": "markdown",
      "metadata": {
        "colab_type": "text",
        "id": "akndXpR8xXax"
      },
      "source": [
        "### Attributes Transformation"
      ]
    },
    {
      "cell_type": "code",
      "metadata": {
        "colab_type": "code",
        "id": "ilaoOsSCxXax",
        "colab": {}
      },
      "source": [
        "df_train_attr = df_train.groupby('resource_id')[attr_cols].first()\n",
        "df_val_attr = df_val.groupby('resource_id')[attr_cols].first()\n",
        "df_test_attr = df_test.groupby('resource_id')[attr_cols].first()"
      ],
      "execution_count": 0,
      "outputs": []
    },
    {
      "cell_type": "code",
      "metadata": {
        "colab_type": "code",
        "id": "o5Gnzq7ZxXa4",
        "colab": {}
      },
      "source": [
        "attr_cat = ['club', 'league', 'nationality', 'pref_foot', 'att_workrate', 'def_workrate', 'position', 'source']\n",
        "attr_num = [v for v in df_train_attr.columns if v not in attr_cat]\n",
        "num_mask = df_train_attr.columns.isin(attr_num)\n",
        "\n",
        "ct = make_column_transformer((MinMaxScaler(), num_mask), (OneHotEncoder(), ~num_mask))\n",
        "attr_ct = ct.fit(df_train_attr)\n",
        "\n",
        "def attr_transform(df):\n",
        "    resources = df.index.values\n",
        "    cols = attr_num + attr_ct.named_transformers_['onehotencoder'].get_feature_names().tolist()\n",
        "    data = attr_ct.transform(df)\n",
        "    \n",
        "    return pd.DataFrame(data=data, columns=cols, index=resources)\n",
        "\n",
        "df_train_attr = attr_transform(df_train_attr)\n",
        "df_val_attr = attr_transform(df_val_attr)\n",
        "df_test_attr = attr_transform(df_test_attr)"
      ],
      "execution_count": 0,
      "outputs": []
    },
    {
      "cell_type": "code",
      "metadata": {
        "colab_type": "code",
        "id": "Ezz5JdpfxXa6",
        "outputId": "b2c0e6a9-671d-46fc-eb90-a24c4e079b8e",
        "colab": {
          "base_uri": "https://localhost:8080/",
          "height": 163
        }
      },
      "source": [
        "df_train_attr.head(3)"
      ],
      "execution_count": 13,
      "outputs": [
        {
          "output_type": "execute_result",
          "data": {
            "text/html": [
              "<div>\n",
              "<style scoped>\n",
              "    .dataframe tbody tr th:only-of-type {\n",
              "        vertical-align: middle;\n",
              "    }\n",
              "\n",
              "    .dataframe tbody tr th {\n",
              "        vertical-align: top;\n",
              "    }\n",
              "\n",
              "    .dataframe thead th {\n",
              "        text-align: right;\n",
              "    }\n",
              "</style>\n",
              "<table border=\"1\" class=\"dataframe\">\n",
              "  <thead>\n",
              "    <tr style=\"text-align: right;\">\n",
              "      <th></th>\n",
              "      <th>overall</th>\n",
              "      <th>height</th>\n",
              "      <th>weight</th>\n",
              "      <th>intl_rep</th>\n",
              "      <th>pace</th>\n",
              "      <th>pace_acceleration</th>\n",
              "      <th>pace_sprint_speed</th>\n",
              "      <th>dribbling</th>\n",
              "      <th>drib_agility</th>\n",
              "      <th>drib_balance</th>\n",
              "      <th>drib_reactions</th>\n",
              "      <th>drib_ball_control</th>\n",
              "      <th>drib_dribbling</th>\n",
              "      <th>drib_composure</th>\n",
              "      <th>shooting</th>\n",
              "      <th>shoot_positioning</th>\n",
              "      <th>shoot_finishing</th>\n",
              "      <th>shoot_shot_power</th>\n",
              "      <th>shoot_long_shots</th>\n",
              "      <th>shoot_volleys</th>\n",
              "      <th>shoot_penalties</th>\n",
              "      <th>passing</th>\n",
              "      <th>pass_vision</th>\n",
              "      <th>pass_crossing</th>\n",
              "      <th>pass_free_kick</th>\n",
              "      <th>pass_short</th>\n",
              "      <th>pass_long</th>\n",
              "      <th>pass_curve</th>\n",
              "      <th>defending</th>\n",
              "      <th>def_interceptions</th>\n",
              "      <th>def_heading</th>\n",
              "      <th>def_marking</th>\n",
              "      <th>def_stand_tackle</th>\n",
              "      <th>def_slid_tackle</th>\n",
              "      <th>physicality</th>\n",
              "      <th>phys_jumping</th>\n",
              "      <th>phys_stamina</th>\n",
              "      <th>phys_strength</th>\n",
              "      <th>phys_aggression</th>\n",
              "      <th>weak_foot</th>\n",
              "      <th>skill_moves</th>\n",
              "      <th>x0_other</th>\n",
              "      <th>x0_top</th>\n",
              "      <th>x1_other</th>\n",
              "      <th>x1_top</th>\n",
              "      <th>x2_other</th>\n",
              "      <th>x2_top</th>\n",
              "      <th>x3_CAM</th>\n",
              "      <th>x3_CB</th>\n",
              "      <th>x3_CDM</th>\n",
              "      <th>x3_CF</th>\n",
              "      <th>x3_CM</th>\n",
              "      <th>x3_LB</th>\n",
              "      <th>x3_LF</th>\n",
              "      <th>x3_LM</th>\n",
              "      <th>x3_LW</th>\n",
              "      <th>x3_LWB</th>\n",
              "      <th>x3_RB</th>\n",
              "      <th>x3_RM</th>\n",
              "      <th>x3_RW</th>\n",
              "      <th>x3_RWB</th>\n",
              "      <th>x3_ST</th>\n",
              "      <th>x4_Left</th>\n",
              "      <th>x4_Right</th>\n",
              "      <th>x5_High</th>\n",
              "      <th>x5_Low</th>\n",
              "      <th>x5_Med</th>\n",
              "      <th>x6_High</th>\n",
              "      <th>x6_Low</th>\n",
              "      <th>x6_Med</th>\n",
              "      <th>x7_packs</th>\n",
              "    </tr>\n",
              "  </thead>\n",
              "  <tbody>\n",
              "    <tr>\n",
              "      <th>41</th>\n",
              "      <td>0.3</td>\n",
              "      <td>0.228571</td>\n",
              "      <td>0.219512</td>\n",
              "      <td>0.75</td>\n",
              "      <td>0.481481</td>\n",
              "      <td>0.508475</td>\n",
              "      <td>0.454545</td>\n",
              "      <td>0.888889</td>\n",
              "      <td>0.696970</td>\n",
              "      <td>0.772727</td>\n",
              "      <td>0.620690</td>\n",
              "      <td>0.883721</td>\n",
              "      <td>0.888889</td>\n",
              "      <td>0.68750</td>\n",
              "      <td>0.693333</td>\n",
              "      <td>0.805195</td>\n",
              "      <td>0.681818</td>\n",
              "      <td>0.423729</td>\n",
              "      <td>0.694118</td>\n",
              "      <td>0.731707</td>\n",
              "      <td>0.626667</td>\n",
              "      <td>0.882353</td>\n",
              "      <td>0.947368</td>\n",
              "      <td>0.694444</td>\n",
              "      <td>0.714286</td>\n",
              "      <td>0.825</td>\n",
              "      <td>0.816667</td>\n",
              "      <td>0.763158</td>\n",
              "      <td>0.544118</td>\n",
              "      <td>0.649351</td>\n",
              "      <td>0.338235</td>\n",
              "      <td>0.670588</td>\n",
              "      <td>0.524390</td>\n",
              "      <td>0.5500</td>\n",
              "      <td>0.162791</td>\n",
              "      <td>0.246377</td>\n",
              "      <td>0.043478</td>\n",
              "      <td>0.338710</td>\n",
              "      <td>0.453333</td>\n",
              "      <td>0.666667</td>\n",
              "      <td>0.666667</td>\n",
              "      <td>1.0</td>\n",
              "      <td>0.0</td>\n",
              "      <td>1.0</td>\n",
              "      <td>0.0</td>\n",
              "      <td>0.0</td>\n",
              "      <td>1.0</td>\n",
              "      <td>0.0</td>\n",
              "      <td>0.0</td>\n",
              "      <td>0.0</td>\n",
              "      <td>0.0</td>\n",
              "      <td>1.0</td>\n",
              "      <td>0.0</td>\n",
              "      <td>0.0</td>\n",
              "      <td>0.0</td>\n",
              "      <td>0.0</td>\n",
              "      <td>0.0</td>\n",
              "      <td>0.0</td>\n",
              "      <td>0.0</td>\n",
              "      <td>0.0</td>\n",
              "      <td>0.0</td>\n",
              "      <td>0.0</td>\n",
              "      <td>0.0</td>\n",
              "      <td>1.0</td>\n",
              "      <td>1.0</td>\n",
              "      <td>0.0</td>\n",
              "      <td>0.0</td>\n",
              "      <td>0.0</td>\n",
              "      <td>0.0</td>\n",
              "      <td>1.0</td>\n",
              "      <td>1.0</td>\n",
              "    </tr>\n",
              "    <tr>\n",
              "      <th>9014</th>\n",
              "      <td>0.1</td>\n",
              "      <td>0.485714</td>\n",
              "      <td>0.512195</td>\n",
              "      <td>0.75</td>\n",
              "      <td>0.666667</td>\n",
              "      <td>0.728814</td>\n",
              "      <td>0.600000</td>\n",
              "      <td>0.844444</td>\n",
              "      <td>0.818182</td>\n",
              "      <td>0.863636</td>\n",
              "      <td>0.517241</td>\n",
              "      <td>0.744186</td>\n",
              "      <td>0.870370</td>\n",
              "      <td>0.56250</td>\n",
              "      <td>0.893333</td>\n",
              "      <td>0.805195</td>\n",
              "      <td>0.852273</td>\n",
              "      <td>0.779661</td>\n",
              "      <td>0.870588</td>\n",
              "      <td>0.878049</td>\n",
              "      <td>0.720000</td>\n",
              "      <td>0.764706</td>\n",
              "      <td>0.802632</td>\n",
              "      <td>0.736111</td>\n",
              "      <td>0.845238</td>\n",
              "      <td>0.575</td>\n",
              "      <td>0.566667</td>\n",
              "      <td>0.894737</td>\n",
              "      <td>0.117647</td>\n",
              "      <td>0.272727</td>\n",
              "      <td>0.294118</td>\n",
              "      <td>0.235294</td>\n",
              "      <td>0.146341</td>\n",
              "      <td>0.1750</td>\n",
              "      <td>0.279070</td>\n",
              "      <td>0.434783</td>\n",
              "      <td>0.239130</td>\n",
              "      <td>0.483871</td>\n",
              "      <td>0.306667</td>\n",
              "      <td>0.000000</td>\n",
              "      <td>0.666667</td>\n",
              "      <td>0.0</td>\n",
              "      <td>1.0</td>\n",
              "      <td>0.0</td>\n",
              "      <td>1.0</td>\n",
              "      <td>0.0</td>\n",
              "      <td>1.0</td>\n",
              "      <td>0.0</td>\n",
              "      <td>0.0</td>\n",
              "      <td>0.0</td>\n",
              "      <td>0.0</td>\n",
              "      <td>0.0</td>\n",
              "      <td>0.0</td>\n",
              "      <td>0.0</td>\n",
              "      <td>0.0</td>\n",
              "      <td>0.0</td>\n",
              "      <td>0.0</td>\n",
              "      <td>0.0</td>\n",
              "      <td>1.0</td>\n",
              "      <td>0.0</td>\n",
              "      <td>0.0</td>\n",
              "      <td>0.0</td>\n",
              "      <td>1.0</td>\n",
              "      <td>0.0</td>\n",
              "      <td>1.0</td>\n",
              "      <td>0.0</td>\n",
              "      <td>0.0</td>\n",
              "      <td>0.0</td>\n",
              "      <td>1.0</td>\n",
              "      <td>0.0</td>\n",
              "      <td>1.0</td>\n",
              "    </tr>\n",
              "    <tr>\n",
              "      <th>20775</th>\n",
              "      <td>0.0</td>\n",
              "      <td>0.342857</td>\n",
              "      <td>0.195122</td>\n",
              "      <td>0.50</td>\n",
              "      <td>0.740741</td>\n",
              "      <td>0.745763</td>\n",
              "      <td>0.709091</td>\n",
              "      <td>0.844444</td>\n",
              "      <td>0.878788</td>\n",
              "      <td>0.772727</td>\n",
              "      <td>0.275862</td>\n",
              "      <td>0.744186</td>\n",
              "      <td>0.870370</td>\n",
              "      <td>0.40625</td>\n",
              "      <td>0.746667</td>\n",
              "      <td>0.727273</td>\n",
              "      <td>0.647727</td>\n",
              "      <td>0.661017</td>\n",
              "      <td>0.800000</td>\n",
              "      <td>0.804878</td>\n",
              "      <td>0.666667</td>\n",
              "      <td>0.784314</td>\n",
              "      <td>0.815789</td>\n",
              "      <td>0.902778</td>\n",
              "      <td>0.750000</td>\n",
              "      <td>0.500</td>\n",
              "      <td>0.633333</td>\n",
              "      <td>0.947368</td>\n",
              "      <td>0.000000</td>\n",
              "      <td>0.103896</td>\n",
              "      <td>0.147059</td>\n",
              "      <td>0.223529</td>\n",
              "      <td>0.036585</td>\n",
              "      <td>0.0125</td>\n",
              "      <td>0.279070</td>\n",
              "      <td>0.478261</td>\n",
              "      <td>0.260870</td>\n",
              "      <td>0.290323</td>\n",
              "      <td>0.666667</td>\n",
              "      <td>0.666667</td>\n",
              "      <td>1.000000</td>\n",
              "      <td>1.0</td>\n",
              "      <td>0.0</td>\n",
              "      <td>1.0</td>\n",
              "      <td>0.0</td>\n",
              "      <td>0.0</td>\n",
              "      <td>1.0</td>\n",
              "      <td>0.0</td>\n",
              "      <td>0.0</td>\n",
              "      <td>0.0</td>\n",
              "      <td>0.0</td>\n",
              "      <td>0.0</td>\n",
              "      <td>0.0</td>\n",
              "      <td>0.0</td>\n",
              "      <td>0.0</td>\n",
              "      <td>0.0</td>\n",
              "      <td>0.0</td>\n",
              "      <td>0.0</td>\n",
              "      <td>1.0</td>\n",
              "      <td>0.0</td>\n",
              "      <td>0.0</td>\n",
              "      <td>0.0</td>\n",
              "      <td>0.0</td>\n",
              "      <td>1.0</td>\n",
              "      <td>1.0</td>\n",
              "      <td>0.0</td>\n",
              "      <td>0.0</td>\n",
              "      <td>0.0</td>\n",
              "      <td>1.0</td>\n",
              "      <td>0.0</td>\n",
              "      <td>1.0</td>\n",
              "    </tr>\n",
              "  </tbody>\n",
              "</table>\n",
              "</div>"
            ],
            "text/plain": [
              "       overall    height    weight  intl_rep      pace  pace_acceleration  \\\n",
              "41         0.3  0.228571  0.219512      0.75  0.481481           0.508475   \n",
              "9014       0.1  0.485714  0.512195      0.75  0.666667           0.728814   \n",
              "20775      0.0  0.342857  0.195122      0.50  0.740741           0.745763   \n",
              "\n",
              "       pace_sprint_speed  dribbling  drib_agility  drib_balance  \\\n",
              "41              0.454545   0.888889      0.696970      0.772727   \n",
              "9014            0.600000   0.844444      0.818182      0.863636   \n",
              "20775           0.709091   0.844444      0.878788      0.772727   \n",
              "\n",
              "       drib_reactions  drib_ball_control  drib_dribbling  drib_composure  \\\n",
              "41           0.620690           0.883721        0.888889         0.68750   \n",
              "9014         0.517241           0.744186        0.870370         0.56250   \n",
              "20775        0.275862           0.744186        0.870370         0.40625   \n",
              "\n",
              "       shooting  shoot_positioning  shoot_finishing  shoot_shot_power  \\\n",
              "41     0.693333           0.805195         0.681818          0.423729   \n",
              "9014   0.893333           0.805195         0.852273          0.779661   \n",
              "20775  0.746667           0.727273         0.647727          0.661017   \n",
              "\n",
              "       shoot_long_shots  shoot_volleys  shoot_penalties   passing  \\\n",
              "41             0.694118       0.731707         0.626667  0.882353   \n",
              "9014           0.870588       0.878049         0.720000  0.764706   \n",
              "20775          0.800000       0.804878         0.666667  0.784314   \n",
              "\n",
              "       pass_vision  pass_crossing  pass_free_kick  pass_short  pass_long  \\\n",
              "41        0.947368       0.694444        0.714286       0.825   0.816667   \n",
              "9014      0.802632       0.736111        0.845238       0.575   0.566667   \n",
              "20775     0.815789       0.902778        0.750000       0.500   0.633333   \n",
              "\n",
              "       pass_curve  defending  def_interceptions  def_heading  def_marking  \\\n",
              "41       0.763158   0.544118           0.649351     0.338235     0.670588   \n",
              "9014     0.894737   0.117647           0.272727     0.294118     0.235294   \n",
              "20775    0.947368   0.000000           0.103896     0.147059     0.223529   \n",
              "\n",
              "       def_stand_tackle  def_slid_tackle  physicality  phys_jumping  \\\n",
              "41             0.524390           0.5500     0.162791      0.246377   \n",
              "9014           0.146341           0.1750     0.279070      0.434783   \n",
              "20775          0.036585           0.0125     0.279070      0.478261   \n",
              "\n",
              "       phys_stamina  phys_strength  phys_aggression  weak_foot  skill_moves  \\\n",
              "41         0.043478       0.338710         0.453333   0.666667     0.666667   \n",
              "9014       0.239130       0.483871         0.306667   0.000000     0.666667   \n",
              "20775      0.260870       0.290323         0.666667   0.666667     1.000000   \n",
              "\n",
              "       x0_other  x0_top  x1_other  x1_top  x2_other  x2_top  x3_CAM  x3_CB  \\\n",
              "41          1.0     0.0       1.0     0.0       0.0     1.0     0.0    0.0   \n",
              "9014        0.0     1.0       0.0     1.0       0.0     1.0     0.0    0.0   \n",
              "20775       1.0     0.0       1.0     0.0       0.0     1.0     0.0    0.0   \n",
              "\n",
              "       x3_CDM  x3_CF  x3_CM  x3_LB  x3_LF  x3_LM  x3_LW  x3_LWB  x3_RB  x3_RM  \\\n",
              "41        0.0    0.0    1.0    0.0    0.0    0.0    0.0     0.0    0.0    0.0   \n",
              "9014      0.0    0.0    0.0    0.0    0.0    0.0    0.0     0.0    0.0    1.0   \n",
              "20775     0.0    0.0    0.0    0.0    0.0    0.0    0.0     0.0    0.0    1.0   \n",
              "\n",
              "       x3_RW  x3_RWB  x3_ST  x4_Left  x4_Right  x5_High  x5_Low  x5_Med  \\\n",
              "41       0.0     0.0    0.0      0.0       1.0      1.0     0.0     0.0   \n",
              "9014     0.0     0.0    0.0      1.0       0.0      1.0     0.0     0.0   \n",
              "20775    0.0     0.0    0.0      0.0       1.0      1.0     0.0     0.0   \n",
              "\n",
              "       x6_High  x6_Low  x6_Med  x7_packs  \n",
              "41         0.0     0.0     1.0       1.0  \n",
              "9014       0.0     1.0     0.0       1.0  \n",
              "20775      0.0     1.0     0.0       1.0  "
            ]
          },
          "metadata": {
            "tags": []
          },
          "execution_count": 13
        }
      ]
    },
    {
      "cell_type": "code",
      "metadata": {
        "colab_type": "code",
        "id": "pvmCVBQwxXa9",
        "colab": {}
      },
      "source": [
        "assert df_test_attr.shape[1] == df_train_attr.shape[1] == df_val_attr.shape[1]"
      ],
      "execution_count": 0,
      "outputs": []
    },
    {
      "cell_type": "markdown",
      "metadata": {
        "colab_type": "text",
        "id": "f3S3qR_mxXbA"
      },
      "source": [
        "### Input Processing"
      ]
    },
    {
      "cell_type": "code",
      "metadata": {
        "colab_type": "code",
        "id": "FFMB7GM6xXbA",
        "colab": {}
      },
      "source": [
        "def data_process(df_temp, df_attr, num_obs, num_steps):\n",
        "    \"\"\"\n",
        "    Constructs the temporal and attribute datasets for our model\n",
        "    Arguments:\n",
        "        - df_temp: our temporal dataframe\n",
        "        - df_attr: our attributes dataframe\n",
        "        - num_obs: number of observations to be used in model\n",
        "        - num_steps: number of steps ahead to predict\n",
        "    Returns:\n",
        "        - temp_data: temporal dataset\n",
        "        - attr_data: attribute dataset\n",
        "        - targ_data: target dataset\n",
        "        - reso_data: corresponding resource\n",
        "    \"\"\"\n",
        "    \n",
        "    resources = df_temp.index.unique().values\n",
        "    \n",
        "    reso_data = []\n",
        "    targ_data = []\n",
        "    temp_data = []\n",
        "    attr_data = []\n",
        "    \n",
        "    for r in resources:\n",
        "        \n",
        "        attributes = df_attr[df_attr.index==r].values[0]\n",
        "        temporal_d = df_temp[df_temp.index==r].values\n",
        "        \n",
        "        total_obs = temporal_d.shape[0]\n",
        "        window_size = num_obs + num_steps\n",
        "        \n",
        "        if window_size > total_obs:\n",
        "            continue\n",
        "        \n",
        "        for i in range(total_obs - window_size):\n",
        "            \n",
        "            attr = np.append(attributes, temporal_d[i+num_obs-1][-1])\n",
        "            temp = temporal_d[i:i+num_obs][:, 1:]\n",
        "            targ = temporal_d[i+num_obs:i+num_obs+num_steps][:, -1]\n",
        "            targ_data.append(targ)\n",
        "            temp_data.append(temp)\n",
        "            attr_data.append(attr)\n",
        "            reso_data.append(r)\n",
        "          \n",
        "    return np.asarray(attr_data), np.asarray(temp_data), np.asarray(targ_data), np.asarray(reso_data)"
      ],
      "execution_count": 0,
      "outputs": []
    },
    {
      "cell_type": "code",
      "metadata": {
        "colab_type": "code",
        "id": "f2NVyHdrxXbC",
        "colab": {}
      },
      "source": [
        "# Number of past observations to look at\n",
        "NUM_OBS = 7\n",
        "# Number of future observations to use as target\n",
        "NUM_STEPS = 3\n",
        "\n",
        "train_attr, train_temp, train_targ, train_res = data_process(df_train_temp, df_train_attr, NUM_OBS, NUM_STEPS)\n",
        "val_attr, val_temp, val_targ, val_res = data_process(df_val_temp, df_val_attr, NUM_OBS, NUM_STEPS)\n",
        "test_attr, test_temp, test_targ, test_res  = data_process(df_test_temp, df_test_attr, NUM_OBS, NUM_STEPS)"
      ],
      "execution_count": 0,
      "outputs": []
    },
    {
      "cell_type": "code",
      "metadata": {
        "colab_type": "code",
        "id": "IGOWgOdBxXbI",
        "colab": {}
      },
      "source": [
        "assert train_res.shape[0] == train_temp.shape[0]\n",
        "assert train_temp.shape[0] == train_targ.shape[0]\n",
        "assert train_targ.shape[0] == train_attr.shape[0]"
      ],
      "execution_count": 0,
      "outputs": []
    },
    {
      "cell_type": "markdown",
      "metadata": {
        "colab_type": "text",
        "id": "279ZyqvbxXbJ"
      },
      "source": [
        "# 2. Modeling\n",
        "The temporal data will be fed into an LSTM layer, the attributes will be fed into a Dense layer; their outputs will be concatenated and fed into more layers. "
      ]
    },
    {
      "cell_type": "code",
      "metadata": {
        "colab_type": "code",
        "id": "wTs4ANHkxXbL",
        "colab": {}
      },
      "source": [
        "train_temp = train_temp.astype(np.float64)\n",
        "val_temp = val_temp.astype(np.float64)\n",
        "test_temp = test_temp.astype(np.float64)\n",
        "\n",
        "train_targ = train_targ.astype(np.float64)\n",
        "val_targ = val_targ.astype(np.float64)\n",
        "test_targ = test_targ.astype(np.float64)"
      ],
      "execution_count": 0,
      "outputs": []
    },
    {
      "cell_type": "code",
      "metadata": {
        "colab_type": "code",
        "id": "-Wyvy_ou3d39",
        "outputId": "8de851d0-ed32-4777-e198-9813bec723e5",
        "colab": {
          "base_uri": "https://localhost:8080/",
          "height": 69
        }
      },
      "source": [
        "print('Temporal shape:', train_temp[0].shape)\n",
        "print('Attributes shape:', train_attr[0].shape)\n",
        "print('Target shape:', train_targ[0].shape)"
      ],
      "execution_count": 19,
      "outputs": [
        {
          "output_type": "stream",
          "text": [
            "Temporal shape: (7, 5)\n",
            "Attributes shape: (72,)\n",
            "Target shape: (3,)\n"
          ],
          "name": "stdout"
        }
      ]
    },
    {
      "cell_type": "code",
      "metadata": {
        "colab_type": "code",
        "id": "i9avZqVcgyoL",
        "colab": {}
      },
      "source": [
        "np.random.seed(42)\n",
        "np.random.shuffle(train_attr)\n",
        "np.random.seed(42)\n",
        "np.random.shuffle(train_temp)\n",
        "np.random.seed(42)\n",
        "np.random.shuffle(train_targ)"
      ],
      "execution_count": 0,
      "outputs": []
    },
    {
      "cell_type": "code",
      "metadata": {
        "colab_type": "code",
        "id": "WOTXIXukxXbM",
        "colab": {}
      },
      "source": [
        "tf.random.set_seed(42)\n",
        "\n",
        "input_attr = Input(shape=train_attr[0].shape)\n",
        "input_temp = Input(shape=train_temp[0].shape)\n",
        "\n",
        "# temporal path\n",
        "X_temp1 = GRU(128, activation='relu', recurrent_activation='relu',\n",
        "              dropout=0.1, recurrent_dropout=0.1, \n",
        "              return_sequences=True)(input_temp)\n",
        "X_temp2 = GRU(128, activation='relu', recurrent_activation='relu',\n",
        "              dropout=0.1, recurrent_dropout=0.1,\n",
        "              return_sequences=True)(X_temp1)\n",
        "X_temp3 = GRU(128, activation='relu', recurrent_activation='relu',\n",
        "              dropout=0.1, recurrent_dropout=0.1,\n",
        "              return_sequences=True)(X_temp2)\n",
        "X_temp4 = GRU(128, activation='relu', recurrent_activation='relu')(X_temp3)\n",
        "\n",
        "# attribute path\n",
        "X_attr1 = Dense(256, activation='relu')(input_attr)\n",
        "X_attr2 = Dense(256, activation='relu')(X_attr1)\n",
        "X_attr3 = Dense(256, activation='relu')(X_attr2)\n",
        "X_attr4 = Dense(128, activation='relu')(X_attr3)\n",
        "\n",
        "# merged path\n",
        "X = Concatenate(axis=1)([X_attr4, X_temp4])\n",
        "X = Dense(256, activation='relu')(X)\n",
        "X = Dense(128, activation='relu')(X)\n",
        "output = Dense(NUM_STEPS, activation='relu')(X)\n",
        "\n",
        "model = Model([input_attr, input_temp], output)"
      ],
      "execution_count": 0,
      "outputs": []
    },
    {
      "cell_type": "code",
      "metadata": {
        "colab_type": "code",
        "id": "kWogLsQ40teH",
        "outputId": "23d36597-95db-405a-f132-7ef66107a739",
        "colab": {
          "base_uri": "https://localhost:8080/",
          "height": 660
        }
      },
      "source": [
        "model.summary()"
      ],
      "execution_count": 22,
      "outputs": [
        {
          "output_type": "stream",
          "text": [
            "Model: \"model\"\n",
            "__________________________________________________________________________________________________\n",
            "Layer (type)                    Output Shape         Param #     Connected to                     \n",
            "==================================================================================================\n",
            "input_1 (InputLayer)            [(None, 72)]         0                                            \n",
            "__________________________________________________________________________________________________\n",
            "input_2 (InputLayer)            [(None, 7, 5)]       0                                            \n",
            "__________________________________________________________________________________________________\n",
            "dense (Dense)                   (None, 256)          18688       input_1[0][0]                    \n",
            "__________________________________________________________________________________________________\n",
            "gru (GRU)                       (None, 7, 128)       51840       input_2[0][0]                    \n",
            "__________________________________________________________________________________________________\n",
            "dense_1 (Dense)                 (None, 256)          65792       dense[0][0]                      \n",
            "__________________________________________________________________________________________________\n",
            "gru_1 (GRU)                     (None, 7, 128)       99072       gru[0][0]                        \n",
            "__________________________________________________________________________________________________\n",
            "dense_2 (Dense)                 (None, 256)          65792       dense_1[0][0]                    \n",
            "__________________________________________________________________________________________________\n",
            "gru_2 (GRU)                     (None, 7, 128)       99072       gru_1[0][0]                      \n",
            "__________________________________________________________________________________________________\n",
            "dense_3 (Dense)                 (None, 128)          32896       dense_2[0][0]                    \n",
            "__________________________________________________________________________________________________\n",
            "gru_3 (GRU)                     (None, 128)          99072       gru_2[0][0]                      \n",
            "__________________________________________________________________________________________________\n",
            "concatenate (Concatenate)       (None, 256)          0           dense_3[0][0]                    \n",
            "                                                                 gru_3[0][0]                      \n",
            "__________________________________________________________________________________________________\n",
            "dense_4 (Dense)                 (None, 256)          65792       concatenate[0][0]                \n",
            "__________________________________________________________________________________________________\n",
            "dense_5 (Dense)                 (None, 128)          32896       dense_4[0][0]                    \n",
            "__________________________________________________________________________________________________\n",
            "dense_6 (Dense)                 (None, 3)            387         dense_5[0][0]                    \n",
            "==================================================================================================\n",
            "Total params: 631,299\n",
            "Trainable params: 631,299\n",
            "Non-trainable params: 0\n",
            "__________________________________________________________________________________________________\n"
          ],
          "name": "stdout"
        }
      ]
    },
    {
      "cell_type": "code",
      "metadata": {
        "id": "tpRGe-puYXSb",
        "colab_type": "code",
        "outputId": "1ce79e80-0d92-4cdb-c72f-dffab1cbfa22",
        "colab": {
          "base_uri": "https://localhost:8080/",
          "height": 34
        }
      },
      "source": [
        "checkpoint_folder = '/content/drive/My Drive/Python/Fut/checkpoints'\n",
        "\n",
        "if not os.path.exists(checkpoint_folder):\n",
        "    os.makedirs(checkpoint_folder)\n",
        "\n",
        "checkpoint_path = os.path.join(checkpoint_folder, 'weights.{epoch:02d}-{val_loss:.2f}.hdf5')\n",
        "\n",
        "try:\n",
        "    latest = os.path.join(checkpoint_folder, os.listdir(checkpoint_folder)[-1])\n",
        "    model.load_weights(latest)\n",
        "    print('Checkpoint loaded.')\n",
        "\n",
        "except:\n",
        "    print('No checkpoints in the folder.')"
      ],
      "execution_count": 23,
      "outputs": [
        {
          "output_type": "stream",
          "text": [
            "Checkpoint loaded.\n"
          ],
          "name": "stdout"
        }
      ]
    },
    {
      "cell_type": "code",
      "metadata": {
        "colab_type": "code",
        "id": "FIq4qRHfxXbO",
        "outputId": "861fe2d6-40ac-4a0e-ea74-a10050479d90",
        "colab": {
          "base_uri": "https://localhost:8080/",
          "height": 590
        }
      },
      "source": [
        "optimizer = Adam()\n",
        "model.compile(optimizer=optimizer, loss='mse')\n",
        "\n",
        "callbacks_list = [EarlyStopping(monitor='val_loss', patience=4),\n",
        "                  ModelCheckpoint(filepath=checkpoint_path, monitor='val_loss',\n",
        "                                  save_best_only=True)]\n",
        "\n",
        "history = model.fit([train_attr, train_temp], train_targ,\n",
        "                    validation_data=([val_attr, val_temp], val_targ),\n",
        "                    callbacks=callbacks_list,\n",
        "                    batch_size=32, epochs=30) "
      ],
      "execution_count": 24,
      "outputs": [
        {
          "output_type": "stream",
          "text": [
            "Train on 66109 samples, validate on 52965 samples\n",
            "Epoch 1/30\n",
            "66109/66109 [==============================] - 117s 2ms/sample - loss: 1.6372e-04 - val_loss: 1.8021e-04\n",
            "Epoch 2/30\n",
            "66109/66109 [==============================] - 105s 2ms/sample - loss: 1.6152e-04 - val_loss: 2.0494e-04\n",
            "Epoch 3/30\n",
            "66109/66109 [==============================] - 103s 2ms/sample - loss: 1.5422e-04 - val_loss: 2.3974e-04\n",
            "Epoch 4/30\n",
            "66109/66109 [==============================] - 103s 2ms/sample - loss: 1.5713e-04 - val_loss: 2.0487e-04\n",
            "Epoch 5/30\n",
            "66109/66109 [==============================] - 105s 2ms/sample - loss: 1.4987e-04 - val_loss: 1.6133e-04\n",
            "Epoch 6/30\n",
            "66109/66109 [==============================] - 103s 2ms/sample - loss: 1.4761e-04 - val_loss: 1.8213e-04\n",
            "Epoch 7/30\n",
            "66109/66109 [==============================] - 103s 2ms/sample - loss: 1.5899e-04 - val_loss: 1.8630e-04\n",
            "Epoch 8/30\n",
            "66109/66109 [==============================] - 102s 2ms/sample - loss: 1.6007e-04 - val_loss: 1.8318e-04\n",
            "Epoch 9/30\n",
            "66109/66109 [==============================] - 103s 2ms/sample - loss: 1.4572e-04 - val_loss: 1.3799e-04\n",
            "Epoch 10/30\n",
            "66109/66109 [==============================] - 102s 2ms/sample - loss: 8.5871 - val_loss: 1.5564e-04\n",
            "Epoch 11/30\n",
            "66109/66109 [==============================] - 103s 2ms/sample - loss: 1.4660e-04 - val_loss: 1.3829e-04\n",
            "Epoch 12/30\n",
            "66109/66109 [==============================] - 103s 2ms/sample - loss: 1.4261e-04 - val_loss: 1.3614e-04\n",
            "Epoch 13/30\n",
            "66109/66109 [==============================] - 102s 2ms/sample - loss: 1.4060e-04 - val_loss: 2.4408e-04\n",
            "Epoch 14/30\n",
            "66109/66109 [==============================] - 102s 2ms/sample - loss: 1.4257e-04 - val_loss: 1.5485e-04\n",
            "Epoch 15/30\n",
            "66109/66109 [==============================] - 101s 2ms/sample - loss: 1.4216e-04 - val_loss: 1.4142e-04\n",
            "Epoch 16/30\n",
            "66109/66109 [==============================] - 102s 2ms/sample - loss: 1.4240e-04 - val_loss: 2.1080e-04\n"
          ],
          "name": "stdout"
        }
      ]
    },
    {
      "cell_type": "code",
      "metadata": {
        "colab_type": "code",
        "id": "rhSd4laQIUlo",
        "outputId": "727ac026-cd0b-4608-ebe3-e93fbae29aed",
        "colab": {
          "base_uri": "https://localhost:8080/",
          "height": 483
        }
      },
      "source": [
        "fig, ax = plt.subplots(1,1, figsize=(8,8))\n",
        "ax.plot(history.history['loss'], label='loss')\n",
        "ax.plot(history.history['val_loss'], label='validation loss')\n",
        "ax.legend()\n",
        "plt.show()"
      ],
      "execution_count": 25,
      "outputs": [
        {
          "output_type": "display_data",
          "data": {
            "image/png": "[encoded data removed]",
            "text/plain": [
              "<Figure size 576x576 with 1 Axes>"
            ]
          },
          "metadata": {
            "tags": []
          }
        }
      ]
    },
    {
      "cell_type": "code",
      "metadata": {
        "colab_type": "code",
        "id": "YP0giFIjzR15",
        "colab": {}
      },
      "source": [
        "test_preds = model.predict([test_attr, test_temp])"
      ],
      "execution_count": 0,
      "outputs": []
    },
    {
      "cell_type": "code",
      "metadata": {
        "colab_type": "code",
        "id": "3F7aGjQ484rp",
        "outputId": "be48a4f0-4743-4da4-9ecb-e6a94195d028",
        "colab": {
          "base_uri": "https://localhost:8080/",
          "height": 104
        }
      },
      "source": [
        "print('Example Target')\n",
        "example_targ = price_scaler.inverse_transform(test_targ[0]\\\n",
        "                                              .reshape(1, -1))\n",
        "print(example_targ)\n",
        "print()\n",
        "\n",
        "\n",
        "print('Example Prediction')\n",
        "example_pred = price_scaler.inverse_transform(test_preds[0]\\\n",
        "                                              .reshape(1, -1))\n",
        "print(example_pred)"
      ],
      "execution_count": 27,
      "outputs": [
        {
          "output_type": "stream",
          "text": [
            "Example Target\n",
            "[[5780. 5771. 5654.]]\n",
            "\n",
            "Example Prediction\n",
            "[[7121.899  7733.8965 7303.9473]]\n"
          ],
          "name": "stdout"
        }
      ]
    },
    {
      "cell_type": "markdown",
      "metadata": {
        "colab_type": "text",
        "id": "_xU4yivY45Et"
      },
      "source": [
        "# Model Evaluation\n",
        "\n",
        "Other than the loss metric used above, we can also plot some of the predictions as to get an idea of the model's performance."
      ]
    },
    {
      "cell_type": "code",
      "metadata": {
        "colab_type": "code",
        "id": "YdK4rv_-w98e",
        "colab": {}
      },
      "source": [
        "def plot_preds(i):\n",
        "    \"\"\"\n",
        "    plot the predictions for ith obs in the test set\n",
        "    \"\"\"\n",
        "    colors = sns.color_palette()\n",
        "\n",
        "    # find player's resource id and their data\n",
        "    player_res = test_res[i]\n",
        "    player_data = df_test[df_test.resource_id == player_res]\n",
        "    player_name = player_data.player_name.values[0]\n",
        "    player_name = df_test[df_test.resource_id == player_res].player_name.values[0]\n",
        "\n",
        "    # find their past prices, predictions and true target\n",
        "    i_prices = price_scaler.inverse_transform(test_temp[i][:, -1].reshape(1, -1))\n",
        "    i_preds = price_scaler.inverse_transform(test_preds[i].reshape(1, -1))[0]\n",
        "    i_target = price_scaler.inverse_transform(test_targ[i].reshape(1, -1))\n",
        "    true_prices = np.concatenate([i_prices, i_target], axis=1)[0]\n",
        "    num_prices = len(true_prices)\n",
        "\n",
        "    # find the corresponding x-axis labels\n",
        "    first_d = test_temp[i][:, -2][0] * 365\n",
        "    x_idx = np.arange(0, num_prices, 1) + first_d\n",
        "    x_idx_scaled = x_idx / 365\n",
        "    player_dates = player_data[player_data.days_release.isin(x_idx_scaled)].date.values\n",
        "    # first_date = player_dates[0].astype(datetime)\n",
        "    # first_date = pd.to_datetime(first_date)\n",
        "    first_date = player_dates[0]\n",
        "    first_date = np.datetime64(first_date)\n",
        "    dates = [first_date + np.timedelta64(i, 'D') for i in range(num_prices)]\n",
        "\n",
        "    num_preds = len(i_preds)\n",
        "    pred_idx = dates[-num_preds:]\n",
        "\n",
        "    # create the plot\n",
        "    fig, ax = plt.subplots(1,1, figsize=(6,6))\n",
        "    ax.plot(dates, true_prices, label='True', color=colors[0])\n",
        "    ax.plot(pred_idx, i_preds, label='Prediction', color=colors[1])\n",
        "    ax.tick_params(axis='x', rotation=90)\n",
        "    ax.set_title(player_name)\n",
        "    ax.set_xlabel('Date')\n",
        "    ax.legend()\n",
        "\n",
        "    return i_preds, i_target"
      ],
      "execution_count": 0,
      "outputs": []
    },
    {
      "cell_type": "code",
      "metadata": {
        "colab_type": "code",
        "id": "ZFIw0Gf8zOw4",
        "outputId": "daba1d18-2986-4645-9f83-3967f1518847",
        "colab": {
          "base_uri": "https://localhost:8080/",
          "height": 452
        }
      },
      "source": [
        "i = np.random.choice(len(test_res))\n",
        "i_preds, i_target = plot_preds(i)"
      ],
      "execution_count": 137,
      "outputs": [
        {
          "output_type": "display_data",
          "data": {
            "image/png": "[encoded data removed]",
            "text/plain": [
              "<Figure size 432x432 with 1 Axes>"
            ]
          },
          "metadata": {
            "tags": []
          }
        }
      ]
    },
    {
      "cell_type": "code",
      "metadata": {
        "colab_type": "code",
        "id": "S5ukVTRANBm-",
        "colab": {}
      },
      "source": [
        "model.save('drive/My Drive/Python/Fut/models/model_7_3.h5')"
      ],
      "execution_count": 0,
      "outputs": []
    }
  ]
}