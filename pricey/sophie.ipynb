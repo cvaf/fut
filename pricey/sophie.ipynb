{
 "cells": [
  {
   "cell_type": "code",
   "execution_count": 1,
   "metadata": {
    "colab": {},
    "colab_type": "code",
    "id": "eOOyuQRrG38n"
   },
   "outputs": [],
   "source": [
    "import pandas as pd\n",
    "import numpy as np\n",
    "\n",
    "# other\n",
    "from datetime import datetime, timedelta\n",
    "import warnings\n",
    "warnings.filterwarnings('ignore')\n",
    "pd.set_option('display.max_columns', 100)\n",
    "from time import time\n",
    "\n",
    "# plotting\n",
    "import matplotlib.pyplot as plt\n",
    "import seaborn as sns\n",
    "plt.style.use(['seaborn-muted', 'dark_background'])\n",
    "%matplotlib inline\n",
    "\n",
    "\n",
    "# processing & model selection\n",
    "from sklearn.model_selection import GridSearchCV\n",
    "from sklearn.pipeline import make_pipeline\n",
    "from sklearn.compose import make_column_transformer\n",
    "from sklearn.preprocessing import StandardScaler, OneHotEncoder\n",
    "\n",
    "np.random.seed(410)"
   ]
  },
  {
   "cell_type": "code",
   "execution_count": 2,
   "metadata": {
    "colab": {
     "base_uri": "https://localhost:8080/",
     "height": 51
    },
    "colab_type": "code",
    "id": "Ceu6PRuNxzrL",
    "outputId": "f7e17133-c968-40a4-8fd3-3ae6f7ddeeda"
   },
   "outputs": [
    {
     "name": "stdout",
     "output_type": "stream",
     "text": [
      "2.0.0-rc0\n"
     ]
    }
   ],
   "source": [
    "# models\n",
    "try:\n",
    "    %tensorflow_version 2.x\n",
    "except Exception:\n",
    "    pass\n",
    "  \n",
    "import tensorflow as tf\n",
    "print(tf.__version__)\n",
    "from tensorflow.keras.layers import Dense, Flatten, LSTM, Input, Concatenate, Layer\n",
    "from tensorflow.keras.models import Sequential, Model\n",
    "from tensorflow.keras.optimizers import Adam\n",
    "\n",
    "tf.random.set_seed(42)"
   ]
  },
  {
   "cell_type": "markdown",
   "metadata": {
    "colab_type": "text",
    "id": "15pLDbzKG38q"
   },
   "source": [
    "# Price Prediction\n",
    "\n",
    "**Table of Contents**:\n",
    "1. Feature Engineering\n",
    "2. Transformation\n",
    "3. Modeling"
   ]
  },
  {
   "cell_type": "code",
   "execution_count": 3,
   "metadata": {
    "colab": {},
    "colab_type": "code",
    "id": "wRJZsySsG38s",
    "outputId": "3757f955-597b-4a68-909a-685802ff1246"
   },
   "outputs": [
    {
     "data": {
      "text/html": [
       "<div>\n",
       "<style scoped>\n",
       "    .dataframe tbody tr th:only-of-type {\n",
       "        vertical-align: middle;\n",
       "    }\n",
       "\n",
       "    .dataframe tbody tr th {\n",
       "        vertical-align: top;\n",
       "    }\n",
       "\n",
       "    .dataframe thead th {\n",
       "        text-align: right;\n",
       "    }\n",
       "</style>\n",
       "<table border=\"1\" class=\"dataframe\">\n",
       "  <thead>\n",
       "    <tr style=\"text-align: right;\">\n",
       "      <th></th>\n",
       "      <th>player_name</th>\n",
       "      <th>quality</th>\n",
       "      <th>revision</th>\n",
       "      <th>overall</th>\n",
       "      <th>club</th>\n",
       "      <th>league</th>\n",
       "      <th>nationality</th>\n",
       "      <th>position</th>\n",
       "      <th>age</th>\n",
       "      <th>height</th>\n",
       "      <th>weight</th>\n",
       "      <th>intl_rep</th>\n",
       "      <th>added_date</th>\n",
       "      <th>pace</th>\n",
       "      <th>pace_acceleration</th>\n",
       "      <th>pace_sprint_speed</th>\n",
       "      <th>dribbling</th>\n",
       "      <th>drib_agility</th>\n",
       "      <th>drib_balance</th>\n",
       "      <th>drib_reactions</th>\n",
       "      <th>drib_ball_control</th>\n",
       "      <th>drib_dribbling</th>\n",
       "      <th>drib_composure</th>\n",
       "      <th>shooting</th>\n",
       "      <th>shoot_positioning</th>\n",
       "      <th>shoot_finishing</th>\n",
       "      <th>shoot_shot_power</th>\n",
       "      <th>shoot_long_shots</th>\n",
       "      <th>shoot_volleys</th>\n",
       "      <th>shoot_penalties</th>\n",
       "      <th>passing</th>\n",
       "      <th>pass_vision</th>\n",
       "      <th>pass_crossing</th>\n",
       "      <th>pass_free_kick</th>\n",
       "      <th>pass_short</th>\n",
       "      <th>pass_long</th>\n",
       "      <th>pass_curve</th>\n",
       "      <th>defending</th>\n",
       "      <th>def_interceptions</th>\n",
       "      <th>def_heading</th>\n",
       "      <th>def_marking</th>\n",
       "      <th>def_stand_tackle</th>\n",
       "      <th>def_slid_tackle</th>\n",
       "      <th>physicality</th>\n",
       "      <th>phys_jumping</th>\n",
       "      <th>phys_stamina</th>\n",
       "      <th>phys_strength</th>\n",
       "      <th>phys_aggression</th>\n",
       "      <th>pref_foot</th>\n",
       "      <th>att_workrate</th>\n",
       "      <th>def_workrate</th>\n",
       "      <th>weak_foot</th>\n",
       "      <th>skill_moves</th>\n",
       "      <th>resource_id</th>\n",
       "      <th>num_games</th>\n",
       "      <th>avg_goals</th>\n",
       "      <th>avg_assists</th>\n",
       "      <th>date</th>\n",
       "      <th>price</th>\n",
       "    </tr>\n",
       "  </thead>\n",
       "  <tbody>\n",
       "    <tr>\n",
       "      <th>0</th>\n",
       "      <td>Pelé</td>\n",
       "      <td>Gold - Rare</td>\n",
       "      <td>Icon</td>\n",
       "      <td>98</td>\n",
       "      <td>Icons</td>\n",
       "      <td>Icons</td>\n",
       "      <td>Brazil</td>\n",
       "      <td>CAM</td>\n",
       "      <td>77</td>\n",
       "      <td>173</td>\n",
       "      <td>70</td>\n",
       "      <td>0</td>\n",
       "      <td>2018-09-19</td>\n",
       "      <td>95.0</td>\n",
       "      <td>95</td>\n",
       "      <td>95</td>\n",
       "      <td>96.0</td>\n",
       "      <td>94</td>\n",
       "      <td>93</td>\n",
       "      <td>98</td>\n",
       "      <td>97</td>\n",
       "      <td>96</td>\n",
       "      <td>98</td>\n",
       "      <td>96.0</td>\n",
       "      <td>97</td>\n",
       "      <td>98</td>\n",
       "      <td>94</td>\n",
       "      <td>94</td>\n",
       "      <td>95</td>\n",
       "      <td>93</td>\n",
       "      <td>93.0</td>\n",
       "      <td>97</td>\n",
       "      <td>90</td>\n",
       "      <td>89</td>\n",
       "      <td>96</td>\n",
       "      <td>88</td>\n",
       "      <td>89</td>\n",
       "      <td>60.0</td>\n",
       "      <td>67</td>\n",
       "      <td>94</td>\n",
       "      <td>55</td>\n",
       "      <td>53</td>\n",
       "      <td>49</td>\n",
       "      <td>76.0</td>\n",
       "      <td>88</td>\n",
       "      <td>86</td>\n",
       "      <td>76</td>\n",
       "      <td>59</td>\n",
       "      <td>Right</td>\n",
       "      <td>High</td>\n",
       "      <td>Med</td>\n",
       "      <td>4</td>\n",
       "      <td>5</td>\n",
       "      <td>237067</td>\n",
       "      <td>12,719</td>\n",
       "      <td>0.69</td>\n",
       "      <td>0.41</td>\n",
       "      <td>2018-09-20</td>\n",
       "      <td>0</td>\n",
       "    </tr>\n",
       "    <tr>\n",
       "      <th>1</th>\n",
       "      <td>Pelé</td>\n",
       "      <td>Gold - Rare</td>\n",
       "      <td>Icon</td>\n",
       "      <td>98</td>\n",
       "      <td>Icons</td>\n",
       "      <td>Icons</td>\n",
       "      <td>Brazil</td>\n",
       "      <td>CAM</td>\n",
       "      <td>77</td>\n",
       "      <td>173</td>\n",
       "      <td>70</td>\n",
       "      <td>0</td>\n",
       "      <td>2018-09-19</td>\n",
       "      <td>95.0</td>\n",
       "      <td>95</td>\n",
       "      <td>95</td>\n",
       "      <td>96.0</td>\n",
       "      <td>94</td>\n",
       "      <td>93</td>\n",
       "      <td>98</td>\n",
       "      <td>97</td>\n",
       "      <td>96</td>\n",
       "      <td>98</td>\n",
       "      <td>96.0</td>\n",
       "      <td>97</td>\n",
       "      <td>98</td>\n",
       "      <td>94</td>\n",
       "      <td>94</td>\n",
       "      <td>95</td>\n",
       "      <td>93</td>\n",
       "      <td>93.0</td>\n",
       "      <td>97</td>\n",
       "      <td>90</td>\n",
       "      <td>89</td>\n",
       "      <td>96</td>\n",
       "      <td>88</td>\n",
       "      <td>89</td>\n",
       "      <td>60.0</td>\n",
       "      <td>67</td>\n",
       "      <td>94</td>\n",
       "      <td>55</td>\n",
       "      <td>53</td>\n",
       "      <td>49</td>\n",
       "      <td>76.0</td>\n",
       "      <td>88</td>\n",
       "      <td>86</td>\n",
       "      <td>76</td>\n",
       "      <td>59</td>\n",
       "      <td>Right</td>\n",
       "      <td>High</td>\n",
       "      <td>Med</td>\n",
       "      <td>4</td>\n",
       "      <td>5</td>\n",
       "      <td>237067</td>\n",
       "      <td>12,719</td>\n",
       "      <td>0.69</td>\n",
       "      <td>0.41</td>\n",
       "      <td>2018-09-21</td>\n",
       "      <td>0</td>\n",
       "    </tr>\n",
       "  </tbody>\n",
       "</table>\n",
       "</div>"
      ],
      "text/plain": [
       "  player_name      quality revision  overall   club league nationality  \\\n",
       "0        Pelé  Gold - Rare     Icon       98  Icons  Icons      Brazil   \n",
       "1        Pelé  Gold - Rare     Icon       98  Icons  Icons      Brazil   \n",
       "\n",
       "  position  age  height  weight  intl_rep added_date  pace  pace_acceleration  \\\n",
       "0      CAM   77     173      70         0 2018-09-19  95.0                 95   \n",
       "1      CAM   77     173      70         0 2018-09-19  95.0                 95   \n",
       "\n",
       "   pace_sprint_speed  dribbling  drib_agility  drib_balance  drib_reactions  \\\n",
       "0                 95       96.0            94            93              98   \n",
       "1                 95       96.0            94            93              98   \n",
       "\n",
       "   drib_ball_control  drib_dribbling  drib_composure  shooting  \\\n",
       "0                 97              96              98      96.0   \n",
       "1                 97              96              98      96.0   \n",
       "\n",
       "   shoot_positioning  shoot_finishing  shoot_shot_power  shoot_long_shots  \\\n",
       "0                 97               98                94                94   \n",
       "1                 97               98                94                94   \n",
       "\n",
       "   shoot_volleys  shoot_penalties  passing  pass_vision  pass_crossing  \\\n",
       "0             95               93     93.0           97             90   \n",
       "1             95               93     93.0           97             90   \n",
       "\n",
       "   pass_free_kick  pass_short  pass_long  pass_curve  defending  \\\n",
       "0              89          96         88          89       60.0   \n",
       "1              89          96         88          89       60.0   \n",
       "\n",
       "   def_interceptions  def_heading  def_marking  def_stand_tackle  \\\n",
       "0                 67           94           55                53   \n",
       "1                 67           94           55                53   \n",
       "\n",
       "   def_slid_tackle  physicality  phys_jumping  phys_stamina  phys_strength  \\\n",
       "0               49         76.0            88            86             76   \n",
       "1               49         76.0            88            86             76   \n",
       "\n",
       "   phys_aggression pref_foot att_workrate def_workrate  weak_foot  \\\n",
       "0               59     Right         High          Med          4   \n",
       "1               59     Right         High          Med          4   \n",
       "\n",
       "   skill_moves  resource_id num_games avg_goals avg_assists       date  price  \n",
       "0            5       237067    12,719      0.69        0.41 2018-09-20      0  \n",
       "1            5       237067    12,719      0.69        0.41 2018-09-21      0  "
      ]
     },
     "execution_count": 3,
     "metadata": {},
     "output_type": "execute_result"
    }
   ],
   "source": [
    "df = pd.read_csv('../data/prices_database.csv', index_col='Unnamed: 0', parse_dates=['added_date', 'date'])\n",
    "df.head(2)"
   ]
  },
  {
   "cell_type": "markdown",
   "metadata": {
    "colab_type": "text",
    "id": "-oG-qjBDG38w"
   },
   "source": [
    "# 1. Feature Engineering\n",
    "\n",
    "We need to construct and/or engineer the following features:\n",
    "- days: number of days specific card has been available\n",
    "- weekday: day of the week\n",
    "- gen_pos: general player position - one of: ['defender', 'midfielder', 'forward']\n",
    "- club/league/nationality grouping: group clubs and leagues according to popularity to avoid sparsity. \n",
    "- promo: binary variable indicating whether there was an active promotion.\n",
    "- source: how one can obtain the card: ['base', 'packs', 'loan', 'objective', 'sbc'] - intentional overlap between base and packs\n",
    "- available: binary variable indicating whether the card was obtainable on that day.\n",
    "- days_release: number of days since game release\n",
    "\n",
    "**Days**:"
   ]
  },
  {
   "cell_type": "code",
   "execution_count": 6,
   "metadata": {
    "colab": {},
    "colab_type": "code",
    "id": "k5l2saJTG38w"
   },
   "outputs": [],
   "source": [
    "df['days'] = (df['date'] - df['added_date']).dt.days"
   ]
  },
  {
   "cell_type": "markdown",
   "metadata": {
    "colab_type": "text",
    "id": "qgi6_PzUG38y"
   },
   "source": [
    "Quick to note that some players have prices for the day before they were officially released, implying there's a mistake. Further investigation reveals that these should be offset to the next day instead. "
   ]
  },
  {
   "cell_type": "code",
   "execution_count": 7,
   "metadata": {
    "colab": {},
    "colab_type": "code",
    "id": "DJ9FChKYG38z"
   },
   "outputs": [],
   "source": [
    "offset_resources = df[df.days == -1].resource_id.unique()       # get resource id of users who match this \n",
    "\n",
    "df['date'] = np.where(df.resource_id.isin(offset_resources),    # remap the date variable\n",
    "                      df.date +pd.DateOffset(days=1), df.date)\n",
    "df['days'] = (df.date - df.added_date).dt.days                  # reassign the days variable\n",
    "\n",
    "df = df[df.days >= 0]                                           # remove observations that have days < 0\n",
    "\n",
    "df['days'] = (df.days+1)/365\n",
    "df['days'] = np.log(df.days) - np.log(1-df.days)"
   ]
  },
  {
   "cell_type": "markdown",
   "metadata": {
    "colab_type": "text",
    "id": "zRHUFOceG381"
   },
   "source": [
    "**Weekday**:"
   ]
  },
  {
   "cell_type": "code",
   "execution_count": 8,
   "metadata": {
    "colab": {},
    "colab_type": "code",
    "id": "lo-SPL0KG382"
   },
   "outputs": [],
   "source": [
    "df['weekday'] = df.date.dt.weekday                              # get the day of the week"
   ]
  },
  {
   "cell_type": "markdown",
   "metadata": {
    "colab_type": "text",
    "id": "h_mD_oQfG384"
   },
   "source": [
    "**General Position**:"
   ]
  },
  {
   "cell_type": "code",
   "execution_count": 9,
   "metadata": {
    "colab": {},
    "colab_type": "code",
    "id": "XgAGQJYKG385"
   },
   "outputs": [],
   "source": [
    "for_pos = ['ST', 'CF', 'CAM', 'LW', 'LF', 'LM', 'RW', 'RF', 'RM']\n",
    "mid_pos = ['CM', 'CDM']\n",
    "def_pos = ['LB', 'LWB', 'CB', 'RB', 'RWB']\n",
    "\n",
    "df['gen_pos'] = np.where(df.position.isin(for_pos), 'forward', np.nan)\n",
    "df['gen_pos'] = np.where(df.position.isin(mid_pos), 'midfielder', df.gen_pos)\n",
    "df['gen_pos'] = np.where(df.position.isin(def_pos), 'defender', df.gen_pos)"
   ]
  },
  {
   "cell_type": "markdown",
   "metadata": {
    "colab_type": "text",
    "id": "9Dg9hH6zG387"
   },
   "source": [
    "**Club/League/Nation**:\n",
    "\n",
    "Group all leagues outside of top5 - repeat the same with teams.\n",
    "\n",
    "Nations: Mark the 10 most common nations as 1, others 0"
   ]
  },
  {
   "cell_type": "code",
   "execution_count": 10,
   "metadata": {
    "colab": {},
    "colab_type": "code",
    "id": "4_RCwGhMG388"
   },
   "outputs": [],
   "source": [
    "df = df[df.club != 'Icons']  # drop icons\n",
    "\n",
    "# top 5 leagues\n",
    "t_leagues = ['Premier League', 'Serie A TIM', 'LaLiga Santander', 'Ligue 1 Conforama', 'Bundesliga']\n",
    "df['league'] = np.where(df.league.isin(t_leagues), df.league, 'other')\n",
    "\n",
    "# top clubs\n",
    "t_clubs = ['Manchester United', 'Manchester City', 'Chelsea', 'Liverpool', 'Arsenal', 'Tottenham Hotspur',\n",
    "           'Paris Saint-Germain', 'Juventus', 'Napoli', 'Inter', 'FC Barcelona', 'Real Madrid', 'Atlético Madrid',\n",
    "           'Borussia Dortmund', 'FC Bayern München']\n",
    "df['club'] = np.where(df.club.isin(t_clubs), df.club, 'other')"
   ]
  },
  {
   "cell_type": "code",
   "execution_count": 11,
   "metadata": {
    "colab": {},
    "colab_type": "code",
    "id": "Il1pZWjuG38-"
   },
   "outputs": [],
   "source": [
    "# top nations\n",
    "t_nations = ['Spain', 'France', 'Brazil', 'Germany', 'Argentina', 'England',\n",
    "             'Italy', 'Portugal', 'Holland', 'Belgium']\n",
    "df['nationality'] = np.where(df.nationality.isin(t_nations), df.nationality, 'other')"
   ]
  },
  {
   "cell_type": "markdown",
   "metadata": {
    "colab_type": "text",
    "id": "je_xWLgJG39C"
   },
   "source": [
    "**Promo**:"
   ]
  },
  {
   "cell_type": "code",
   "execution_count": 12,
   "metadata": {
    "colab": {},
    "colab_type": "code",
    "id": "WLotvcHCG39D"
   },
   "outputs": [],
   "source": [
    "promos = [[datetime(2019, 5, 10), datetime(2019, 6, 21)],       # TOTS\n",
    "          [datetime(2019, 4, 5), datetime(2019, 4, 15)],        # icon release\n",
    "          [datetime(2019, 3, 22), datetime(2019, 3, 30)],       # fut bday\n",
    "          [datetime(2019, 3, 8), datetime(2019, 3, 16)],        # carniball\n",
    "          [datetime(2019, 2, 15), datetime(2019, 2, 24)],       # rating refresh\n",
    "          [datetime(2019, 2, 1), datetime(2019, 2, 8)],         # headliners\n",
    "          [datetime(2019, 1, 18), datetime(2019, 1, 25)],       # ffs\n",
    "          [datetime(2019, 1, 7), datetime(2019, 1, 14)],        # TOTY\n",
    "          [datetime(2018, 12, 14), datetime(2018, 12, 24)],     # futmas\n",
    "          [datetime(2018, 12, 7), datetime(2018, 12, 14)],      # totgs\n",
    "          [datetime(2018, 11, 23), datetime(2018, 11, 26)],     # black friday\n",
    "          [datetime(2018, 11, 9), datetime(2018, 11, 16)],      # rttf\n",
    "          [datetime(2018, 10, 19), datetime(2018, 10, 26)]]     # halloween\n",
    "\n",
    "def promo_assignment(ds):\n",
    "    date = pd.to_datetime(ds)\n",
    "    promo = 0\n",
    "    for p in promos:\n",
    "        if (p[0] <= date) & (p[1] >= date):\n",
    "            promo = 1\n",
    "            break\n",
    "    return promo\n",
    "\n",
    "df['promo'] = df['date'].apply(promo_assignment)                # apply the promo assignment"
   ]
  },
  {
   "cell_type": "markdown",
   "metadata": {
    "colab_type": "text",
    "id": "WytuXD89G39F"
   },
   "source": [
    "**Card Source**:"
   ]
  },
  {
   "cell_type": "code",
   "execution_count": 13,
   "metadata": {
    "colab": {},
    "colab_type": "code",
    "id": "qEsVtIPjG39G"
   },
   "outputs": [],
   "source": [
    "df.revision.fillna('MLS POTM', inplace=True)\n",
    "\n",
    "df['source'] = 'packs'\n",
    "\n",
    "# base cards\n",
    "base = ['Normal', 'Winter Refresh']\n",
    "df['source'] = np.where(df.revision.isin(base), 'packs', df.source)\n",
    "\n",
    "# sbc cards\n",
    "sbc = ['SBC', 'POTM']\n",
    "df['source'] = np.where(df.revision.apply(lambda x: any(i.lower() in x.lower() for i in sbc)), 'sbc', df.source)\n",
    "\n",
    "# loan cards\n",
    "df['source'] = np.where(df.revision.str.contains('Loan'), 'loan', df.source) \n",
    "df = df[df.source != 'loan'] # remove loans\n",
    "\n",
    "# objective cards\n",
    "df['source'] = np.where(df.revision.str.contains('Ob'), 'objective', df.source)\n",
    "\n",
    "\n",
    "# overwrite source for cards that were both objectives and in packs (TOTS Rodri)\n",
    "resources = df[df.price>0].resource_id.unique()\n",
    "df['source'] = np.where(df.resource_id.isin(resources), 'packs', df.source)"
   ]
  },
  {
   "cell_type": "markdown",
   "metadata": {
    "colab_type": "text",
    "id": "Iwkqxzp4G39I"
   },
   "source": [
    "**Availability**:\n",
    "- Pack cards: will be labeled as available for a week after being added to the database. This isn't always accurate but an overall approximation.\n",
    "- SBC: Availability will also be set for a week - again, an approximation. \n",
    "- Objectives: Weekly availability\n",
    "- Winter Upgrades + Base Cards: Available throughout except periods where they have special cards in packs. Winter upgrades replace base cards. "
   ]
  },
  {
   "cell_type": "code",
   "execution_count": 14,
   "metadata": {
    "colab": {},
    "colab_type": "code",
    "id": "WoTIyrMQG39J"
   },
   "outputs": [],
   "source": [
    "df['available'] = np.nan\n",
    "\n",
    "# special cards in packs, sbcs and objectives\n",
    "is_special = ((df.source == 'packs') | (df.source == 'sbc') | (df.source == 'objective'))\n",
    "is_available = (df.date <= (df.added_date + pd.DateOffset(7)))\n",
    "\n",
    "df['available'] = np.where(is_special & is_available, 1, df.available)\n",
    "\n",
    "# create a cross product to find the availability of base cards from special pack cards\n",
    "base = df[df.source == 'base'][['player_name', 'age', 'height', 'weight', 'intl_rep', 'date', 'added_date', 'available', 'resource_id']]\n",
    "pack = df[df.source == 'packs'][['player_name', 'age', 'height', 'weight', 'intl_rep', 'date', 'added_date', 'available']]\n",
    "overlap = base.merge(pack, on=['player_name', 'age', 'height', 'weight', 'intl_rep', 'date'], how='inner', suffixes=('', '_special'))\n",
    "\n",
    "overlap['available'] = np.where(overlap.available_special == 1, 0, 1)\n",
    "\n",
    "# group by to handle multiple special card instances\n",
    "overlap = overlap.groupby(['player_name', 'age', 'height', 'weight', 'intl_rep', 'date', 'added_date', 'resource_id']).available.min().reset_index()\n",
    "\n",
    "df_ = df.merge(overlap, on=['date', 'resource_id' ,'added_date', 'player_name'], how='left', suffixes=('', '_overlap'))\n",
    "\n",
    "df['available'] = np.where(df.source == 'base', df_.available_overlap, df.available)          # update the availability of base cards that had special cards at some point\n",
    "df['available'] = np.where((df.source == 'base') & (df.available.isnull()), 1, df.available)  # update the availability of the rest of the base cards\n",
    "df.available.fillna(0, inplace=True)                                                          # update the availability of the rest of the cards"
   ]
  },
  {
   "cell_type": "markdown",
   "metadata": {
    "colab_type": "text",
    "id": "KO80CDJaG39K"
   },
   "source": [
    "**Days Since Release**:"
   ]
  },
  {
   "cell_type": "code",
   "execution_count": 15,
   "metadata": {
    "colab": {},
    "colab_type": "code",
    "id": "L-Fiw_GsG39L"
   },
   "outputs": [],
   "source": [
    "df['days_release'] = (df.date - df.date.min()).dt.days + 1\n",
    "df['days_release'] = df.days_release / 365\n",
    "df['days_release'] = np.log(df.days_release) - np.log(1-df.days_release)"
   ]
  },
  {
   "cell_type": "markdown",
   "metadata": {
    "colab_type": "text",
    "id": "uUX_o1f5G39S"
   },
   "source": [
    "**PGP Statistics**:"
   ]
  },
  {
   "cell_type": "code",
   "execution_count": 16,
   "metadata": {
    "colab": {},
    "colab_type": "code",
    "id": "wlcP57BTG39T"
   },
   "outputs": [],
   "source": [
    "df['avg_goals'] = pd.to_numeric(df.avg_goals.replace('-', 0))\n",
    "df['avg_assists'] = pd.to_numeric(df.avg_assists.replace('-', 0))"
   ]
  },
  {
   "cell_type": "markdown",
   "metadata": {},
   "source": [
    "**Relative Price**:"
   ]
  },
  {
   "cell_type": "code",
   "execution_count": 18,
   "metadata": {},
   "outputs": [],
   "source": [
    "df_ = df.shift(1)\n",
    "df['relative_price'] = np.where(df.resource_id == df_.resource_id, df.price/df_.price, 'first')\n",
    "df = df[df.relative_price!='first']"
   ]
  },
  {
   "cell_type": "markdown",
   "metadata": {
    "colab_type": "text",
    "id": "NQNlWWAaG39Y"
   },
   "source": [
    "**Narrow selection and projection**:\n",
    "\n",
    "We don't need all the remaining columns, so we narrow down our projection before proceeding."
   ]
  },
  {
   "cell_type": "code",
   "execution_count": 20,
   "metadata": {
    "colab": {},
    "colab_type": "code",
    "id": "NrAhd5VmG39a"
   },
   "outputs": [],
   "source": [
    "drop_cols = ['quality', 'revision', 'age', 'pace', 'pace_acceleration', 'pace_sprint_speed', 'drib_agility', 'drib_balance',\n",
    "             'drib_reactions', 'drib_ball_control', 'drib_dribbling', 'shoot_positioning', 'shoot_finishing', 'shoot_shot_power',\n",
    "             'shoot_long_shots', 'shoot_volleys', 'shoot_penalties', 'pass_vision', 'pass_crossing', 'pass_free_kick', 'pass_short',\n",
    "             'pass_long', 'pass_curve', 'def_interceptions', 'def_heading', 'def_marking', 'def_stand_tackle', 'def_slid_tackle', \n",
    "             'phys_jumping', 'phys_strength', 'phys_aggression', 'pref_foot', 'num_games', 'added_date', 'position']\n",
    "df.drop(drop_cols, axis=1, inplace=True)"
   ]
  },
  {
   "cell_type": "markdown",
   "metadata": {
    "colab_type": "text",
    "id": "Zv-7Oa6DG39d"
   },
   "source": [
    "For the purpose of our project, we remove players with 0 target and only keep those with a rating of 81 or greater. "
   ]
  },
  {
   "cell_type": "code",
   "execution_count": 21,
   "metadata": {
    "colab": {},
    "colab_type": "code",
    "id": "1Rv7Q7SJG39f",
    "outputId": "a29e16b0-dbcf-41f0-fb15-622b228b8aee"
   },
   "outputs": [
    {
     "data": {
      "text/html": [
       "<div>\n",
       "<style scoped>\n",
       "    .dataframe tbody tr th:only-of-type {\n",
       "        vertical-align: middle;\n",
       "    }\n",
       "\n",
       "    .dataframe tbody tr th {\n",
       "        vertical-align: top;\n",
       "    }\n",
       "\n",
       "    .dataframe thead th {\n",
       "        text-align: right;\n",
       "    }\n",
       "</style>\n",
       "<table border=\"1\" class=\"dataframe\">\n",
       "  <thead>\n",
       "    <tr style=\"text-align: right;\">\n",
       "      <th></th>\n",
       "      <th>player_name</th>\n",
       "      <th>overall</th>\n",
       "      <th>club</th>\n",
       "      <th>league</th>\n",
       "      <th>nationality</th>\n",
       "      <th>height</th>\n",
       "      <th>weight</th>\n",
       "      <th>intl_rep</th>\n",
       "      <th>dribbling</th>\n",
       "      <th>drib_composure</th>\n",
       "      <th>shooting</th>\n",
       "      <th>passing</th>\n",
       "      <th>defending</th>\n",
       "      <th>physicality</th>\n",
       "      <th>phys_stamina</th>\n",
       "      <th>att_workrate</th>\n",
       "      <th>def_workrate</th>\n",
       "      <th>weak_foot</th>\n",
       "      <th>skill_moves</th>\n",
       "      <th>resource_id</th>\n",
       "      <th>avg_goals</th>\n",
       "      <th>avg_assists</th>\n",
       "      <th>date</th>\n",
       "      <th>price</th>\n",
       "      <th>days</th>\n",
       "      <th>weekday</th>\n",
       "      <th>gen_pos</th>\n",
       "      <th>promo</th>\n",
       "      <th>source</th>\n",
       "      <th>available</th>\n",
       "      <th>days_release</th>\n",
       "      <th>relative_price</th>\n",
       "    </tr>\n",
       "  </thead>\n",
       "  <tbody>\n",
       "    <tr>\n",
       "      <th>0</th>\n",
       "      <td>Ronaldo</td>\n",
       "      <td>94</td>\n",
       "      <td>Juventus</td>\n",
       "      <td>Serie A TIM</td>\n",
       "      <td>Portugal</td>\n",
       "      <td>187</td>\n",
       "      <td>83</td>\n",
       "      <td>5</td>\n",
       "      <td>90.0</td>\n",
       "      <td>95</td>\n",
       "      <td>93.0</td>\n",
       "      <td>81.0</td>\n",
       "      <td>35.0</td>\n",
       "      <td>79.0</td>\n",
       "      <td>88</td>\n",
       "      <td>High</td>\n",
       "      <td>Low</td>\n",
       "      <td>4</td>\n",
       "      <td>5</td>\n",
       "      <td>20801</td>\n",
       "      <td>1.0</td>\n",
       "      <td>0.36</td>\n",
       "      <td>2018-09-21</td>\n",
       "      <td>1322625</td>\n",
       "      <td>-4.793032</td>\n",
       "      <td>4</td>\n",
       "      <td>forward</td>\n",
       "      <td>0</td>\n",
       "      <td>packs</td>\n",
       "      <td>1.0</td>\n",
       "      <td>-5.201256</td>\n",
       "      <td>0.9677741542014258</td>\n",
       "    </tr>\n",
       "    <tr>\n",
       "      <th>1</th>\n",
       "      <td>Ronaldo</td>\n",
       "      <td>94</td>\n",
       "      <td>Juventus</td>\n",
       "      <td>Serie A TIM</td>\n",
       "      <td>Portugal</td>\n",
       "      <td>187</td>\n",
       "      <td>83</td>\n",
       "      <td>5</td>\n",
       "      <td>90.0</td>\n",
       "      <td>95</td>\n",
       "      <td>93.0</td>\n",
       "      <td>81.0</td>\n",
       "      <td>35.0</td>\n",
       "      <td>79.0</td>\n",
       "      <td>88</td>\n",
       "      <td>High</td>\n",
       "      <td>Low</td>\n",
       "      <td>4</td>\n",
       "      <td>5</td>\n",
       "      <td>20801</td>\n",
       "      <td>1.0</td>\n",
       "      <td>0.36</td>\n",
       "      <td>2018-09-22</td>\n",
       "      <td>1720925</td>\n",
       "      <td>-4.502584</td>\n",
       "      <td>5</td>\n",
       "      <td>forward</td>\n",
       "      <td>0</td>\n",
       "      <td>packs</td>\n",
       "      <td>1.0</td>\n",
       "      <td>-4.793032</td>\n",
       "      <td>1.3011435592099045</td>\n",
       "    </tr>\n",
       "  </tbody>\n",
       "</table>\n",
       "</div>"
      ],
      "text/plain": [
       "  player_name  overall      club       league nationality  height  weight  \\\n",
       "0     Ronaldo       94  Juventus  Serie A TIM    Portugal     187      83   \n",
       "1     Ronaldo       94  Juventus  Serie A TIM    Portugal     187      83   \n",
       "\n",
       "   intl_rep  dribbling  drib_composure  shooting  passing  defending  \\\n",
       "0         5       90.0              95      93.0     81.0       35.0   \n",
       "1         5       90.0              95      93.0     81.0       35.0   \n",
       "\n",
       "   physicality  phys_stamina att_workrate def_workrate  weak_foot  \\\n",
       "0         79.0            88         High          Low          4   \n",
       "1         79.0            88         High          Low          4   \n",
       "\n",
       "   skill_moves  resource_id  avg_goals  avg_assists       date    price  \\\n",
       "0            5        20801        1.0         0.36 2018-09-21  1322625   \n",
       "1            5        20801        1.0         0.36 2018-09-22  1720925   \n",
       "\n",
       "       days  weekday  gen_pos  promo source  available  days_release  \\\n",
       "0 -4.793032        4  forward      0  packs        1.0     -5.201256   \n",
       "1 -4.502584        5  forward      0  packs        1.0     -4.793032   \n",
       "\n",
       "       relative_price  \n",
       "0  0.9677741542014258  \n",
       "1  1.3011435592099045  "
      ]
     },
     "execution_count": 21,
     "metadata": {},
     "output_type": "execute_result"
    }
   ],
   "source": [
    "df = df[(df.price!=0) & (df.overall>80)].reset_index(drop=True)\n",
    "df.head(2)"
   ]
  },
  {
   "cell_type": "code",
   "execution_count": 22,
   "metadata": {},
   "outputs": [
    {
     "data": {
      "image/png": "[encoded data removed]",
      "text/plain": [
       "<Figure size 720x720 with 1 Axes>"
      ]
     },
     "metadata": {
      "needs_background": "dark"
     },
     "output_type": "display_data"
    }
   ],
   "source": [
    "fig, ax = plt.subplots(1,1, figsize=(10,10))\n",
    "sns.distplot(df.price.values, ax=ax)\n",
    "ax.set_title('Price Distribution')\n",
    "plt.tight_layout(); plt.show()"
   ]
  },
  {
   "cell_type": "code",
   "execution_count": 23,
   "metadata": {},
   "outputs": [],
   "source": [
    "# eliminating \"expensive\" players -- outliers basically\n",
    "expensive_resources = df[df.price>300000].resource_id.unique()\n",
    "df=df[~df.resource_id.isin(expensive_resources)]"
   ]
  },
  {
   "cell_type": "code",
   "execution_count": 24,
   "metadata": {
    "colab": {},
    "colab_type": "code",
    "id": "ezgPpmfdxXab"
   },
   "outputs": [],
   "source": [
    "df.to_pickle('../data/sophie_dataset.pkl')"
   ]
  },
  {
   "cell_type": "markdown",
   "metadata": {
    "colab_type": "text",
    "id": "e-KtQ86CG39y"
   },
   "source": [
    "# 2. Processing\n",
    "\n",
    "Due to the complex nature of our dataset, where some of its attributes are temporal and some are not, our model will consist of two separate inputs to account for this. "
   ]
  },
  {
   "cell_type": "code",
   "execution_count": 3,
   "metadata": {
    "colab": {
     "base_uri": "https://localhost:8080/",
     "height": 122
    },
    "colab_type": "code",
    "id": "3s52PyN2IJqQ",
    "outputId": "38211722-e38e-4f70-e4d7-53751093c311"
   },
   "outputs": [
    {
     "name": "stdout",
     "output_type": "stream",
     "text": [
      "Go to this URL in a browser: https://accounts.google.com/o/oauth2/auth?client_id=947318989803-6bn6qk8qdgf4n4g3pfee6491hc0brc4i.apps.googleusercontent.com&redirect_uri=urn%3Aietf%3Awg%3Aoauth%3A2.0%3Aoob&scope=email%20https%3A%2F%2Fwww.googleapis.com%2Fauth%2Fdocs.test%20https%3A%2F%2Fwww.googleapis.com%2Fauth%2Fdrive%20https%3A%2F%2Fwww.googleapis.com%2Fauth%2Fdrive.photos.readonly%20https%3A%2F%2Fwww.googleapis.com%2Fauth%2Fpeopleapi.readonly&response_type=code\n",
      "\n",
      "Enter your authorization code:\n",
      "··········\n",
      "Mounted at /content/drive\n"
     ]
    }
   ],
   "source": [
    "from google.colab import drive\n",
    "drive.mount('/content/drive', force_remount=True)"
   ]
  },
  {
   "cell_type": "code",
   "execution_count": null,
   "metadata": {
    "colab": {},
    "colab_type": "code",
    "id": "wjCfk32WIpFM"
   },
   "outputs": [],
   "source": [
    "df = pd.read_pickle('drive/My Drive/Python/Fut/sophie_dataset.pkl')"
   ]
  },
  {
   "cell_type": "code",
   "execution_count": null,
   "metadata": {
    "colab": {},
    "colab_type": "code",
    "id": "2RjaNNKcG39z"
   },
   "outputs": [],
   "source": [
    "df = pd.read_pickle('../data/sophie_dataset.pkl')"
   ]
  },
  {
   "cell_type": "code",
   "execution_count": 5,
   "metadata": {
    "colab": {
     "base_uri": "https://localhost:8080/",
     "height": 51
    },
    "colab_type": "code",
    "id": "SgLE_8j2xXan",
    "outputId": "beeec154-1704-456b-d1c3-50f57027f76c"
   },
   "outputs": [
    {
     "name": "stdout",
     "output_type": "stream",
     "text": [
      "141108 datapoints in Training Set\n",
      "139178 datapoints in Test Set\n"
     ]
    }
   ],
   "source": [
    "test_split = datetime(2019, 3, 1)\n",
    "df_train = df[df.date<test_split]\n",
    "df_test = df[df.date>=test_split]\n",
    "\n",
    "print('{} datapoints in Training Set\\n{} datapoints in Test Set'.format(df_train.shape[0], df_test.shape[0]))"
   ]
  },
  {
   "cell_type": "code",
   "execution_count": null,
   "metadata": {
    "colab": {},
    "colab_type": "code",
    "id": "gUQhwrcJxXaq"
   },
   "outputs": [],
   "source": [
    "drop_cols = ['player_name', 'resource_id', 'date']\n",
    "temp_cols = ['promo', 'available', 'price']\n",
    "attr_cols = [c for c in df.columns if c not in (drop_cols + temp_cols)]\n",
    "target = 'price'"
   ]
  },
  {
   "cell_type": "markdown",
   "metadata": {
    "colab_type": "text",
    "id": "SQ9eeZA1xXar"
   },
   "source": [
    "### Temporal Transformation"
   ]
  },
  {
   "cell_type": "code",
   "execution_count": null,
   "metadata": {
    "colab": {},
    "colab_type": "code",
    "id": "UwQ7036VxXas"
   },
   "outputs": [],
   "source": [
    "df_train_temp = df_train.groupby(['resource_id', 'date'])[temp_cols].first().reset_index(1)\n",
    "df_test_temp = df_test.groupby(['resource_id', 'date'])[temp_cols].first().reset_index(1)\n",
    "\n",
    "# # scale and transform numerical vars\n",
    "# temp_num = ['days', 'days_release', 'weekday']\n",
    "# temp_ss = StandardScaler().fit(df_train_temp[temp_num])\n",
    "# df_train_temp[temp_num] = temp_ss.transform(df_train_temp[temp_num])\n",
    "# df_test_temp[temp_num] = temp_ss.transform(df_test_temp[temp_num])"
   ]
  },
  {
   "cell_type": "code",
   "execution_count": 8,
   "metadata": {
    "colab": {
     "base_uri": "https://localhost:8080/",
     "height": 173
    },
    "colab_type": "code",
    "id": "CABkcHmXxXat",
    "outputId": "56fb4a47-eff4-4f85-c7c0-75a0f6fbee2d"
   },
   "outputs": [
    {
     "data": {
      "text/html": [
       "<div>\n",
       "<style scoped>\n",
       "    .dataframe tbody tr th:only-of-type {\n",
       "        vertical-align: middle;\n",
       "    }\n",
       "\n",
       "    .dataframe tbody tr th {\n",
       "        vertical-align: top;\n",
       "    }\n",
       "\n",
       "    .dataframe thead th {\n",
       "        text-align: right;\n",
       "    }\n",
       "</style>\n",
       "<table border=\"1\" class=\"dataframe\">\n",
       "  <thead>\n",
       "    <tr style=\"text-align: right;\">\n",
       "      <th></th>\n",
       "      <th>date</th>\n",
       "      <th>promo</th>\n",
       "      <th>available</th>\n",
       "      <th>price</th>\n",
       "    </tr>\n",
       "    <tr>\n",
       "      <th>resource_id</th>\n",
       "      <th></th>\n",
       "      <th></th>\n",
       "      <th></th>\n",
       "      <th></th>\n",
       "    </tr>\n",
       "  </thead>\n",
       "  <tbody>\n",
       "    <tr>\n",
       "      <th>41</th>\n",
       "      <td>2018-09-20</td>\n",
       "      <td>0</td>\n",
       "      <td>1.0</td>\n",
       "      <td>7033</td>\n",
       "    </tr>\n",
       "    <tr>\n",
       "      <th>41</th>\n",
       "      <td>2018-09-21</td>\n",
       "      <td>0</td>\n",
       "      <td>1.0</td>\n",
       "      <td>7807</td>\n",
       "    </tr>\n",
       "    <tr>\n",
       "      <th>41</th>\n",
       "      <td>2018-09-22</td>\n",
       "      <td>0</td>\n",
       "      <td>1.0</td>\n",
       "      <td>8714</td>\n",
       "    </tr>\n",
       "  </tbody>\n",
       "</table>\n",
       "</div>"
      ],
      "text/plain": [
       "                  date  promo  available  price\n",
       "resource_id                                    \n",
       "41          2018-09-20      0        1.0   7033\n",
       "41          2018-09-21      0        1.0   7807\n",
       "41          2018-09-22      0        1.0   8714"
      ]
     },
     "execution_count": 8,
     "metadata": {
      "tags": []
     },
     "output_type": "execute_result"
    }
   ],
   "source": [
    "df_train_temp.head(3)"
   ]
  },
  {
   "cell_type": "code",
   "execution_count": null,
   "metadata": {
    "colab": {},
    "colab_type": "code",
    "id": "F8wNy6NAxXav"
   },
   "outputs": [],
   "source": [
    "assert df_train_temp.shape[1] == df_test_temp.shape[1]"
   ]
  },
  {
   "cell_type": "markdown",
   "metadata": {
    "colab_type": "text",
    "id": "akndXpR8xXax"
   },
   "source": [
    "### Attributes Transformation"
   ]
  },
  {
   "cell_type": "code",
   "execution_count": null,
   "metadata": {
    "colab": {},
    "colab_type": "code",
    "id": "ilaoOsSCxXax"
   },
   "outputs": [],
   "source": [
    "df_train_attr = df_train.groupby('resource_id')[attr_cols].first()\n",
    "df_test_attr = df_test.groupby('resource_id')[attr_cols].first()"
   ]
  },
  {
   "cell_type": "code",
   "execution_count": null,
   "metadata": {
    "colab": {},
    "colab_type": "code",
    "id": "o5Gnzq7ZxXa4"
   },
   "outputs": [],
   "source": [
    "attr_cat = ['club', 'league', 'nationality', 'att_workrate', 'def_workrate', 'gen_pos', 'source', 'price']\n",
    "attr_num = [v for v in df_train_attr.columns if v not in attr_cat] + ['price']\n",
    "num_mask = df_train_attr.columns.isin(attr_num)\n",
    "\n",
    "ct = make_column_transformer((StandardScaler(), num_mask), (OneHotEncoder(), ~num_mask))\n",
    "attr_ct = ct.fit(df_train_attr)\n",
    "\n",
    "def attr_transform(df):\n",
    "    resources = df.index.values\n",
    "    cols = attr_num + attr_ct.named_transformers_['onehotencoder'].get_feature_names().tolist()\n",
    "    data = attr_ct.transform(df)\n",
    "    \n",
    "    return pd.DataFrame(data=data, columns=cols, index=resources)\n",
    "\n",
    "df_train_attr = attr_transform(df_train_attr)\n",
    "df_test_attr = attr_transform(df_test_attr)"
   ]
  },
  {
   "cell_type": "code",
   "execution_count": 12,
   "metadata": {
    "colab": {
     "base_uri": "https://localhost:8080/",
     "height": 196
    },
    "colab_type": "code",
    "id": "Ezz5JdpfxXa6",
    "outputId": "6ce335f3-dbe7-4d51-d82b-0989f89c0b4b"
   },
   "outputs": [
    {
     "data": {
      "text/html": [
       "<div>\n",
       "<style scoped>\n",
       "    .dataframe tbody tr th:only-of-type {\n",
       "        vertical-align: middle;\n",
       "    }\n",
       "\n",
       "    .dataframe tbody tr th {\n",
       "        vertical-align: top;\n",
       "    }\n",
       "\n",
       "    .dataframe thead th {\n",
       "        text-align: right;\n",
       "    }\n",
       "</style>\n",
       "<table border=\"1\" class=\"dataframe\">\n",
       "  <thead>\n",
       "    <tr style=\"text-align: right;\">\n",
       "      <th></th>\n",
       "      <th>overall</th>\n",
       "      <th>height</th>\n",
       "      <th>weight</th>\n",
       "      <th>intl_rep</th>\n",
       "      <th>dribbling</th>\n",
       "      <th>drib_composure</th>\n",
       "      <th>shooting</th>\n",
       "      <th>passing</th>\n",
       "      <th>defending</th>\n",
       "      <th>physicality</th>\n",
       "      <th>phys_stamina</th>\n",
       "      <th>weak_foot</th>\n",
       "      <th>skill_moves</th>\n",
       "      <th>avg_goals</th>\n",
       "      <th>avg_assists</th>\n",
       "      <th>days</th>\n",
       "      <th>weekday</th>\n",
       "      <th>days_release</th>\n",
       "      <th>x0_Arsenal</th>\n",
       "      <th>x0_Atlético Madrid</th>\n",
       "      <th>x0_Borussia Dortmund</th>\n",
       "      <th>x0_Chelsea</th>\n",
       "      <th>x0_FC Barcelona</th>\n",
       "      <th>x0_FC Bayern München</th>\n",
       "      <th>x0_Inter</th>\n",
       "      <th>x0_Juventus</th>\n",
       "      <th>x0_Liverpool</th>\n",
       "      <th>x0_Manchester City</th>\n",
       "      <th>x0_Manchester United</th>\n",
       "      <th>x0_Napoli</th>\n",
       "      <th>x0_Paris Saint-Germain</th>\n",
       "      <th>x0_Real Madrid</th>\n",
       "      <th>x0_Tottenham Hotspur</th>\n",
       "      <th>x0_other</th>\n",
       "      <th>x1_Bundesliga</th>\n",
       "      <th>x1_LaLiga Santander</th>\n",
       "      <th>x1_Ligue 1 Conforama</th>\n",
       "      <th>x1_Premier League</th>\n",
       "      <th>x1_Serie A TIM</th>\n",
       "      <th>x1_other</th>\n",
       "      <th>x2_Argentina</th>\n",
       "      <th>x2_Belgium</th>\n",
       "      <th>x2_Brazil</th>\n",
       "      <th>x2_England</th>\n",
       "      <th>x2_France</th>\n",
       "      <th>x2_Germany</th>\n",
       "      <th>x2_Holland</th>\n",
       "      <th>x2_Italy</th>\n",
       "      <th>x2_Portugal</th>\n",
       "      <th>x2_Spain</th>\n",
       "      <th>x2_other</th>\n",
       "      <th>x3_High</th>\n",
       "      <th>x3_Low</th>\n",
       "      <th>x3_Med</th>\n",
       "      <th>x4_High</th>\n",
       "      <th>x4_Low</th>\n",
       "      <th>x4_Med</th>\n",
       "      <th>x5_defender</th>\n",
       "      <th>x5_forward</th>\n",
       "      <th>x5_midfielder</th>\n",
       "      <th>x6_packs</th>\n",
       "    </tr>\n",
       "  </thead>\n",
       "  <tbody>\n",
       "    <tr>\n",
       "      <th>41</th>\n",
       "      <td>0.847095</td>\n",
       "      <td>-1.532537</td>\n",
       "      <td>-1.121665</td>\n",
       "      <td>1.580269</td>\n",
       "      <td>1.194050</td>\n",
       "      <td>1.422721</td>\n",
       "      <td>-0.131852</td>\n",
       "      <td>1.269061</td>\n",
       "      <td>-0.032372</td>\n",
       "      <td>-2.009995</td>\n",
       "      <td>-2.642926</td>\n",
       "      <td>0.827113</td>\n",
       "      <td>0.747159</td>\n",
       "      <td>-0.426140</td>\n",
       "      <td>-0.005508</td>\n",
       "      <td>-0.079381</td>\n",
       "      <td>0.514587</td>\n",
       "      <td>-1.337548</td>\n",
       "      <td>0.0</td>\n",
       "      <td>0.0</td>\n",
       "      <td>0.0</td>\n",
       "      <td>0.0</td>\n",
       "      <td>0.0</td>\n",
       "      <td>0.0</td>\n",
       "      <td>0.0</td>\n",
       "      <td>0.0</td>\n",
       "      <td>0.0</td>\n",
       "      <td>0.0</td>\n",
       "      <td>0.0</td>\n",
       "      <td>0.0</td>\n",
       "      <td>0.0</td>\n",
       "      <td>0.0</td>\n",
       "      <td>0.0</td>\n",
       "      <td>1.0</td>\n",
       "      <td>0.0</td>\n",
       "      <td>0.0</td>\n",
       "      <td>0.0</td>\n",
       "      <td>0.0</td>\n",
       "      <td>0.0</td>\n",
       "      <td>1.0</td>\n",
       "      <td>0.0</td>\n",
       "      <td>0.0</td>\n",
       "      <td>0.0</td>\n",
       "      <td>0.0</td>\n",
       "      <td>0.0</td>\n",
       "      <td>0.0</td>\n",
       "      <td>0.0</td>\n",
       "      <td>0.0</td>\n",
       "      <td>0.0</td>\n",
       "      <td>1.0</td>\n",
       "      <td>0.0</td>\n",
       "      <td>1.0</td>\n",
       "      <td>0.0</td>\n",
       "      <td>0.0</td>\n",
       "      <td>0.0</td>\n",
       "      <td>0.0</td>\n",
       "      <td>1.0</td>\n",
       "      <td>0.0</td>\n",
       "      <td>0.0</td>\n",
       "      <td>1.0</td>\n",
       "      <td>1.0</td>\n",
       "    </tr>\n",
       "    <tr>\n",
       "      <th>9014</th>\n",
       "      <td>0.216404</td>\n",
       "      <td>-0.202579</td>\n",
       "      <td>0.518766</td>\n",
       "      <td>1.580269</td>\n",
       "      <td>0.962704</td>\n",
       "      <td>0.760507</td>\n",
       "      <td>0.912044</td>\n",
       "      <td>0.601925</td>\n",
       "      <td>-1.473020</td>\n",
       "      <td>-1.434772</td>\n",
       "      <td>-1.642540</td>\n",
       "      <td>-1.864252</td>\n",
       "      <td>0.747159</td>\n",
       "      <td>0.068773</td>\n",
       "      <td>0.165640</td>\n",
       "      <td>-0.079381</td>\n",
       "      <td>0.514587</td>\n",
       "      <td>-1.337548</td>\n",
       "      <td>0.0</td>\n",
       "      <td>0.0</td>\n",
       "      <td>0.0</td>\n",
       "      <td>0.0</td>\n",
       "      <td>0.0</td>\n",
       "      <td>1.0</td>\n",
       "      <td>0.0</td>\n",
       "      <td>0.0</td>\n",
       "      <td>0.0</td>\n",
       "      <td>0.0</td>\n",
       "      <td>0.0</td>\n",
       "      <td>0.0</td>\n",
       "      <td>0.0</td>\n",
       "      <td>0.0</td>\n",
       "      <td>0.0</td>\n",
       "      <td>0.0</td>\n",
       "      <td>1.0</td>\n",
       "      <td>0.0</td>\n",
       "      <td>0.0</td>\n",
       "      <td>0.0</td>\n",
       "      <td>0.0</td>\n",
       "      <td>0.0</td>\n",
       "      <td>0.0</td>\n",
       "      <td>0.0</td>\n",
       "      <td>0.0</td>\n",
       "      <td>0.0</td>\n",
       "      <td>0.0</td>\n",
       "      <td>0.0</td>\n",
       "      <td>1.0</td>\n",
       "      <td>0.0</td>\n",
       "      <td>0.0</td>\n",
       "      <td>0.0</td>\n",
       "      <td>0.0</td>\n",
       "      <td>1.0</td>\n",
       "      <td>0.0</td>\n",
       "      <td>0.0</td>\n",
       "      <td>0.0</td>\n",
       "      <td>1.0</td>\n",
       "      <td>0.0</td>\n",
       "      <td>0.0</td>\n",
       "      <td>1.0</td>\n",
       "      <td>0.0</td>\n",
       "      <td>1.0</td>\n",
       "    </tr>\n",
       "    <tr>\n",
       "      <th>20775</th>\n",
       "      <td>-0.098942</td>\n",
       "      <td>-0.941444</td>\n",
       "      <td>-1.258368</td>\n",
       "      <td>0.518499</td>\n",
       "      <td>0.962704</td>\n",
       "      <td>-0.067260</td>\n",
       "      <td>0.146520</td>\n",
       "      <td>0.713114</td>\n",
       "      <td>-1.870440</td>\n",
       "      <td>-1.434772</td>\n",
       "      <td>-1.531386</td>\n",
       "      <td>0.827113</td>\n",
       "      <td>1.892312</td>\n",
       "      <td>-0.156188</td>\n",
       "      <td>0.251213</td>\n",
       "      <td>-0.079381</td>\n",
       "      <td>0.514587</td>\n",
       "      <td>-1.337548</td>\n",
       "      <td>0.0</td>\n",
       "      <td>0.0</td>\n",
       "      <td>0.0</td>\n",
       "      <td>0.0</td>\n",
       "      <td>0.0</td>\n",
       "      <td>0.0</td>\n",
       "      <td>0.0</td>\n",
       "      <td>0.0</td>\n",
       "      <td>0.0</td>\n",
       "      <td>0.0</td>\n",
       "      <td>0.0</td>\n",
       "      <td>0.0</td>\n",
       "      <td>0.0</td>\n",
       "      <td>0.0</td>\n",
       "      <td>0.0</td>\n",
       "      <td>1.0</td>\n",
       "      <td>0.0</td>\n",
       "      <td>0.0</td>\n",
       "      <td>0.0</td>\n",
       "      <td>0.0</td>\n",
       "      <td>0.0</td>\n",
       "      <td>1.0</td>\n",
       "      <td>0.0</td>\n",
       "      <td>0.0</td>\n",
       "      <td>0.0</td>\n",
       "      <td>0.0</td>\n",
       "      <td>0.0</td>\n",
       "      <td>0.0</td>\n",
       "      <td>0.0</td>\n",
       "      <td>0.0</td>\n",
       "      <td>1.0</td>\n",
       "      <td>0.0</td>\n",
       "      <td>0.0</td>\n",
       "      <td>1.0</td>\n",
       "      <td>0.0</td>\n",
       "      <td>0.0</td>\n",
       "      <td>0.0</td>\n",
       "      <td>1.0</td>\n",
       "      <td>0.0</td>\n",
       "      <td>0.0</td>\n",
       "      <td>1.0</td>\n",
       "      <td>0.0</td>\n",
       "      <td>1.0</td>\n",
       "    </tr>\n",
       "  </tbody>\n",
       "</table>\n",
       "</div>"
      ],
      "text/plain": [
       "        overall    height    weight  intl_rep  dribbling  drib_composure  \\\n",
       "41     0.847095 -1.532537 -1.121665  1.580269   1.194050        1.422721   \n",
       "9014   0.216404 -0.202579  0.518766  1.580269   0.962704        0.760507   \n",
       "20775 -0.098942 -0.941444 -1.258368  0.518499   0.962704       -0.067260   \n",
       "\n",
       "       shooting   passing  defending  physicality  phys_stamina  weak_foot  \\\n",
       "41    -0.131852  1.269061  -0.032372    -2.009995     -2.642926   0.827113   \n",
       "9014   0.912044  0.601925  -1.473020    -1.434772     -1.642540  -1.864252   \n",
       "20775  0.146520  0.713114  -1.870440    -1.434772     -1.531386   0.827113   \n",
       "\n",
       "       skill_moves  avg_goals  avg_assists      days   weekday  days_release  \\\n",
       "41        0.747159  -0.426140    -0.005508 -0.079381  0.514587     -1.337548   \n",
       "9014      0.747159   0.068773     0.165640 -0.079381  0.514587     -1.337548   \n",
       "20775     1.892312  -0.156188     0.251213 -0.079381  0.514587     -1.337548   \n",
       "\n",
       "       x0_Arsenal  x0_Atlético Madrid  x0_Borussia Dortmund  x0_Chelsea  \\\n",
       "41            0.0                 0.0                   0.0         0.0   \n",
       "9014          0.0                 0.0                   0.0         0.0   \n",
       "20775         0.0                 0.0                   0.0         0.0   \n",
       "\n",
       "       x0_FC Barcelona  x0_FC Bayern München  x0_Inter  x0_Juventus  \\\n",
       "41                 0.0                   0.0       0.0          0.0   \n",
       "9014               0.0                   1.0       0.0          0.0   \n",
       "20775              0.0                   0.0       0.0          0.0   \n",
       "\n",
       "       x0_Liverpool  x0_Manchester City  x0_Manchester United  x0_Napoli  \\\n",
       "41              0.0                 0.0                   0.0        0.0   \n",
       "9014            0.0                 0.0                   0.0        0.0   \n",
       "20775           0.0                 0.0                   0.0        0.0   \n",
       "\n",
       "       x0_Paris Saint-Germain  x0_Real Madrid  x0_Tottenham Hotspur  x0_other  \\\n",
       "41                        0.0             0.0                   0.0       1.0   \n",
       "9014                      0.0             0.0                   0.0       0.0   \n",
       "20775                     0.0             0.0                   0.0       1.0   \n",
       "\n",
       "       x1_Bundesliga  x1_LaLiga Santander  x1_Ligue 1 Conforama  \\\n",
       "41               0.0                  0.0                   0.0   \n",
       "9014             1.0                  0.0                   0.0   \n",
       "20775            0.0                  0.0                   0.0   \n",
       "\n",
       "       x1_Premier League  x1_Serie A TIM  x1_other  x2_Argentina  x2_Belgium  \\\n",
       "41                   0.0             0.0       1.0           0.0         0.0   \n",
       "9014                 0.0             0.0       0.0           0.0         0.0   \n",
       "20775                0.0             0.0       1.0           0.0         0.0   \n",
       "\n",
       "       x2_Brazil  x2_England  x2_France  x2_Germany  x2_Holland  x2_Italy  \\\n",
       "41           0.0         0.0        0.0         0.0         0.0       0.0   \n",
       "9014         0.0         0.0        0.0         0.0         1.0       0.0   \n",
       "20775        0.0         0.0        0.0         0.0         0.0       0.0   \n",
       "\n",
       "       x2_Portugal  x2_Spain  x2_other  x3_High  x3_Low  x3_Med  x4_High  \\\n",
       "41             0.0       1.0       0.0      1.0     0.0     0.0      0.0   \n",
       "9014           0.0       0.0       0.0      1.0     0.0     0.0      0.0   \n",
       "20775          1.0       0.0       0.0      1.0     0.0     0.0      0.0   \n",
       "\n",
       "       x4_Low  x4_Med  x5_defender  x5_forward  x5_midfielder  x6_packs  \n",
       "41        0.0     1.0          0.0         0.0            1.0       1.0  \n",
       "9014      1.0     0.0          0.0         1.0            0.0       1.0  \n",
       "20775     1.0     0.0          0.0         1.0            0.0       1.0  "
      ]
     },
     "execution_count": 12,
     "metadata": {
      "tags": []
     },
     "output_type": "execute_result"
    }
   ],
   "source": [
    "df_train_attr.head(3)"
   ]
  },
  {
   "cell_type": "code",
   "execution_count": null,
   "metadata": {
    "colab": {},
    "colab_type": "code",
    "id": "pvmCVBQwxXa9"
   },
   "outputs": [],
   "source": [
    "assert df_test_attr.shape[1] == df_train_attr.shape[1]"
   ]
  },
  {
   "cell_type": "markdown",
   "metadata": {
    "colab_type": "text",
    "id": "f3S3qR_mxXbA"
   },
   "source": [
    "### Input Processing"
   ]
  },
  {
   "cell_type": "code",
   "execution_count": null,
   "metadata": {
    "colab": {},
    "colab_type": "code",
    "id": "FFMB7GM6xXbA"
   },
   "outputs": [],
   "source": [
    "def data_process(df_temp, df_attr, num_obs, num_steps):\n",
    "    \"\"\"\n",
    "    Constructs the temporal and attribute datasets for our model\n",
    "    Arguments:\n",
    "        - df_temp: our temporal dataframe\n",
    "        - df_attr: our attributes dataframe\n",
    "        - num_obs: number of observations to be used in model\n",
    "        - num_steps: number of steps to predict\n",
    "    Returns:\n",
    "        - temp_data: temporal dataset\n",
    "        - attr_data: attribute dataset\n",
    "        - targ_data: target dataset\n",
    "        - reso_data: corresponding resource\n",
    "    \"\"\"\n",
    "    \n",
    "    resources = df_temp.index.unique().values\n",
    "    \n",
    "    reso_data = []\n",
    "    targ_data = []\n",
    "    temp_data = []\n",
    "    attr_data = []\n",
    "    \n",
    "    for r in resources:\n",
    "        \n",
    "        attributes = df_attr[df_attr.index==r].values[0]\n",
    "        temporal_d = df_temp[df_temp.index==r].values\n",
    "        \n",
    "        total_obs = temporal_d.shape[0]\n",
    "        window_size = num_obs + num_steps\n",
    "        \n",
    "        if window_size > total_obs:\n",
    "            continue\n",
    "        \n",
    "        for i in range(total_obs - window_size):\n",
    "            \n",
    "            temp = temporal_d[i:i+num_obs][:, 1:]\n",
    "            targ = temporal_d[i+num_obs:i+num_obs+num_steps][:, -1]\n",
    "            targ_data.append(targ)\n",
    "            temp_data.append(temp)\n",
    "            attr_data.append(attributes)\n",
    "            reso_data.append(r)\n",
    "          \n",
    "    return attr_data, temp_data, targ_data, reso_data"
   ]
  },
  {
   "cell_type": "code",
   "execution_count": null,
   "metadata": {
    "colab": {},
    "colab_type": "code",
    "id": "f2NVyHdrxXbC"
   },
   "outputs": [],
   "source": [
    "train_attr, train_temp, train_targ, train_res = data_process(df_train_temp, df_train_attr, 14, 3)\n",
    "test_attr, test_temp, test_targ, test_res  = data_process(df_test_temp, df_test_attr, 14, 3)"
   ]
  },
  {
   "cell_type": "code",
   "execution_count": null,
   "metadata": {
    "colab": {},
    "colab_type": "code",
    "id": "YIOMpT4OxXbE"
   },
   "outputs": [],
   "source": [
    "train_attr = np.asarray(train_attr)\n",
    "train_temp = np.asarray(train_temp)\n",
    "train_targ = np.asarray(train_targ)\n",
    "train_res = np.asarray(train_res)\n",
    "\n",
    "test_attr = np.asarray(test_attr)\n",
    "test_temp = np.asarray(test_temp)\n",
    "test_targ = np.asarray(test_targ)\n",
    "test_res = np.asarray(test_res)"
   ]
  },
  {
   "cell_type": "code",
   "execution_count": null,
   "metadata": {
    "colab": {},
    "colab_type": "code",
    "id": "IGOWgOdBxXbI"
   },
   "outputs": [],
   "source": [
    "assert train_res.shape[0] == train_temp.shape[0]\n",
    "assert train_temp.shape[0] == train_targ.shape[0]\n",
    "assert train_targ.shape[0] == train_attr.shape[0]"
   ]
  },
  {
   "cell_type": "markdown",
   "metadata": {
    "colab_type": "text",
    "id": "279ZyqvbxXbJ"
   },
   "source": [
    "# Modeling\n",
    "The temporal data will be fed into an LSTM layer, the attributes will be fed into a Dense layer; their outputs will be concatenated and fed into more layers. "
   ]
  },
  {
   "cell_type": "code",
   "execution_count": null,
   "metadata": {
    "colab": {},
    "colab_type": "code",
    "id": "wTs4ANHkxXbL"
   },
   "outputs": [],
   "source": [
    "train_temp = train_temp.astype(np.float64)\n",
    "test_temp = test_temp.astype(np.float64)\n",
    "\n",
    "train_targ = train_targ.astype(np.int64)\n",
    "test_targ = test_targ.astype(np.int64)"
   ]
  },
  {
   "cell_type": "code",
   "execution_count": 22,
   "metadata": {
    "colab": {
     "base_uri": "https://localhost:8080/",
     "height": 34
    },
    "colab_type": "code",
    "id": "-Wyvy_ou3d39",
    "outputId": "0d3a6b7b-1135-46ad-b066-f2a7422867f8"
   },
   "outputs": [
    {
     "data": {
      "text/plain": [
       "(14, 3)"
      ]
     },
     "execution_count": 22,
     "metadata": {
      "tags": []
     },
     "output_type": "execute_result"
    }
   ],
   "source": [
    "train_temp[0].shape"
   ]
  },
  {
   "cell_type": "code",
   "execution_count": 23,
   "metadata": {
    "colab": {
     "base_uri": "https://localhost:8080/",
     "height": 34
    },
    "colab_type": "code",
    "id": "ZiFaeGda3klm",
    "outputId": "27b604ed-fdbd-479e-9895-d292b30ec3f6"
   },
   "outputs": [
    {
     "data": {
      "text/plain": [
       "(61,)"
      ]
     },
     "execution_count": 23,
     "metadata": {
      "tags": []
     },
     "output_type": "execute_result"
    }
   ],
   "source": [
    "train_attr[0].shape"
   ]
  },
  {
   "cell_type": "code",
   "execution_count": null,
   "metadata": {
    "colab": {},
    "colab_type": "code",
    "id": "WOTXIXukxXbM"
   },
   "outputs": [],
   "source": [
    "input_attr = Input(shape=(61,))\n",
    "input_temp = Input(shape=(14,3))\n",
    "\n",
    "# temporal path\n",
    "X_temp1 = LSTM(16)(input_temp)\n",
    "\n",
    "# attribute path\n",
    "X_attr1 = Dense(64, activation='relu')(input_attr)\n",
    "\n",
    "# merged path\n",
    "X_3 = Concatenate(axis=1)([X_attr1, X_temp1])\n",
    "X_4 = Dense(64, activation='relu')(X_3)\n",
    "X_5 = Dense(64, activation='relu')(X_4)\n",
    "X_6 = Dense(64, activation='relu')(X_5)\n",
    "output = Dense(3)(X_6)\n",
    "\n",
    "model = Model([input_attr, input_temp], output)\n",
    "optimizer = Adam(learning_rate=0.05)\n",
    "model.compile(optimizer=optimizer, loss='mse')"
   ]
  },
  {
   "cell_type": "code",
   "execution_count": 25,
   "metadata": {
    "colab": {
     "base_uri": "https://localhost:8080/",
     "height": 445
    },
    "colab_type": "code",
    "id": "FIq4qRHfxXbO",
    "outputId": "958dd5e5-a935-45ae-a92c-ea15edb769de"
   },
   "outputs": [
    {
     "name": "stdout",
     "output_type": "stream",
     "text": [
      "Train on 120909 samples\n",
      "Epoch 1/10\n",
      "WARNING:tensorflow:Entity <function Function._initialize_uninitialized_variables.<locals>.initialize_variables at 0x7f4b49d5ea60> could not be transformed and will be executed as-is. Please report this to the AutoGraph team. When filing the bug, set the verbosity to 10 (on Linux, `export AUTOGRAPH_VERBOSITY=10`) and attach the full output. Cause: module 'gast' has no attribute 'Num'\n",
      "WARNING: Entity <function Function._initialize_uninitialized_variables.<locals>.initialize_variables at 0x7f4b49d5ea60> could not be transformed and will be executed as-is. Please report this to the AutoGraph team. When filing the bug, set the verbosity to 10 (on Linux, `export AUTOGRAPH_VERBOSITY=10`) and attach the full output. Cause: module 'gast' has no attribute 'Num'\n",
      "120909/120909 [==============================] - 23s 193us/sample - loss: 8766957991.3531\n",
      "Epoch 2/10\n",
      "120909/120909 [==============================] - 18s 148us/sample - loss: 3188901333.4953\n",
      "Epoch 3/10\n",
      "120909/120909 [==============================] - 18s 148us/sample - loss: 2707643988.0963\n",
      "Epoch 4/10\n",
      "120909/120909 [==============================] - 18s 149us/sample - loss: 2632148300.9033\n",
      "Epoch 5/10\n",
      "120909/120909 [==============================] - 18s 146us/sample - loss: 2393675365.1805\n",
      "Epoch 6/10\n",
      "120909/120909 [==============================] - 18s 148us/sample - loss: 2382523334.5483\n",
      "Epoch 7/10\n",
      "120909/120909 [==============================] - 18s 146us/sample - loss: 2175642191.8734\n",
      "Epoch 8/10\n",
      "120909/120909 [==============================] - 18s 149us/sample - loss: 2139863372.0490\n",
      "Epoch 9/10\n",
      "120909/120909 [==============================] - 18s 148us/sample - loss: 2146552148.9099\n",
      "Epoch 10/10\n",
      "120909/120909 [==============================] - 18s 147us/sample - loss: 2192947943.7490\n"
     ]
    },
    {
     "data": {
      "text/plain": [
       "<tensorflow.python.keras.callbacks.History at 0x7f4b493b6128>"
      ]
     },
     "execution_count": 25,
     "metadata": {
      "tags": []
     },
     "output_type": "execute_result"
    }
   ],
   "source": [
    "history = model.fit([train_attr, train_temp], train_targ, epochs=10)"
   ]
  },
  {
   "cell_type": "code",
   "execution_count": null,
   "metadata": {},
   "outputs": [],
   "source": [
    "plt.plot(history.history['loss'])"
   ]
  },
  {
   "cell_type": "code",
   "execution_count": null,
   "metadata": {},
   "outputs": [],
   "source": [
    "2192947943.7490\n",
    "1853913358.3275  16/64/32\n",
    "2152751356.1010  16/64/32,32  2nd best performing\n",
    "2114983308.4163  16/64/64,32  1st best performing  [34894.355, 34766.902, 34306.04 ]\n",
    "1968274881.4705  32/64/64,32  ?                    [100917.52 , 101695.38 ,  99629.086]\n",
    "2318939674.5350  16/64/64,32,16                    [213799.33, 213468.64, 211543.4 ]\n",
    "\n",
    "2115874563.3787  3/64/64,32     0.05               [150093.81, 151375.16, 148452.22]\n",
    "2062023516.1448  16/64/64,32    0.05                [56086.76 , 55897.707, 54982.184]\n",
    "\n",
    "---------------------------------------------------------------------------------------\n",
    "195360478.7640   16/64/64,32    0.05              [584.5263, 564.9278, 544.7306]\n",
    "198287368.8941   16/64/64,64    0.05              [24600.693, 23996.002, 23725.465]"
   ]
  },
  {
   "cell_type": "code",
   "execution_count": null,
   "metadata": {
    "colab": {},
    "colab_type": "code",
    "id": "YP0giFIjzR15"
   },
   "outputs": [],
   "source": [
    "test_preds = model.predict([test_attr, test_temp])"
   ]
  },
  {
   "cell_type": "code",
   "execution_count": 39,
   "metadata": {
    "colab": {
     "base_uri": "https://localhost:8080/",
     "height": 34
    },
    "colab_type": "code",
    "id": "3F7aGjQ484rp",
    "outputId": "337b4092-de3f-4cdc-ebc5-043685f0f7ad"
   },
   "outputs": [
    {
     "data": {
      "text/plain": [
       "array([23980, 25105, 24833])"
      ]
     },
     "execution_count": 39,
     "metadata": {
      "tags": []
     },
     "output_type": "execute_result"
    }
   ],
   "source": [
    "test_targ[0]"
   ]
  },
  {
   "cell_type": "code",
   "execution_count": 38,
   "metadata": {
    "colab": {
     "base_uri": "https://localhost:8080/",
     "height": 34
    },
    "colab_type": "code",
    "id": "VlFSftV48z7v",
    "outputId": "dbff60b9-3e75-42c4-9fa1-0a61b809039b"
   },
   "outputs": [
    {
     "data": {
      "text/plain": [
       "array([287725.2 , 288274.16, 283933.38], dtype=float32)"
      ]
     },
     "execution_count": 38,
     "metadata": {
      "tags": []
     },
     "output_type": "execute_result"
    }
   ],
   "source": [
    "test_preds[0]"
   ]
  },
  {
   "cell_type": "markdown",
   "metadata": {
    "colab_type": "text",
    "id": "_xU4yivY45Et"
   },
   "source": [
    "# Model Evaluation\n",
    "\n",
    "Other than the loss metric used above, we can also plot some of the predictions as to get an idea of the model's performance."
   ]
  },
  {
   "cell_type": "code",
   "execution_count": 34,
   "metadata": {
    "colab": {
     "base_uri": "https://localhost:8080/",
     "height": 34
    },
    "colab_type": "code",
    "id": "QV4RtMqv8NtR",
    "outputId": "50226dc1-91b4-477a-aadc-68da20f93743"
   },
   "outputs": [
    {
     "data": {
      "text/plain": [
       "'Iniesta'"
      ]
     },
     "execution_count": 34,
     "metadata": {
      "tags": []
     },
     "output_type": "execute_result"
    }
   ],
   "source": [
    "df_test[df_test.resource_id==41].player_name.values[0]"
   ]
  },
  {
   "cell_type": "code",
   "execution_count": null,
   "metadata": {
    "colab": {},
    "colab_type": "code",
    "id": "tWJnnxpg6y0Q"
   },
   "outputs": [],
   "source": [
    "def plot_predictions(i):\n",
    "    \"\"\"\n",
    "    plot the predictions for index i in the test set\n",
    "    \"\"\"\n",
    "    resource_id = test_res[i]\n",
    "    player_name = df_test[df_test.resource_id==resource_id].player_name.values[0]\n",
    "    prev_prices = test_temp[i][:, -1]\n",
    "    actual_prices = test_targ[i]\n",
    "    prices = np.concatenate([prev_prices, actual_prices])\n",
    "    num_x = len(prices)\n",
    "    prices_x = np.arange(num_x)\n",
    "\n",
    "    pred_prices = test_preds[i]\n",
    "    num_targ_x = len(pred_prices)\n",
    "    pred_prices_x = np.arange(num_x-num_targ_x, num_x)\n",
    "\n",
    "    fig, ax = plt.subplots(1,1, figsize=(10,10))\n",
    "    ax.plot(prices_x, prices, label='Actual Price')\n",
    "    ax.plot(pred_prices_x, pred_prices, label='Prediction')\n",
    "    ax.set_title(player_name)\n",
    "    ax.legend()\n"
   ]
  },
  {
   "cell_type": "code",
   "execution_count": null,
   "metadata": {},
   "outputs": [],
   "source": [
    "plot_predictions(42000)"
   ]
  }
 ],
 "metadata": {
  "accelerator": "GPU",
  "colab": {
   "collapsed_sections": [],
   "name": "sophie.ipynb",
   "provenance": []
  },
  "kernelspec": {
   "display_name": "Python 3",
   "language": "python",
   "name": "python3"
  },
  "language_info": {
   "codemirror_mode": {
    "name": "ipython",
    "version": 3
   },
   "file_extension": ".py",
   "mimetype": "text/x-python",
   "name": "python",
   "nbconvert_exporter": "python",
   "pygments_lexer": "ipython3",
   "version": "3.7.3"
  }
 },
 "nbformat": 4,
 "nbformat_minor": 4
}
