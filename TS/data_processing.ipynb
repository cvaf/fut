{
 "cells": [
  {
   "cell_type": "code",
   "execution_count": 1,
   "metadata": {},
   "outputs": [],
   "source": [
    "import pandas as pd\n",
    "import numpy as np\n",
    "\n",
    "import warnings\n",
    "warnings.filterwarnings('ignore')\n",
    "pd.set_option('display.max_columns', 100)\n",
    "\n",
    "from statsmodels.graphics.tsaplots import plot_acf, plot_pacf\n",
    "import matplotlib.pyplot as plt\n",
    "import seaborn as sns\n",
    "%matplotlib inline\n",
    "\n",
    "# other\n",
    "from datetime import datetime, timedelta"
   ]
  },
  {
   "cell_type": "markdown",
   "metadata": {},
   "source": [
    "# Time Series - Data Processing"
   ]
  },
  {
   "cell_type": "code",
   "execution_count": 2,
   "metadata": {},
   "outputs": [
    {
     "data": {
      "text/html": [
       "<div>\n",
       "<style scoped>\n",
       "    .dataframe tbody tr th:only-of-type {\n",
       "        vertical-align: middle;\n",
       "    }\n",
       "\n",
       "    .dataframe tbody tr th {\n",
       "        vertical-align: top;\n",
       "    }\n",
       "\n",
       "    .dataframe thead th {\n",
       "        text-align: right;\n",
       "    }\n",
       "</style>\n",
       "<table border=\"1\" class=\"dataframe\">\n",
       "  <thead>\n",
       "    <tr style=\"text-align: right;\">\n",
       "      <th></th>\n",
       "      <th>player_name</th>\n",
       "      <th>quality</th>\n",
       "      <th>revision</th>\n",
       "      <th>overall</th>\n",
       "      <th>club</th>\n",
       "      <th>league</th>\n",
       "      <th>nationality</th>\n",
       "      <th>position</th>\n",
       "      <th>age</th>\n",
       "      <th>height</th>\n",
       "      <th>weight</th>\n",
       "      <th>intl_rep</th>\n",
       "      <th>added_date</th>\n",
       "      <th>pace</th>\n",
       "      <th>pace_acceleration</th>\n",
       "      <th>pace_sprint_speed</th>\n",
       "      <th>dribbling</th>\n",
       "      <th>drib_agility</th>\n",
       "      <th>drib_balance</th>\n",
       "      <th>drib_reactions</th>\n",
       "      <th>drib_ball_control</th>\n",
       "      <th>drib_dribbling</th>\n",
       "      <th>drib_composure</th>\n",
       "      <th>shooting</th>\n",
       "      <th>shoot_positioning</th>\n",
       "      <th>shoot_finishing</th>\n",
       "      <th>shoot_shot_power</th>\n",
       "      <th>shoot_long_shots</th>\n",
       "      <th>shoot_volleys</th>\n",
       "      <th>shoot_penalties</th>\n",
       "      <th>passing</th>\n",
       "      <th>pass_vision</th>\n",
       "      <th>pass_crossing</th>\n",
       "      <th>pass_free_kick</th>\n",
       "      <th>pass_short</th>\n",
       "      <th>pass_long</th>\n",
       "      <th>pass_curve</th>\n",
       "      <th>defending</th>\n",
       "      <th>def_interceptions</th>\n",
       "      <th>def_heading</th>\n",
       "      <th>def_marking</th>\n",
       "      <th>def_stand_tackle</th>\n",
       "      <th>def_slid_tackle</th>\n",
       "      <th>physicality</th>\n",
       "      <th>phys_jumping</th>\n",
       "      <th>phys_stamina</th>\n",
       "      <th>phys_strength</th>\n",
       "      <th>phys_aggression</th>\n",
       "      <th>pref_foot</th>\n",
       "      <th>att_workrate</th>\n",
       "      <th>def_workrate</th>\n",
       "      <th>weak_foot</th>\n",
       "      <th>skill_moves</th>\n",
       "      <th>resource_id</th>\n",
       "      <th>num_games</th>\n",
       "      <th>avg_goals</th>\n",
       "      <th>avg_assists</th>\n",
       "      <th>date</th>\n",
       "      <th>price</th>\n",
       "    </tr>\n",
       "  </thead>\n",
       "  <tbody>\n",
       "    <tr>\n",
       "      <th>0</th>\n",
       "      <td>Pelé</td>\n",
       "      <td>Gold - Rare</td>\n",
       "      <td>Icon</td>\n",
       "      <td>98</td>\n",
       "      <td>Icons</td>\n",
       "      <td>Icons</td>\n",
       "      <td>Brazil</td>\n",
       "      <td>CAM</td>\n",
       "      <td>77</td>\n",
       "      <td>173</td>\n",
       "      <td>70</td>\n",
       "      <td>0</td>\n",
       "      <td>2018-09-19</td>\n",
       "      <td>95.0</td>\n",
       "      <td>95</td>\n",
       "      <td>95</td>\n",
       "      <td>96.0</td>\n",
       "      <td>94</td>\n",
       "      <td>93</td>\n",
       "      <td>98</td>\n",
       "      <td>97</td>\n",
       "      <td>96</td>\n",
       "      <td>98</td>\n",
       "      <td>96.0</td>\n",
       "      <td>97</td>\n",
       "      <td>98</td>\n",
       "      <td>94</td>\n",
       "      <td>94</td>\n",
       "      <td>95</td>\n",
       "      <td>93</td>\n",
       "      <td>93.0</td>\n",
       "      <td>97</td>\n",
       "      <td>90</td>\n",
       "      <td>89</td>\n",
       "      <td>96</td>\n",
       "      <td>88</td>\n",
       "      <td>89</td>\n",
       "      <td>60.0</td>\n",
       "      <td>67</td>\n",
       "      <td>94</td>\n",
       "      <td>55</td>\n",
       "      <td>53</td>\n",
       "      <td>49</td>\n",
       "      <td>76.0</td>\n",
       "      <td>88</td>\n",
       "      <td>86</td>\n",
       "      <td>76</td>\n",
       "      <td>59</td>\n",
       "      <td>Right</td>\n",
       "      <td>High</td>\n",
       "      <td>Med</td>\n",
       "      <td>4</td>\n",
       "      <td>5</td>\n",
       "      <td>237067</td>\n",
       "      <td>140,067</td>\n",
       "      <td>0.58</td>\n",
       "      <td>0.38</td>\n",
       "      <td>2018-09-20</td>\n",
       "      <td>0</td>\n",
       "    </tr>\n",
       "    <tr>\n",
       "      <th>1</th>\n",
       "      <td>Pelé</td>\n",
       "      <td>Gold - Rare</td>\n",
       "      <td>Icon</td>\n",
       "      <td>98</td>\n",
       "      <td>Icons</td>\n",
       "      <td>Icons</td>\n",
       "      <td>Brazil</td>\n",
       "      <td>CAM</td>\n",
       "      <td>77</td>\n",
       "      <td>173</td>\n",
       "      <td>70</td>\n",
       "      <td>0</td>\n",
       "      <td>2018-09-19</td>\n",
       "      <td>95.0</td>\n",
       "      <td>95</td>\n",
       "      <td>95</td>\n",
       "      <td>96.0</td>\n",
       "      <td>94</td>\n",
       "      <td>93</td>\n",
       "      <td>98</td>\n",
       "      <td>97</td>\n",
       "      <td>96</td>\n",
       "      <td>98</td>\n",
       "      <td>96.0</td>\n",
       "      <td>97</td>\n",
       "      <td>98</td>\n",
       "      <td>94</td>\n",
       "      <td>94</td>\n",
       "      <td>95</td>\n",
       "      <td>93</td>\n",
       "      <td>93.0</td>\n",
       "      <td>97</td>\n",
       "      <td>90</td>\n",
       "      <td>89</td>\n",
       "      <td>96</td>\n",
       "      <td>88</td>\n",
       "      <td>89</td>\n",
       "      <td>60.0</td>\n",
       "      <td>67</td>\n",
       "      <td>94</td>\n",
       "      <td>55</td>\n",
       "      <td>53</td>\n",
       "      <td>49</td>\n",
       "      <td>76.0</td>\n",
       "      <td>88</td>\n",
       "      <td>86</td>\n",
       "      <td>76</td>\n",
       "      <td>59</td>\n",
       "      <td>Right</td>\n",
       "      <td>High</td>\n",
       "      <td>Med</td>\n",
       "      <td>4</td>\n",
       "      <td>5</td>\n",
       "      <td>237067</td>\n",
       "      <td>140,067</td>\n",
       "      <td>0.58</td>\n",
       "      <td>0.38</td>\n",
       "      <td>2018-09-21</td>\n",
       "      <td>0</td>\n",
       "    </tr>\n",
       "  </tbody>\n",
       "</table>\n",
       "</div>"
      ],
      "text/plain": [
       "  player_name      quality revision  overall   club league nationality  \\\n",
       "0        Pelé  Gold - Rare     Icon       98  Icons  Icons      Brazil   \n",
       "1        Pelé  Gold - Rare     Icon       98  Icons  Icons      Brazil   \n",
       "\n",
       "  position  age  height  weight  intl_rep added_date  pace  pace_acceleration  \\\n",
       "0      CAM   77     173      70         0 2018-09-19  95.0                 95   \n",
       "1      CAM   77     173      70         0 2018-09-19  95.0                 95   \n",
       "\n",
       "   pace_sprint_speed  dribbling  drib_agility  drib_balance  drib_reactions  \\\n",
       "0                 95       96.0            94            93              98   \n",
       "1                 95       96.0            94            93              98   \n",
       "\n",
       "   drib_ball_control  drib_dribbling  drib_composure  shooting  \\\n",
       "0                 97              96              98      96.0   \n",
       "1                 97              96              98      96.0   \n",
       "\n",
       "   shoot_positioning  shoot_finishing  shoot_shot_power  shoot_long_shots  \\\n",
       "0                 97               98                94                94   \n",
       "1                 97               98                94                94   \n",
       "\n",
       "   shoot_volleys  shoot_penalties  passing  pass_vision  pass_crossing  \\\n",
       "0             95               93     93.0           97             90   \n",
       "1             95               93     93.0           97             90   \n",
       "\n",
       "   pass_free_kick  pass_short  pass_long  pass_curve  defending  \\\n",
       "0              89          96         88          89       60.0   \n",
       "1              89          96         88          89       60.0   \n",
       "\n",
       "   def_interceptions  def_heading  def_marking  def_stand_tackle  \\\n",
       "0                 67           94           55                53   \n",
       "1                 67           94           55                53   \n",
       "\n",
       "   def_slid_tackle  physicality  phys_jumping  phys_stamina  phys_strength  \\\n",
       "0               49         76.0            88            86             76   \n",
       "1               49         76.0            88            86             76   \n",
       "\n",
       "   phys_aggression pref_foot att_workrate def_workrate  weak_foot  \\\n",
       "0               59     Right         High          Med          4   \n",
       "1               59     Right         High          Med          4   \n",
       "\n",
       "   skill_moves  resource_id num_games avg_goals avg_assists       date  price  \n",
       "0            5       237067   140,067      0.58        0.38 2018-09-20      0  \n",
       "1            5       237067   140,067      0.58        0.38 2018-09-21      0  "
      ]
     },
     "execution_count": 2,
     "metadata": {},
     "output_type": "execute_result"
    }
   ],
   "source": [
    "df = pd.read_csv('../data/prices_database.csv', index_col='Unnamed: 0', parse_dates=['added_date', 'date'])\n",
    "df.head(2)"
   ]
  },
  {
   "cell_type": "markdown",
   "metadata": {},
   "source": [
    "## Feature Engineering"
   ]
  },
  {
   "cell_type": "markdown",
   "metadata": {},
   "source": [
    "We need to construct the following features:\n",
    "- available: Binary variable indicating the availability of the card on that given day\n",
    "- *substitute* (scratched for the time being): Binary variable indicating whether a new card for that player is available during that day. (SBC + Packs)\n",
    "- days: # of days available\n",
    "- general position: group the positions together\n",
    "- promo: binary indicating if there's a promotion on that day. \n",
    "- weekday: 0-6 indicating the day of the week\n",
    "- source: Whether the card was an SBC, Weekly OBJ or in packs.\n",
    "- days_release: # of days since game release\n",
    "\n",
    "**Days**:"
   ]
  },
  {
   "cell_type": "code",
   "execution_count": 3,
   "metadata": {},
   "outputs": [],
   "source": [
    "df['days'] = (df['date'] - df['added_date']).dt.days"
   ]
  },
  {
   "cell_type": "markdown",
   "metadata": {},
   "source": [
    "Quick to note that some players have prices for the day before they were officially released, implying there's a mistake. Further investigation reveals that these should be offset to the next day instead. "
   ]
  },
  {
   "cell_type": "code",
   "execution_count": 4,
   "metadata": {},
   "outputs": [],
   "source": [
    "offset_resources = df[df.days == -1].resource_id.unique()       # get resource id of users who match this \n",
    "\n",
    "df['date'] = np.where(df.resource_id.isin(offset_resources),    # remap the date variable\n",
    "                      df.date +pd.DateOffset(days=1), df.date)\n",
    "df['days'] = (df.date - df.added_date).dt.days                  # reassign the days variable\n",
    "\n",
    "df = df[df.days >= 0]                                           # remove observations that have days < 0"
   ]
  },
  {
   "cell_type": "markdown",
   "metadata": {},
   "source": [
    "**Weekday**:"
   ]
  },
  {
   "cell_type": "code",
   "execution_count": 5,
   "metadata": {},
   "outputs": [],
   "source": [
    "df['weekday'] = df.date.dt.weekday                              # get the day of the week"
   ]
  },
  {
   "cell_type": "markdown",
   "metadata": {},
   "source": [
    "**General Position**:"
   ]
  },
  {
   "cell_type": "code",
   "execution_count": 6,
   "metadata": {},
   "outputs": [],
   "source": [
    "for_pos = ['ST', 'CF', 'CAM', 'LW', 'LF', 'LM', 'RW', 'RF', 'RM']\n",
    "mid_pos = ['CM', 'CDM']\n",
    "def_pos = ['LB', 'LWB', 'CB', 'RB', 'RWB']\n",
    "\n",
    "df['gen_pos'] = np.where(df.position.isin(for_pos), 'forward', np.nan)\n",
    "df['gen_pos'] = np.where(df.position.isin(mid_pos), 'midfielder', df.gen_pos)\n",
    "df['gen_pos'] = np.where(df.position.isin(def_pos), 'defender', df.gen_pos)"
   ]
  },
  {
   "cell_type": "markdown",
   "metadata": {},
   "source": [
    "**Club/League Group**:"
   ]
  },
  {
   "cell_type": "code",
   "execution_count": 7,
   "metadata": {},
   "outputs": [],
   "source": [
    "df = df[df.club != 'Icons']  # drop icons"
   ]
  },
  {
   "cell_type": "code",
   "execution_count": 8,
   "metadata": {},
   "outputs": [],
   "source": [
    "t_leagues = ['Premier League', 'Serie A TIM', 'LaLiga Santander', 'Ligue 1 Conforama', 'Bundesliga']\n",
    "df['league'] = np.where(df.league.isin(t_leagues), 1, 0)\n",
    "\n",
    "t_clubs = ['Manchester United', 'Manchester City', 'Chelsea', 'Liverpool', 'Arsenal', 'Tottenham Hotspur',\n",
    "           'Paris Saint-Germain', 'Juventus', 'Napoli', 'Inter', 'FC Barcelona', 'Real Madrid', 'Atlético Madrid',\n",
    "           'Borussia Dortmund', 'FC Bayern München']\n",
    "df['club'] = np.where(df.club.isin(t_clubs), 1, 0)\n",
    "\n",
    "t_nations = df.groupby(['nationality']).resource_id.nunique().reset_index().sort_values(by=['resource_id'], ascending=False)[:10].nationality.values\n",
    "df['nationality'] = np.where(df.nationality.isin(t_nations), 1, 0)"
   ]
  },
  {
   "cell_type": "markdown",
   "metadata": {},
   "source": [
    "**Promo**:\n",
    "\n",
    "Promotional periods are the following:\n",
    "- TOTS: 10/5-21/6\n",
    "- Icon Release: 5/4-15/4\n",
    "- Fut Bday: 22/3-30/3\n",
    "- Carniball: 8/3-16/3\n",
    "- Rating Refresh: 15/2-24/2\n",
    "- Headliners: 1/2-8/2\n",
    "- Future Stars: 18/1-25/1\n",
    "- TOTY: 7/1-14/1\n",
    "- Futmas: 14/12-24/12\n",
    "- TOTGS: 7/12-14/12\n",
    "- Black Friday: 23/11-26/11\n",
    "- RTTF: 9/11-16/11\n",
    "- Halloween: 19/10-26/10"
   ]
  },
  {
   "cell_type": "code",
   "execution_count": 9,
   "metadata": {},
   "outputs": [],
   "source": [
    "promos = [[datetime(2019, 5, 10), datetime(2019, 6, 21)],       # TOTS\n",
    "          [datetime(2019, 4, 5), datetime(2019, 4, 15)],        # icon release\n",
    "          [datetime(2019, 3, 22), datetime(2019, 3, 30)],       # fut bday\n",
    "          [datetime(2019, 3, 8), datetime(2019, 3, 16)],        # carniball\n",
    "          [datetime(2019, 2, 15), datetime(2019, 2, 24)],       # rating refresh\n",
    "          [datetime(2019, 2, 1), datetime(2019, 2, 8)],         # headliners\n",
    "          [datetime(2019, 1, 18), datetime(2019, 1, 25)],       # ffs\n",
    "          [datetime(2019, 1, 7), datetime(2019, 1, 14)],        # TOTY\n",
    "          [datetime(2018, 12, 14), datetime(2018, 12, 24)],     # futmas\n",
    "          [datetime(2018, 12, 7), datetime(2018, 12, 14)],      # totgs\n",
    "          [datetime(2018, 11, 23), datetime(2018, 11, 26)],     # black friday\n",
    "          [datetime(2018, 11, 9), datetime(2018, 11, 16)],      # rttf\n",
    "          [datetime(2018, 10, 19), datetime(2018, 10, 26)]]     # halloween\n",
    "\n",
    "def promo_assignment(ds):\n",
    "    date = pd.to_datetime(ds)\n",
    "    promo = 0\n",
    "    for p in promos:\n",
    "        if (p[0] <= date) & (p[1] >= date):\n",
    "            promo = 1\n",
    "            break\n",
    "    return promo\n",
    "\n",
    "df['promo'] = df['date'].apply(promo_assignment)                # apply the promo assignment"
   ]
  },
  {
   "cell_type": "markdown",
   "metadata": {},
   "source": [
    "**Card Source**:"
   ]
  },
  {
   "cell_type": "code",
   "execution_count": 10,
   "metadata": {},
   "outputs": [],
   "source": [
    "df.revision.fillna('MLS POTM', inplace=True)"
   ]
  },
  {
   "cell_type": "code",
   "execution_count": 11,
   "metadata": {},
   "outputs": [],
   "source": [
    "df['source'] = 'packs'\n",
    "df['source'] = np.where(df.revision.str.contains('Normal') | df.revision.str.contains('Icon') | df.revision.str.contains('Refresh'),\n",
    "                        'base', df.source)                                                                     # Base cards\n",
    "df['source'] = np.where(df.revision.str.contains('SBC') | df.revision.str.contains('POTM'), 'sbc', df.source)  # SBC\n",
    "df['source'] = np.where(df.revision.str.contains('Loan'), 'loan', df.source)                                   # Loans\n",
    "df['source'] = np.where(df.revision.str.contains('Ob'), 'objective', df.source)                                # Objectives\n",
    "\n",
    "df = df[df.source != 'loan']                                                                                   # remove loan cards"
   ]
  },
  {
   "cell_type": "markdown",
   "metadata": {},
   "source": [
    "**Availability**:\n",
    "- Pack cards: will be labeled as available for a week after being added to the database. This isn't always accurate but an overall approximation.\n",
    "- SBC: Availability will also be set for a week - again, an approximation. \n",
    "- Objectives: Weekly availability\n",
    "- Winter Upgrades + Base Cards: Available throughout except periods where they have special cards in packs. Winter upgrades replace base cards. "
   ]
  },
  {
   "cell_type": "code",
   "execution_count": 12,
   "metadata": {},
   "outputs": [],
   "source": [
    "df['available'] = np.nan\n",
    "\n",
    "# special cards in packs, sbcs and objectives\n",
    "df['available'] = np.where(((df.source == 'packs') | (df.source == 'sbc') | (df.source == 'objective')) & (df.date <= df.added_date + pd.DateOffset(7)),\n",
    "                           1, df.available)"
   ]
  },
  {
   "cell_type": "code",
   "execution_count": 13,
   "metadata": {},
   "outputs": [],
   "source": [
    "# create a cross product to find the availability of base cards from special pack cards\n",
    "base = df[df.source == 'base'][['player_name', 'age', 'height', 'weight', 'intl_rep', 'date', 'added_date', 'available', 'resource_id']]\n",
    "pack = df[df.source == 'packs'][['player_name', 'age', 'height', 'weight', 'intl_rep', 'date', 'added_date', 'available']]\n",
    "overlap = base.merge(pack, on=['player_name', 'age', 'height', 'weight', 'intl_rep', 'date'], how='inner', suffixes=('', '_special'))\n",
    "\n",
    "overlap['available'] = np.where(overlap.available_special == 1, 0, 1)\n",
    "\n",
    "# group by to handle multiple special card instances\n",
    "overlap = overlap.groupby(['player_name', 'age', 'height', 'weight', 'intl_rep', 'date', 'added_date', 'resource_id']).available.min().reset_index()"
   ]
  },
  {
   "cell_type": "code",
   "execution_count": 14,
   "metadata": {},
   "outputs": [],
   "source": [
    "df_ = df.merge(overlap, on=['date', 'resource_id' ,'added_date', 'player_name'], how='left', suffixes=('', '_overlap'))"
   ]
  },
  {
   "cell_type": "code",
   "execution_count": 15,
   "metadata": {},
   "outputs": [],
   "source": [
    "df['available'] = np.where(df.source == 'base', df_.available_overlap, df.available)          # update the availability of base cards that had special cards at some point\n",
    "df['available'] = np.where((df.source == 'base') & (df.available.isnull()), 1, df.available)  # update the availability of the rest of the base cards (+icons)\n",
    "df.available.fillna(0, inplace=True)                                                          # update the availability of the rest of the cards"
   ]
  },
  {
   "cell_type": "markdown",
   "metadata": {},
   "source": [
    "**Days Since Release**:"
   ]
  },
  {
   "cell_type": "code",
   "execution_count": 16,
   "metadata": {},
   "outputs": [],
   "source": [
    "df['days_release'] = (df.date - df.date.min()).dt.days"
   ]
  },
  {
   "cell_type": "markdown",
   "metadata": {},
   "source": [
    "**Autocorrelations**:"
   ]
  },
  {
   "cell_type": "code",
   "execution_count": 17,
   "metadata": {},
   "outputs": [
    {
     "data": {
      "image/png": "[encoded data removed]",
      "text/plain": [
       "<Figure size 1440x432 with 3 Axes>"
      ]
     },
     "metadata": {
      "needs_background": "light"
     },
     "output_type": "display_data"
    }
   ],
   "source": [
    "fig, ax = plt.subplots(1, 3, figsize=(20, 6))\n",
    "df.groupby('date').price.mean().plot(ax=ax[0])\n",
    "_ = plot_acf(df.groupby('date').price.mean()[:50], ax=ax[1])\n",
    "_ = plot_pacf(df.groupby('date').price.mean()[:30], ax=ax[2])"
   ]
  },
  {
   "cell_type": "code",
   "execution_count": 18,
   "metadata": {},
   "outputs": [],
   "source": [
    "df_ = df[['date', 'resource_id', 'added_date', 'days', 'price']]\n",
    "\n",
    "df_['price_day1'] = df.price.shift(1)\n",
    "df_['price_day2'] = df.price.shift(2)\n",
    "df_['price_day3'] = df.price.shift(3)\n",
    "df_['price_day7'] = df.price.shift(7)\n",
    "df_['price_day14'] = df.price.shift(14)\n",
    "df_['price_day30'] = df.price.shift(30)\n",
    "\n",
    "df['price_day0'] = df['price']\n",
    "df['price_day1'] = np.where(df_.days == 1, 0, df_.price_day1)\n",
    "df['price_day2'] = np.where(df_.days <= 2, 0, df_.price_day2)\n",
    "df['price_day3'] = np.where(df_.days <= 3, 0, df_.price_day3)\n",
    "df['price_day7'] = np.where(df_.days <= 7, 0, df_.price_day7)\n",
    "df['price_day14'] = np.where(df_.days <= 14, 0, df_.price_day14)\n",
    "df['price_day30'] = np.where(df_.days <= 30, 0, df_.price_day30)"
   ]
  },
  {
   "cell_type": "markdown",
   "metadata": {},
   "source": [
    "**Target**:\n",
    "\n",
    "Our target is the price of that player one week in advance, so we shift the variable. "
   ]
  },
  {
   "cell_type": "code",
   "execution_count": 19,
   "metadata": {},
   "outputs": [],
   "source": [
    "df['price_day0'] = df['price']         # rename the current price\n",
    "df['y_price'] = df.price.shift(-7)\n",
    "\n",
    "df = df[df.date <= df.date.max() - timedelta(7)]"
   ]
  },
  {
   "cell_type": "markdown",
   "metadata": {},
   "source": [
    "## Drop"
   ]
  },
  {
   "cell_type": "markdown",
   "metadata": {},
   "source": [
    "We don't need all the remaining columns, so we narrow down our projection before proceeding."
   ]
  },
  {
   "cell_type": "code",
   "execution_count": 20,
   "metadata": {},
   "outputs": [],
   "source": [
    "df.drop(['quality', 'revision', 'age', 'pace', 'pace_acceleration', 'pace_sprint_speed', 'drib_agility', 'drib_balance',\n",
    "         'drib_reactions', 'drib_ball_control', 'drib_dribbling', 'shoot_positioning', 'shoot_finishing', 'shoot_shot_power',\n",
    "         'shoot_long_shots', 'shoot_volleys', 'shoot_penalties', 'pass_vision', 'pass_crossing', 'pass_free_kick', 'pass_short',\n",
    "         'pass_long', 'pass_curve', 'def_interceptions', 'def_heading', 'def_marking', 'def_stand_tackle', 'def_slid_tackle', \n",
    "         'phys_jumping', 'phys_strength', 'phys_aggression', 'pref_foot', 'num_games', 'price', 'added_date', 'position'], axis=1, inplace=True)"
   ]
  },
  {
   "cell_type": "markdown",
   "metadata": {},
   "source": [
    "# Export"
   ]
  },
  {
   "cell_type": "code",
   "execution_count": 22,
   "metadata": {},
   "outputs": [],
   "source": [
    "df.to_pickle('../data/ts_dataset.pkl')"
   ]
  },
  {
   "cell_type": "markdown",
   "metadata": {},
   "source": [
    "# Modeling"
   ]
  },
  {
   "cell_type": "code",
   "execution_count": 25,
   "metadata": {},
   "outputs": [],
   "source": [
    "# pipelines + training imports\n",
    "from sklearn.preprocessing import OneHotEncoder, StandardScaler\n",
    "from sklearn.model_selection import train_test_split, GridSearchCV\n",
    "from sklearn.pipeline import make_pipeline, Pipeline\n",
    "from sklearn.compose import make_column_transformer\n",
    "\n",
    "# models\n",
    "from sklearn.ensemble import RandomForestRegressor"
   ]
  },
  {
   "cell_type": "code",
   "execution_count": 76,
   "metadata": {},
   "outputs": [
    {
     "data": {
      "text/html": [
       "<div>\n",
       "<style scoped>\n",
       "    .dataframe tbody tr th:only-of-type {\n",
       "        vertical-align: middle;\n",
       "    }\n",
       "\n",
       "    .dataframe tbody tr th {\n",
       "        vertical-align: top;\n",
       "    }\n",
       "\n",
       "    .dataframe thead th {\n",
       "        text-align: right;\n",
       "    }\n",
       "</style>\n",
       "<table border=\"1\" class=\"dataframe\">\n",
       "  <thead>\n",
       "    <tr style=\"text-align: right;\">\n",
       "      <th></th>\n",
       "      <th>player_name</th>\n",
       "      <th>overall</th>\n",
       "      <th>club</th>\n",
       "      <th>league</th>\n",
       "      <th>nationality</th>\n",
       "      <th>height</th>\n",
       "      <th>weight</th>\n",
       "      <th>intl_rep</th>\n",
       "      <th>dribbling</th>\n",
       "      <th>drib_composure</th>\n",
       "      <th>shooting</th>\n",
       "      <th>passing</th>\n",
       "      <th>defending</th>\n",
       "      <th>physicality</th>\n",
       "      <th>phys_stamina</th>\n",
       "      <th>att_workrate</th>\n",
       "      <th>def_workrate</th>\n",
       "      <th>weak_foot</th>\n",
       "      <th>skill_moves</th>\n",
       "      <th>resource_id</th>\n",
       "      <th>avg_goals</th>\n",
       "      <th>avg_assists</th>\n",
       "      <th>date</th>\n",
       "      <th>days</th>\n",
       "      <th>weekday</th>\n",
       "      <th>gen_pos</th>\n",
       "      <th>promo</th>\n",
       "      <th>source</th>\n",
       "      <th>available</th>\n",
       "      <th>days_release</th>\n",
       "      <th>price_day0</th>\n",
       "      <th>price_day1</th>\n",
       "      <th>price_day2</th>\n",
       "      <th>price_day3</th>\n",
       "      <th>price_day7</th>\n",
       "      <th>price_day14</th>\n",
       "      <th>price_day30</th>\n",
       "      <th>y_price</th>\n",
       "    </tr>\n",
       "  </thead>\n",
       "  <tbody>\n",
       "    <tr>\n",
       "      <th>0</th>\n",
       "      <td>Ronaldo</td>\n",
       "      <td>94</td>\n",
       "      <td>1</td>\n",
       "      <td>1</td>\n",
       "      <td>1</td>\n",
       "      <td>187</td>\n",
       "      <td>83</td>\n",
       "      <td>5</td>\n",
       "      <td>90.0</td>\n",
       "      <td>95</td>\n",
       "      <td>93.0</td>\n",
       "      <td>81.0</td>\n",
       "      <td>35.0</td>\n",
       "      <td>79.0</td>\n",
       "      <td>88</td>\n",
       "      <td>High</td>\n",
       "      <td>Low</td>\n",
       "      <td>4</td>\n",
       "      <td>5</td>\n",
       "      <td>20801</td>\n",
       "      <td>0.92</td>\n",
       "      <td>0.37</td>\n",
       "      <td>2018-09-20</td>\n",
       "      <td>1</td>\n",
       "      <td>3</td>\n",
       "      <td>forward</td>\n",
       "      <td>0</td>\n",
       "      <td>base</td>\n",
       "      <td>1.0</td>\n",
       "      <td>0</td>\n",
       "      <td>1366667</td>\n",
       "      <td>0.0</td>\n",
       "      <td>0.0</td>\n",
       "      <td>0.0</td>\n",
       "      <td>0.0</td>\n",
       "      <td>0.0</td>\n",
       "      <td>0.0</td>\n",
       "      <td>1688245.0</td>\n",
       "    </tr>\n",
       "    <tr>\n",
       "      <th>1</th>\n",
       "      <td>Ronaldo</td>\n",
       "      <td>94</td>\n",
       "      <td>1</td>\n",
       "      <td>1</td>\n",
       "      <td>1</td>\n",
       "      <td>187</td>\n",
       "      <td>83</td>\n",
       "      <td>5</td>\n",
       "      <td>90.0</td>\n",
       "      <td>95</td>\n",
       "      <td>93.0</td>\n",
       "      <td>81.0</td>\n",
       "      <td>35.0</td>\n",
       "      <td>79.0</td>\n",
       "      <td>88</td>\n",
       "      <td>High</td>\n",
       "      <td>Low</td>\n",
       "      <td>4</td>\n",
       "      <td>5</td>\n",
       "      <td>20801</td>\n",
       "      <td>0.92</td>\n",
       "      <td>0.37</td>\n",
       "      <td>2018-09-21</td>\n",
       "      <td>2</td>\n",
       "      <td>4</td>\n",
       "      <td>forward</td>\n",
       "      <td>0</td>\n",
       "      <td>base</td>\n",
       "      <td>1.0</td>\n",
       "      <td>1</td>\n",
       "      <td>1322625</td>\n",
       "      <td>1366667.0</td>\n",
       "      <td>0.0</td>\n",
       "      <td>0.0</td>\n",
       "      <td>0.0</td>\n",
       "      <td>0.0</td>\n",
       "      <td>0.0</td>\n",
       "      <td>1774088.0</td>\n",
       "    </tr>\n",
       "  </tbody>\n",
       "</table>\n",
       "</div>"
      ],
      "text/plain": [
       "  player_name  overall  club  league  nationality  height  weight  intl_rep  \\\n",
       "0     Ronaldo       94     1       1            1     187      83         5   \n",
       "1     Ronaldo       94     1       1            1     187      83         5   \n",
       "\n",
       "   dribbling  drib_composure  shooting  passing  defending  physicality  \\\n",
       "0       90.0              95      93.0     81.0       35.0         79.0   \n",
       "1       90.0              95      93.0     81.0       35.0         79.0   \n",
       "\n",
       "   phys_stamina att_workrate def_workrate  weak_foot  skill_moves  \\\n",
       "0            88         High          Low          4            5   \n",
       "1            88         High          Low          4            5   \n",
       "\n",
       "   resource_id  avg_goals  avg_assists       date  days  weekday  gen_pos  \\\n",
       "0        20801       0.92         0.37 2018-09-20     1        3  forward   \n",
       "1        20801       0.92         0.37 2018-09-21     2        4  forward   \n",
       "\n",
       "   promo source  available  days_release  price_day0  price_day1  price_day2  \\\n",
       "0      0   base        1.0             0     1366667         0.0         0.0   \n",
       "1      0   base        1.0             1     1322625   1366667.0         0.0   \n",
       "\n",
       "   price_day3  price_day7  price_day14  price_day30    y_price  \n",
       "0         0.0         0.0          0.0          0.0  1688245.0  \n",
       "1         0.0         0.0          0.0          0.0  1774088.0  "
      ]
     },
     "execution_count": 76,
     "metadata": {},
     "output_type": "execute_result"
    }
   ],
   "source": [
    "df = pd.read_pickle('../data/ts_dataset.pkl')     # read the dataset\n",
    "\n",
    "df = df[df.y_price!=0]                            # drop observations with 0 target (usually SBCs)\n",
    "\n",
    "df.avg_goals.replace('-', 0, inplace=True)\n",
    "df['avg_goals'] = pd.to_numeric(df.avg_goals)\n",
    "df.avg_assists.replace('-', 0, inplace=True)\n",
    "df['avg_assists'] = pd.to_numeric(df.avg_assists)\n",
    "\n",
    "df.reset_index(drop=True, inplace=True)\n",
    "df.head(2)"
   ]
  },
  {
   "cell_type": "markdown",
   "metadata": {},
   "source": [
    "**Train/Test Split**:"
   ]
  },
  {
   "cell_type": "code",
   "execution_count": 77,
   "metadata": {},
   "outputs": [],
   "source": [
    "test_size = 0.25\n",
    "n_players = df.resource_id.nunique()\n",
    "players = df.resource_id.unique()\n",
    "players_test = np.random.choice(players, int(n_players*test_size))\n",
    "players_train = np.array([x for x in players if x not in players_test])"
   ]
  },
  {
   "cell_type": "code",
   "execution_count": 78,
   "metadata": {},
   "outputs": [
    {
     "name": "stdout",
     "output_type": "stream",
     "text": [
      "2853 players in Training Set\n",
      "919 players in Test Set\n",
      "21.89% Split\n"
     ]
    }
   ],
   "source": [
    "print(\"\"\"{} players in Training Set\\n{} players in Test Set\"\"\".format(int(len(players_train)), int(len(players_test))))\n",
    "print('{:2.2%} Split'.format(df[df.resource_id.isin(players_test)].shape[0] / df.shape[0]))"
   ]
  },
  {
   "cell_type": "code",
   "execution_count": 79,
   "metadata": {},
   "outputs": [],
   "source": [
    "df_train = df[df.resource_id.isin(players_train)]\n",
    "df_test = df[df.resource_id.isin(players_test)]\n",
    "\n",
    "y_train = df_train.y_price\n",
    "X_train = df_train.drop(['player_name', 'resource_id', 'date', 'y_price'], axis=1)\n",
    "\n",
    "y_test = df_test.y_price\n",
    "X_test = df_test.drop(['player_name', 'resource_id', 'date', 'y_price'], axis=1)"
   ]
  },
  {
   "cell_type": "markdown",
   "metadata": {},
   "source": [
    "**Pipelines**:"
   ]
  },
  {
   "cell_type": "code",
   "execution_count": 80,
   "metadata": {},
   "outputs": [],
   "source": [
    "cat_vars = ['club', 'league', 'nationality', 'att_workrate', 'def_workrate', 'gen_pos', 'promo', 'source', 'available']\n",
    "num_vars = [x for x in X_train.columns if x not in cat_vars]\n",
    "\n",
    "cat_mask = X_train.columns.isin(cat_vars); num_mask = X_train.columns.isin(num_vars)"
   ]
  },
  {
   "cell_type": "code",
   "execution_count": 89,
   "metadata": {},
   "outputs": [],
   "source": [
    "# constructing our column transformer\n",
    "ct = make_column_transformer((OneHotEncoder(handle_unknown='ignore', sparse=False), cat_mask),\n",
    "                             (StandardScaler(), ~cat_mask))\n",
    "\n",
    "\n",
    "model = make_pipeline(ct, RandomForestRegressor(n_estimators=100, random_state=42))"
   ]
  },
  {
   "cell_type": "code",
   "execution_count": 90,
   "metadata": {},
   "outputs": [
    {
     "name": "stdout",
     "output_type": "stream",
     "text": [
      "Fitting 5 folds for each of 6 candidates, totalling 30 fits\n"
     ]
    },
    {
     "name": "stderr",
     "output_type": "stream",
     "text": [
      "[Parallel(n_jobs=2)]: Using backend LokyBackend with 2 concurrent workers.\n"
     ]
    },
    {
     "ename": "KeyboardInterrupt",
     "evalue": "",
     "output_type": "error",
     "traceback": [
      "\u001b[0;31m---------------------------------------------------------------------------\u001b[0m",
      "\u001b[0;31mKeyboardInterrupt\u001b[0m                         Traceback (most recent call last)",
      "\u001b[0;32m<ipython-input-90-e87ba56c329b>\u001b[0m in \u001b[0;36m<module>\u001b[0;34m\u001b[0m\n\u001b[1;32m      1\u001b[0m \u001b[0mparam_grid\u001b[0m \u001b[0;34m=\u001b[0m \u001b[0;34m{\u001b[0m\u001b[0;34m'randomforestregressor__max_features'\u001b[0m\u001b[0;34m:\u001b[0m \u001b[0mnp\u001b[0m\u001b[0;34m.\u001b[0m\u001b[0mlinspace\u001b[0m\u001b[0;34m(\u001b[0m\u001b[0;36m3\u001b[0m\u001b[0;34m,\u001b[0m \u001b[0;36m8\u001b[0m\u001b[0;34m,\u001b[0m \u001b[0;36m6\u001b[0m\u001b[0;34m)\u001b[0m\u001b[0;34m.\u001b[0m\u001b[0mastype\u001b[0m\u001b[0;34m(\u001b[0m\u001b[0mint\u001b[0m\u001b[0;34m)\u001b[0m\u001b[0;34m}\u001b[0m\u001b[0;34m\u001b[0m\u001b[0m\n\u001b[0;32m----> 2\u001b[0;31m \u001b[0mgs\u001b[0m \u001b[0;34m=\u001b[0m \u001b[0mGridSearchCV\u001b[0m\u001b[0;34m(\u001b[0m\u001b[0mmodel\u001b[0m\u001b[0;34m,\u001b[0m \u001b[0mparam_grid\u001b[0m\u001b[0;34m,\u001b[0m \u001b[0mn_jobs\u001b[0m\u001b[0;34m=\u001b[0m\u001b[0;36m2\u001b[0m\u001b[0;34m,\u001b[0m \u001b[0mcv\u001b[0m\u001b[0;34m=\u001b[0m\u001b[0;36m5\u001b[0m\u001b[0;34m,\u001b[0m \u001b[0mverbose\u001b[0m\u001b[0;34m=\u001b[0m\u001b[0;36m1\u001b[0m\u001b[0;34m)\u001b[0m\u001b[0;34m.\u001b[0m\u001b[0mfit\u001b[0m\u001b[0;34m(\u001b[0m\u001b[0mX_train\u001b[0m\u001b[0;34m,\u001b[0m \u001b[0my_train\u001b[0m\u001b[0;34m)\u001b[0m\u001b[0;34m\u001b[0m\u001b[0m\n\u001b[0m",
      "\u001b[0;32m~/.virtualenvs/fut/lib/python3.7/site-packages/sklearn/model_selection/_search.py\u001b[0m in \u001b[0;36mfit\u001b[0;34m(self, X, y, groups, **fit_params)\u001b[0m\n\u001b[1;32m    720\u001b[0m                 \u001b[0;32mreturn\u001b[0m \u001b[0mresults_container\u001b[0m\u001b[0;34m[\u001b[0m\u001b[0;36m0\u001b[0m\u001b[0;34m]\u001b[0m\u001b[0;34m\u001b[0m\u001b[0m\n\u001b[1;32m    721\u001b[0m \u001b[0;34m\u001b[0m\u001b[0m\n\u001b[0;32m--> 722\u001b[0;31m             \u001b[0mself\u001b[0m\u001b[0;34m.\u001b[0m\u001b[0m_run_search\u001b[0m\u001b[0;34m(\u001b[0m\u001b[0mevaluate_candidates\u001b[0m\u001b[0;34m)\u001b[0m\u001b[0;34m\u001b[0m\u001b[0m\n\u001b[0m\u001b[1;32m    723\u001b[0m \u001b[0;34m\u001b[0m\u001b[0m\n\u001b[1;32m    724\u001b[0m         \u001b[0mresults\u001b[0m \u001b[0;34m=\u001b[0m \u001b[0mresults_container\u001b[0m\u001b[0;34m[\u001b[0m\u001b[0;36m0\u001b[0m\u001b[0;34m]\u001b[0m\u001b[0;34m\u001b[0m\u001b[0m\n",
      "\u001b[0;32m~/.virtualenvs/fut/lib/python3.7/site-packages/sklearn/model_selection/_search.py\u001b[0m in \u001b[0;36m_run_search\u001b[0;34m(self, evaluate_candidates)\u001b[0m\n\u001b[1;32m   1189\u001b[0m     \u001b[0;32mdef\u001b[0m \u001b[0m_run_search\u001b[0m\u001b[0;34m(\u001b[0m\u001b[0mself\u001b[0m\u001b[0;34m,\u001b[0m \u001b[0mevaluate_candidates\u001b[0m\u001b[0;34m)\u001b[0m\u001b[0;34m:\u001b[0m\u001b[0;34m\u001b[0m\u001b[0m\n\u001b[1;32m   1190\u001b[0m         \u001b[0;34m\"\"\"Search all candidates in param_grid\"\"\"\u001b[0m\u001b[0;34m\u001b[0m\u001b[0m\n\u001b[0;32m-> 1191\u001b[0;31m         \u001b[0mevaluate_candidates\u001b[0m\u001b[0;34m(\u001b[0m\u001b[0mParameterGrid\u001b[0m\u001b[0;34m(\u001b[0m\u001b[0mself\u001b[0m\u001b[0;34m.\u001b[0m\u001b[0mparam_grid\u001b[0m\u001b[0;34m)\u001b[0m\u001b[0;34m)\u001b[0m\u001b[0;34m\u001b[0m\u001b[0m\n\u001b[0m\u001b[1;32m   1192\u001b[0m \u001b[0;34m\u001b[0m\u001b[0m\n\u001b[1;32m   1193\u001b[0m \u001b[0;34m\u001b[0m\u001b[0m\n",
      "\u001b[0;32m~/.virtualenvs/fut/lib/python3.7/site-packages/sklearn/model_selection/_search.py\u001b[0m in \u001b[0;36mevaluate_candidates\u001b[0;34m(candidate_params)\u001b[0m\n\u001b[1;32m    709\u001b[0m                                \u001b[0;32mfor\u001b[0m \u001b[0mparameters\u001b[0m\u001b[0;34m,\u001b[0m \u001b[0;34m(\u001b[0m\u001b[0mtrain\u001b[0m\u001b[0;34m,\u001b[0m \u001b[0mtest\u001b[0m\u001b[0;34m)\u001b[0m\u001b[0;34m\u001b[0m\u001b[0m\n\u001b[1;32m    710\u001b[0m                                in product(candidate_params,\n\u001b[0;32m--> 711\u001b[0;31m                                           cv.split(X, y, groups)))\n\u001b[0m\u001b[1;32m    712\u001b[0m \u001b[0;34m\u001b[0m\u001b[0m\n\u001b[1;32m    713\u001b[0m                 \u001b[0mall_candidate_params\u001b[0m\u001b[0;34m.\u001b[0m\u001b[0mextend\u001b[0m\u001b[0;34m(\u001b[0m\u001b[0mcandidate_params\u001b[0m\u001b[0;34m)\u001b[0m\u001b[0;34m\u001b[0m\u001b[0m\n",
      "\u001b[0;32m~/.virtualenvs/fut/lib/python3.7/site-packages/sklearn/externals/joblib/parallel.py\u001b[0m in \u001b[0;36m__call__\u001b[0;34m(self, iterable)\u001b[0m\n\u001b[1;32m    928\u001b[0m \u001b[0;34m\u001b[0m\u001b[0m\n\u001b[1;32m    929\u001b[0m             \u001b[0;32mwith\u001b[0m \u001b[0mself\u001b[0m\u001b[0;34m.\u001b[0m\u001b[0m_backend\u001b[0m\u001b[0;34m.\u001b[0m\u001b[0mretrieval_context\u001b[0m\u001b[0;34m(\u001b[0m\u001b[0;34m)\u001b[0m\u001b[0;34m:\u001b[0m\u001b[0;34m\u001b[0m\u001b[0m\n\u001b[0;32m--> 930\u001b[0;31m                 \u001b[0mself\u001b[0m\u001b[0;34m.\u001b[0m\u001b[0mretrieve\u001b[0m\u001b[0;34m(\u001b[0m\u001b[0;34m)\u001b[0m\u001b[0;34m\u001b[0m\u001b[0m\n\u001b[0m\u001b[1;32m    931\u001b[0m             \u001b[0;31m# Make sure that we get a last message telling us we are done\u001b[0m\u001b[0;34m\u001b[0m\u001b[0;34m\u001b[0m\u001b[0m\n\u001b[1;32m    932\u001b[0m             \u001b[0melapsed_time\u001b[0m \u001b[0;34m=\u001b[0m \u001b[0mtime\u001b[0m\u001b[0;34m.\u001b[0m\u001b[0mtime\u001b[0m\u001b[0;34m(\u001b[0m\u001b[0;34m)\u001b[0m \u001b[0;34m-\u001b[0m \u001b[0mself\u001b[0m\u001b[0;34m.\u001b[0m\u001b[0m_start_time\u001b[0m\u001b[0;34m\u001b[0m\u001b[0m\n",
      "\u001b[0;32m~/.virtualenvs/fut/lib/python3.7/site-packages/sklearn/externals/joblib/parallel.py\u001b[0m in \u001b[0;36mretrieve\u001b[0;34m(self)\u001b[0m\n\u001b[1;32m    831\u001b[0m             \u001b[0;32mtry\u001b[0m\u001b[0;34m:\u001b[0m\u001b[0;34m\u001b[0m\u001b[0m\n\u001b[1;32m    832\u001b[0m                 \u001b[0;32mif\u001b[0m \u001b[0mgetattr\u001b[0m\u001b[0;34m(\u001b[0m\u001b[0mself\u001b[0m\u001b[0;34m.\u001b[0m\u001b[0m_backend\u001b[0m\u001b[0;34m,\u001b[0m \u001b[0;34m'supports_timeout'\u001b[0m\u001b[0;34m,\u001b[0m \u001b[0;32mFalse\u001b[0m\u001b[0;34m)\u001b[0m\u001b[0;34m:\u001b[0m\u001b[0;34m\u001b[0m\u001b[0m\n\u001b[0;32m--> 833\u001b[0;31m                     \u001b[0mself\u001b[0m\u001b[0;34m.\u001b[0m\u001b[0m_output\u001b[0m\u001b[0;34m.\u001b[0m\u001b[0mextend\u001b[0m\u001b[0;34m(\u001b[0m\u001b[0mjob\u001b[0m\u001b[0;34m.\u001b[0m\u001b[0mget\u001b[0m\u001b[0;34m(\u001b[0m\u001b[0mtimeout\u001b[0m\u001b[0;34m=\u001b[0m\u001b[0mself\u001b[0m\u001b[0;34m.\u001b[0m\u001b[0mtimeout\u001b[0m\u001b[0;34m)\u001b[0m\u001b[0;34m)\u001b[0m\u001b[0;34m\u001b[0m\u001b[0m\n\u001b[0m\u001b[1;32m    834\u001b[0m                 \u001b[0;32melse\u001b[0m\u001b[0;34m:\u001b[0m\u001b[0;34m\u001b[0m\u001b[0m\n\u001b[1;32m    835\u001b[0m                     \u001b[0mself\u001b[0m\u001b[0;34m.\u001b[0m\u001b[0m_output\u001b[0m\u001b[0;34m.\u001b[0m\u001b[0mextend\u001b[0m\u001b[0;34m(\u001b[0m\u001b[0mjob\u001b[0m\u001b[0;34m.\u001b[0m\u001b[0mget\u001b[0m\u001b[0;34m(\u001b[0m\u001b[0;34m)\u001b[0m\u001b[0;34m)\u001b[0m\u001b[0;34m\u001b[0m\u001b[0m\n",
      "\u001b[0;32m~/.virtualenvs/fut/lib/python3.7/site-packages/sklearn/externals/joblib/_parallel_backends.py\u001b[0m in \u001b[0;36mwrap_future_result\u001b[0;34m(future, timeout)\u001b[0m\n\u001b[1;32m    519\u001b[0m         AsyncResults.get from multiprocessing.\"\"\"\n\u001b[1;32m    520\u001b[0m         \u001b[0;32mtry\u001b[0m\u001b[0;34m:\u001b[0m\u001b[0;34m\u001b[0m\u001b[0m\n\u001b[0;32m--> 521\u001b[0;31m             \u001b[0;32mreturn\u001b[0m \u001b[0mfuture\u001b[0m\u001b[0;34m.\u001b[0m\u001b[0mresult\u001b[0m\u001b[0;34m(\u001b[0m\u001b[0mtimeout\u001b[0m\u001b[0;34m=\u001b[0m\u001b[0mtimeout\u001b[0m\u001b[0;34m)\u001b[0m\u001b[0;34m\u001b[0m\u001b[0m\n\u001b[0m\u001b[1;32m    522\u001b[0m         \u001b[0;32mexcept\u001b[0m \u001b[0mLokyTimeoutError\u001b[0m\u001b[0;34m:\u001b[0m\u001b[0;34m\u001b[0m\u001b[0m\n\u001b[1;32m    523\u001b[0m             \u001b[0;32mraise\u001b[0m \u001b[0mTimeoutError\u001b[0m\u001b[0;34m(\u001b[0m\u001b[0;34m)\u001b[0m\u001b[0;34m\u001b[0m\u001b[0m\n",
      "\u001b[0;32m/usr/local/Cellar/python/3.7.0/Frameworks/Python.framework/Versions/3.7/lib/python3.7/concurrent/futures/_base.py\u001b[0m in \u001b[0;36mresult\u001b[0;34m(self, timeout)\u001b[0m\n\u001b[1;32m    425\u001b[0m                 \u001b[0;32mreturn\u001b[0m \u001b[0mself\u001b[0m\u001b[0;34m.\u001b[0m\u001b[0m__get_result\u001b[0m\u001b[0;34m(\u001b[0m\u001b[0;34m)\u001b[0m\u001b[0;34m\u001b[0m\u001b[0m\n\u001b[1;32m    426\u001b[0m \u001b[0;34m\u001b[0m\u001b[0m\n\u001b[0;32m--> 427\u001b[0;31m             \u001b[0mself\u001b[0m\u001b[0;34m.\u001b[0m\u001b[0m_condition\u001b[0m\u001b[0;34m.\u001b[0m\u001b[0mwait\u001b[0m\u001b[0;34m(\u001b[0m\u001b[0mtimeout\u001b[0m\u001b[0;34m)\u001b[0m\u001b[0;34m\u001b[0m\u001b[0m\n\u001b[0m\u001b[1;32m    428\u001b[0m \u001b[0;34m\u001b[0m\u001b[0m\n\u001b[1;32m    429\u001b[0m             \u001b[0;32mif\u001b[0m \u001b[0mself\u001b[0m\u001b[0;34m.\u001b[0m\u001b[0m_state\u001b[0m \u001b[0;32min\u001b[0m \u001b[0;34m[\u001b[0m\u001b[0mCANCELLED\u001b[0m\u001b[0;34m,\u001b[0m \u001b[0mCANCELLED_AND_NOTIFIED\u001b[0m\u001b[0;34m]\u001b[0m\u001b[0;34m:\u001b[0m\u001b[0;34m\u001b[0m\u001b[0m\n",
      "\u001b[0;32m/usr/local/Cellar/python/3.7.0/Frameworks/Python.framework/Versions/3.7/lib/python3.7/threading.py\u001b[0m in \u001b[0;36mwait\u001b[0;34m(self, timeout)\u001b[0m\n\u001b[1;32m    294\u001b[0m         \u001b[0;32mtry\u001b[0m\u001b[0;34m:\u001b[0m    \u001b[0;31m# restore state no matter what (e.g., KeyboardInterrupt)\u001b[0m\u001b[0;34m\u001b[0m\u001b[0m\n\u001b[1;32m    295\u001b[0m             \u001b[0;32mif\u001b[0m \u001b[0mtimeout\u001b[0m \u001b[0;32mis\u001b[0m \u001b[0;32mNone\u001b[0m\u001b[0;34m:\u001b[0m\u001b[0;34m\u001b[0m\u001b[0m\n\u001b[0;32m--> 296\u001b[0;31m                 \u001b[0mwaiter\u001b[0m\u001b[0;34m.\u001b[0m\u001b[0macquire\u001b[0m\u001b[0;34m(\u001b[0m\u001b[0;34m)\u001b[0m\u001b[0;34m\u001b[0m\u001b[0m\n\u001b[0m\u001b[1;32m    297\u001b[0m                 \u001b[0mgotit\u001b[0m \u001b[0;34m=\u001b[0m \u001b[0;32mTrue\u001b[0m\u001b[0;34m\u001b[0m\u001b[0m\n\u001b[1;32m    298\u001b[0m             \u001b[0;32melse\u001b[0m\u001b[0;34m:\u001b[0m\u001b[0;34m\u001b[0m\u001b[0m\n",
      "\u001b[0;31mKeyboardInterrupt\u001b[0m: "
     ]
    }
   ],
   "source": [
    "param_grid = {'randomforestregressor__max_features': np.linspace(3, 8, 6).astype(int)}\n",
    "gs = GridSearchCV(model, param_grid, n_jobs=2, cv=5, verbose=1).fit(X_train, y_train)"
   ]
  },
  {
   "cell_type": "code",
   "execution_count": null,
   "metadata": {},
   "outputs": [],
   "source": []
  }
 ],
 "metadata": {
  "kernelspec": {
   "display_name": "Python 3",
   "language": "python",
   "name": "python3"
  },
  "language_info": {
   "codemirror_mode": {
    "name": "ipython",
    "version": 3
   },
   "file_extension": ".py",
   "mimetype": "text/x-python",
   "name": "python",
   "nbconvert_exporter": "python",
   "pygments_lexer": "ipython3",
   "version": "3.7.0"
  }
 },
 "nbformat": 4,
 "nbformat_minor": 2
}
